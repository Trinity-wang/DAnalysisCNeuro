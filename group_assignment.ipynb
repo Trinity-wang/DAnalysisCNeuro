{
 "cells": [
  {
   "cell_type": "markdown",
   "metadata": {
    "colab_type": "text",
    "id": "UE1Rc8hOhv6N"
   },
   "source": [
    "# Assignment 3 Data Analysis via Pandas\n",
    "\n",
    "Get an experimentally informed connection matrix from from http://hippocampome.org/netlist\n",
    "Or an excell spreadsheet of similar origin.\n",
    "\n",
    "https://collab.humanbrainproject.eu/#/collab/5458/nav/42545\n"
   ]
  },
  {
   "cell_type": "code",
   "execution_count": 1,
   "metadata": {
    "colab": {
     "autoexec": {
      "startup": false,
      "wait_interval": 0
     },
     "base_uri": "https://localhost:8080/",
     "height": 34,
     "output_extras": [
      {
       "item_id": 1
      }
     ]
    },
    "colab_type": "code",
    "collapsed": false,
    "executionInfo": {
     "elapsed": 29042,
     "status": "ok",
     "timestamp": 1518449624332,
     "user": {
      "displayName": "Russell Jarvis",
      "photoUrl": "//lh5.googleusercontent.com/-HErtjr0-Ccs/AAAAAAAAAAI/AAAAAAAAAIY/fRiNN3tWm98/s50-c-k-no/photo.jpg",
      "userId": "109547486525142728971"
     },
     "user_tz": 420
    },
    "id": "LibJ633qBq06",
    "outputId": "92701c6a-49df-4104-848e-f397b9625c87"
   },
   "outputs": [
    {
     "name": "stdout",
     "output_type": "stream",
     "text": [
      "/opt/conda/lib/python3.5/site-packages/pyNN/neuron/nmodl\n",
      "ProbAMPANMDA_EMS.mod ProbGABAAB_EMS.mod adexp.mod alphaisyn.mod alphasyn.mod expisyn.mod gammastim.mod gap.mod gif.mod gsfa_grr.mod hh_traub.mod izhikevich.mod netstim2.mod poisson_stim_refractory.mod quantal_stp.mod refrac.mod reset.mod stdwa_guetig.mod stdwa_softlimits.mod stdwa_songabbott.mod stdwa_symm.mod stdwa_vogels2011.mod stochastic_synapse.mod stochastic_tsodyksmarkram.mod tmgsyn.mod tmisyn.mod tsodyksmarkram.mod vecstim.mod\n",
      "ProbAMPANMDA_EMS.mod ProbGABAAB_EMS.mod adexp.mod alphaisyn.mod alphasyn.mod expisyn.mod gammastim.mod gap.mod gif.mod gsfa_grr.mod hh_traub.mod izhikevich.mod netstim2.mod poisson_stim_refractory.mod quantal_stp.mod refrac.mod reset.mod stdwa_guetig.mod stdwa_softlimits.mod stdwa_songabbott.mod stdwa_symm.mod stdwa_vogels2011.mod stochastic_synapse.mod stochastic_tsodyksmarkram.mod tmgsyn.mod tmisyn.mod tsodyksmarkram.mod vecstim.mod\n",
      "\"/home/jovyan/nrn-7.4/share/nrn/libtool\" --tag=CC --mode=compile mpicc -DHAVE_CONFIG_H  -I. -I.. -I\"/home/jovyan/nrn-7.4/include/nrn\" -I\"/home/jovyan/nrn-7.4/x86_64/lib\"      -g -O2 -c -o mod_func.lo mod_func.c\n",
      "libtool: compile:  mpicc -DHAVE_CONFIG_H -I. -I.. -I/home/jovyan/nrn-7.4/include/nrn -I/home/jovyan/nrn-7.4/x86_64/lib -g -O2 -c mod_func.c  -fPIC -DPIC -o .libs/mod_func.o\n",
      "\"/home/jovyan/nrn-7.4/share/nrn/libtool\" --tag=CC --mode=link mpicc -module  -g -O2    -o libnrnmech.la -rpath \"/home/jovyan/nrn-7.4/x86_64/lib\"  ProbAMPANMDA_EMS.lo ProbGABAAB_EMS.lo adexp.lo alphaisyn.lo alphasyn.lo expisyn.lo gammastim.lo gap.lo gif.lo gsfa_grr.lo hh_traub.lo izhikevich.lo netstim2.lo poisson_stim_refractory.lo quantal_stp.lo refrac.lo reset.lo stdwa_guetig.lo stdwa_softlimits.lo stdwa_songabbott.lo stdwa_symm.lo stdwa_vogels2011.lo stochastic_synapse.lo stochastic_tsodyksmarkram.lo tmgsyn.lo tmisyn.lo tsodyksmarkram.lo vecstim.lo mod_func.lo  -L\"/home/jovyan/nrn-7.4/x86_64/lib\" -lnrnoc -loc -lmemacs -lnrnmpi -lscopmath -lsparse13 -lreadline -lncurses -L\"/home/jovyan/nrn-7.4/x86_64/lib\" \"/home/jovyan/nrn-7.4/x86_64/lib/libnrniv.la\" -livoc -lneuron_gnu -lmeschach -lsundials -livos      -lm -ldl\n",
      "libtool: link: rm -fr  .libs/libnrnmech.la .libs/libnrnmech.lai .libs/libnrnmech.so .libs/libnrnmech.so.0 .libs/libnrnmech.so.0.0.0\n",
      "libtool: link: mpicc -shared  -fPIC -DPIC  .libs/ProbAMPANMDA_EMS.o .libs/ProbGABAAB_EMS.o .libs/adexp.o .libs/alphaisyn.o .libs/alphasyn.o .libs/expisyn.o .libs/gammastim.o .libs/gap.o .libs/gif.o .libs/gsfa_grr.o .libs/hh_traub.o .libs/izhikevich.o .libs/netstim2.o .libs/poisson_stim_refractory.o .libs/quantal_stp.o .libs/refrac.o .libs/reset.o .libs/stdwa_guetig.o .libs/stdwa_softlimits.o .libs/stdwa_songabbott.o .libs/stdwa_symm.o .libs/stdwa_vogels2011.o .libs/stochastic_synapse.o .libs/stochastic_tsodyksmarkram.o .libs/tmgsyn.o .libs/tmisyn.o .libs/tsodyksmarkram.o .libs/vecstim.o .libs/mod_func.o   -Wl,-rpath -Wl,/home/jovyan/nrn-7.4/x86_64/lib -Wl,-rpath -Wl,/home/jovyan/nrn-7.4/x86_64/lib -L/home/jovyan/nrn-7.4/x86_64/lib /home/jovyan/nrn-7.4/x86_64/lib/libnrnoc.so /home/jovyan/nrn-7.4/x86_64/lib/liboc.so /home/jovyan/nrn-7.4/x86_64/lib/libmemacs.so /home/jovyan/nrn-7.4/x86_64/lib/libnrnmpi.so /home/jovyan/nrn-7.4/x86_64/lib/libscopmath.so /home/jovyan/nrn-7.4/x86_64/lib/libsparse13.so -lreadline -lncurses /home/jovyan/nrn-7.4/x86_64/lib/libnrniv.so /home/jovyan/nrn-7.4/x86_64/lib/libivoc.so /home/jovyan/nrn-7.4/x86_64/lib/libneuron_gnu.so /home/jovyan/nrn-7.4/x86_64/lib/libmeschach.so /home/jovyan/nrn-7.4/x86_64/lib/libsundials.so /home/jovyan/nrn-7.4/x86_64/lib/libivos.so -lm -ldl  -O2   -Wl,-soname -Wl,libnrnmech.so.0 -o .libs/libnrnmech.so.0.0.0\n",
      "libtool: link: (cd \".libs\" && rm -f \"libnrnmech.so.0\" && ln -s \"libnrnmech.so.0.0.0\" \"libnrnmech.so.0\")\n",
      "libtool: link: (cd \".libs\" && rm -f \"libnrnmech.so\" && ln -s \"libnrnmech.so.0.0.0\" \"libnrnmech.so\")\n",
      "libtool: link: ( cd \".libs\" && rm -f \"libnrnmech.la\" && ln -s \"../libnrnmech.la\" \"libnrnmech.la\" )\n",
      "Successfully created x86_64/special\n"
     ]
    }
   ],
   "source": [
    "import os\n",
    "import pandas as pd\n",
    "\n",
    "\n",
    "# Perform some system admin\n",
    "\n",
    "import os\n",
    "import pandas as pd\n",
    "import sys\n",
    "import matplotlib as mpl\n",
    "%matplotlib inline\n",
    "mpl.rcParams.update({'font.size':16})\n",
    "installs = ['neuron','mpi4py','xlrd','pyNN','seaborn','lazyarray','neo','neuron','brian2']\n",
    "def install_deps(i):\n",
    "  '''\n",
    "  Hack in dependencies to sys.path\n",
    "  '''\n",
    "  import os\n",
    "  if i not in sys.path:\n",
    "    os.system('pip install '+str(i))    \n",
    "\n",
    "_ = list(map(install_deps,installs))\n",
    "import os\n",
    "temp = os.getcwd()\n",
    "os.chdir('/opt/conda/lib/python3.5/site-packages/pyNN/neuron/nmodl')\n",
    "#!ls\n",
    "#os.system('nrnivmodl')\n",
    "!nrnivmodl\n",
    "os.chdir(temp)\n",
    "\n",
    "#import lazyarray\n",
    "#import pyNN\n",
    "import os\n",
    "import pandas as pd\n",
    "\n",
    "\n",
    "\n",
    "# Get some hippocampus connectivity data, based on a conversation with\n",
    "# academic researchers on GH:\n",
    "# https://github.com/Hippocampome-Org/GraphTheory/issues?q=is%3Aissue+is%3Aclosed\n",
    "# scrape hippocamome connectivity data, that I intend to use to program neuromorphic hardware.\n",
    "# conditionally get files if they don't exist.\n",
    "\n",
    "\n",
    "# This connection matrix is not very informative, because it only tells you about connections dissociated From\n",
    "# a stable list of cellular entities.\n",
    "# path = 'netlist'\n",
    "# if not os.path.exists(path):\n",
    "#     os.system('wget http://hippocampome.org/netlist')\n",
    "# nldf = pd.read_csv('netlist',delimiter=',').dropna()\n",
    "\n",
    "path_xl = '_hybrid_connectivity_matrix_20171103_092033.xlsx'\n",
    "if not os.path.exists(path_xl):\n",
    "    os.system('wget https://github.com/Hippocampome-Org/GraphTheory/files/1657258/_hybrid_connectivity_matrix_20171103_092033.xlsx')\n",
    "\n",
    "xl = pd.ExcelFile(path_xl)\n",
    "dfEE = xl.parse()\n",
    "dfEE.loc[0].keys()\n",
    "\n",
    "\n",
    "import matplotlib.pyplot as plt\n",
    "dfm = dfEE.as_matrix()\n"
   ]
  },
  {
   "cell_type": "code",
   "execution_count": 2,
   "metadata": {
    "colab": {
     "autoexec": {
      "startup": false,
      "wait_interval": 0
     },
     "base_uri": "https://localhost:8080/",
     "height": 573,
     "output_extras": [
      {
       "item_id": 6
      },
      {
       "item_id": 7
      }
     ]
    },
    "colab_type": "code",
    "collapsed": false,
    "executionInfo": {
     "elapsed": 4194,
     "status": "ok",
     "timestamp": 1518450004036,
     "user": {
      "displayName": "Russell Jarvis",
      "photoUrl": "//lh5.googleusercontent.com/-HErtjr0-Ccs/AAAAAAAAAAI/AAAAAAAAAIY/fRiNN3tWm98/s50-c-k-no/photo.jpg",
      "userId": "109547486525142728971"
     },
     "user_tz": 420
    },
    "id": "3NNiXkq-Oep6",
    "outputId": "c8faf344-cda1-4418-fd12-5a4f69d3e0a2"
   },
   "outputs": [
    {
     "name": "stdout",
     "output_type": "stream",
     "text": [
      "[[1 0 1 ..., 0 0 0]\n",
      " [1 1 2 ..., 0 0 0]\n",
      " [1 1 2 ..., 0 0 0]\n",
      " ..., \n",
      " [0 0 0 ..., -1 -1 -1]\n",
      " [0 0 0 ..., -1 -1 -1]\n",
      " [0 0 0 ..., -1 -1 -1]]\n"
     ]
    }
   ],
   "source": [
    "\n",
    "filtered = dfm[:,3:]\n",
    "filtered = filtered[1:]\n",
    "#print(filtered[1:])"
   ]
  },
  {
   "cell_type": "code",
   "execution_count": 3,
   "metadata": {
    "colab": {
     "autoexec": {
      "startup": false,
      "wait_interval": 0
     },
     "base_uri": "https://localhost:8080/",
     "height": 652,
     "output_extras": [
      {
       "item_id": 1
      },
      {
       "item_id": 2
      }
     ]
    },
    "colab_type": "code",
    "collapsed": false,
    "executionInfo": {
     "elapsed": 454,
     "status": "error",
     "timestamp": 1518449625612,
     "user": {
      "displayName": "Russell Jarvis",
      "photoUrl": "//lh5.googleusercontent.com/-HErtjr0-Ccs/AAAAAAAAAAI/AAAAAAAAAIY/fRiNN3tWm98/s50-c-k-no/photo.jpg",
      "userId": "109547486525142728971"
     },
     "user_tz": 420
    },
    "id": "dNffjJS_B4KG",
    "outputId": "9e251a8b-d3c0-4148-95f6-48d88e647feb"
   },
   "outputs": [
    {
     "name": "stdout",
     "output_type": "stream",
     "text": [
      "[['↓' 'UniqueID' 1000 ..., 6040 6087 6038]\n",
      " ['DG: Granule (+)2201p' 1000 0 ..., 0 0 0]\n",
      " ['DG: Hilar Ectopic Granule (+)2203p' 1041 0 ..., 0 0 0]\n",
      " ..., \n",
      " ['EC: MEC LIII Superficial MPI (-)233000' 6040 0 ..., -1 -1 -1]\n",
      " ['EC: LIII Pyramidal-Looking (-)023300' 6087 0 ..., -1 -1 -1]\n",
      " ['EC: MEC LIII Superficial Trilayer (-)333000' 6038 0 ..., -1 -1 -1]]\n",
      "(122, 122)\n"
     ]
    }
   ],
   "source": [
    "\n",
    "import numpy as np\n",
    "from pyNN.neuron import STDPMechanism\n",
    "import copy\n",
    "print(dfm)\n",
    "EElist = []\n",
    "IIlist = []\n",
    "for i,j in enumerate(filtered):\n",
    "  for k,xaxis in enumerate(j):\n",
    "    if xaxis==1 or xaxis ==2:\n",
    "      source = i\n",
    "      target = k\n",
    "      delay = 0.0\n",
    "      weight = 0.1\n",
    "      EElist.append((source,target,delay,weight))\n",
    "        \n",
    "    if xaxis==-1 or xaxis ==-2:\n",
    "      source = i\n",
    "      target = k\n",
    "      delay = 0.0\n",
    "      weight = 0.1\n",
    "      IIlist.append((source,target,delay,weight))     \n",
    "import matplotlib \n",
    "matplotlib.pyplot.imshow\n",
    "\n",
    "ml = len(filtered[1])+1\n",
    "plot_excit = np.zeros(shape=(ml,ml))\n",
    "plot_inhib = np.zeros(shape=(ml,ml))\n",
    "pre_exc = []\n",
    "post_exc = []\n",
    "pre_inh = []\n",
    "post_inh = []\n",
    "print(np.shape(plot_excit))\n",
    "for i in EElist:\n",
    "    plot_excit[i[0],i[1]]=1\n",
    "    pre_exc.append(i[0])\n",
    "    post_exc.append(i[1])\n",
    "for i in IIlist:\n",
    "    plot_inhib[i[0],i[1]]=1\n",
    "    pre_inh.append(i[0])\n",
    "    post_inh.append(i[1])\n",
    "\n",
    " \n",
    "    "
   ]
  },
  {
   "cell_type": "code",
   "execution_count": 4,
   "metadata": {
    "collapsed": false
   },
   "outputs": [],
   "source": [
    "\n",
    "index_exc = [ i for i,d in enumerate(dfm) if '+' in d[0] ]\n",
    "import pyNN.neuron as neuron\n",
    "index_inh = [ i for i,d in enumerate(dfm) if '-' in d[0] ]\n",
    "pop_exc = neuron.Population(len(index_exc), neuron.Izhikevich(i_offset=0))\n",
    "pop_inh = neuron.Population(len(index_inh), neuron.Izhikevich(i_offset=0))\n"
   ]
  },
  {
   "cell_type": "markdown",
   "metadata": {},
   "source": [
    "# Plot all the Projection pairs as a connection matrix (Excitatory and Inhibitory Connections)"
   ]
  },
  {
   "cell_type": "code",
   "execution_count": 5,
   "metadata": {
    "collapsed": false
   },
   "outputs": [
    {
     "name": "stderr",
     "output_type": "stream",
     "text": [
      "/opt/conda/lib/python3.5/site-packages/matplotlib/cbook/deprecation.py:106: MatplotlibDeprecationWarning: The axisbg attribute was deprecated in version 2.0. Use facecolor instead.\n",
      "  warnings.warn(message, mplDeprecation, stacklevel=1)\n",
      "/opt/conda/lib/python3.5/site-packages/matplotlib/figure.py:418: UserWarning: matplotlib is currently using a non-GUI backend, so cannot show the figure\n",
      "  \"matplotlib is currently using a non-GUI backend, \"\n"
     ]
    },
    {
     "data": {
      "image/png": "[encoded data removed]",
      "text/plain": [
       "<matplotlib.figure.Figure at 0x7fb71cb5d978>"
      ]
     },
     "metadata": {},
     "output_type": "display_data"
    }
   ],
   "source": [
    "#sns.pairplot(df, hue=\"species\")\n",
    "from scipy.sparse import coo_matrix\n",
    "m = np.matrix(filtered[1:])\n",
    "if not isinstance(m, coo_matrix):\n",
    "    m = coo_matrix(m)\n",
    "fig = plt.figure()\n",
    "ax = fig.add_subplot(111, axisbg='black')\n",
    "ax.plot(m.col, m.row, 's', color='white', ms=1)\n",
    "ax.set_xlim(0, m.shape[1])\n",
    "ax.set_ylim(0, m.shape[0])\n",
    "ax.set_aspect('equal')\n",
    "for spine in ax.spines.values():\n",
    "    spine.set_visible(False)\n",
    "ax.invert_yaxis()\n",
    "ax.set_aspect('equal')\n",
    "ax.set_xticks([])\n",
    "ax.set_yticks([])\n",
    "ax.figure.show()\n"
   ]
  },
  {
   "cell_type": "markdown",
   "metadata": {},
   "source": [
    "# A plot of the excitatory synapse connectivity matrix\n"
   ]
  },
  {
   "cell_type": "code",
   "execution_count": 6,
   "metadata": {
    "collapsed": false
   },
   "outputs": [
    {
     "data": {
      "text/plain": [
       "<matplotlib.image.AxesImage at 0x7fb7192903c8>"
      ]
     },
     "execution_count": 6,
     "metadata": {},
     "output_type": "execute_result"
    },
    {
     "data": {
      "image/png": "[encoded data removed]",
      "text/plain": [
       "<matplotlib.figure.Figure at 0x7fb71cfad320>"
      ]
     },
     "metadata": {},
     "output_type": "display_data"
    }
   ],
   "source": [
    "matplotlib.pyplot.imshow(plot_excit)   "
   ]
  },
  {
   "cell_type": "markdown",
   "metadata": {},
   "source": [
    "# A plot of the inhibitory synapse connectivity matrix\n"
   ]
  },
  {
   "cell_type": "code",
   "execution_count": 7,
   "metadata": {
    "collapsed": false
   },
   "outputs": [
    {
     "data": {
      "text/plain": [
       "<matplotlib.image.AxesImage at 0x7fb71925f550>"
      ]
     },
     "execution_count": 7,
     "metadata": {},
     "output_type": "execute_result"
    },
    {
     "data": {
      "image/png": "[encoded data removed]",
      "text/plain": [
       "<matplotlib.figure.Figure at 0x7fb71caf3b70>"
      ]
     },
     "metadata": {},
     "output_type": "display_data"
    }
   ],
   "source": [
    "matplotlib.pyplot.imshow(plot_inhib)   \n"
   ]
  },
  {
   "cell_type": "code",
   "execution_count": 8,
   "metadata": {
    "collapsed": false
   },
   "outputs": [],
   "source": [
    "from pyNN.neuron import h\n",
    "from pyNN import neuron\n",
    "from pyNN.neuron import StandardCellType, ParameterSpace\n",
    "#print(dir(StandardCellType))\n",
    "#print(dir(ParameterSpace))\n"
   ]
  },
  {
   "cell_type": "code",
   "execution_count": 9,
   "metadata": {
    "collapsed": false,
    "scrolled": true
   },
   "outputs": [
    {
     "name": "stdout",
     "output_type": "stream",
     "text": [
      "2003 98\n",
      "['__class__', '__delattr__', '__dict__', '__dir__', '__doc__', '__eq__', '__format__', '__ge__', '__getattribute__', '__gt__', '__hash__', '__init__', '__le__', '__lt__', '__module__', '__ne__', '__new__', '__reduce__', '__reduce_ex__', '__repr__', '__setattr__', '__sizeof__', '__str__', '__subclasshook__', '__weakref__', '_generate_distance_map', '_parameters_from_synapse_type', 'callback', 'column_names', 'conn_list', 'connect', 'describe', 'get_parameters', 'parameter_names', 'safe']\n",
      "[[  5.00000000e+00   0.00000000e+00   0.00000000e+00   1.00000000e-01]\n",
      " [  1.00000000e+01   0.00000000e+00   0.00000000e+00   1.00000000e-01]\n",
      " [  6.70000000e+01   0.00000000e+00   0.00000000e+00   1.00000000e-01]\n",
      " ..., \n",
      " [  1.14000000e+02   1.20000000e+02   0.00000000e+00   1.00000000e-01]\n",
      " [  1.20000000e+02   1.20000000e+02   0.00000000e+00   1.00000000e-01]\n",
      " [  1.21000000e+02   1.20000000e+02   0.00000000e+00   1.00000000e-01]]\n",
      "['weight', 'delay']\n"
     ]
    }
   ],
   "source": [
    "import pyNN\n",
    "from pyNN.random import RandomDistribution, NumpyRNG\n",
    "\n",
    "from pyNN.neuron import STDPMechanism, SpikePairRule, AdditiveWeightDependence, FromListConnector, TsodyksMarkramSynapse\n",
    "from pyNN.neuron import Projection\n",
    "\n",
    "rng = NumpyRNG(seed=64754)\n",
    "\n",
    "\n",
    "weight_distr = RandomDistribution('normal', [0.01, 1e-3], rng=rng)\n",
    "\n",
    "stdp_inhib = STDPMechanism(\n",
    "          weight=weight_distr,  # this is the initial value of the weight\n",
    "          delay=\"0.2 + 0.01*d\",\n",
    "          timing_dependence=SpikePairRule(tau_plus=20.0, tau_minus=20.0,\n",
    "                                          A_plus=0.01, A_minus=0.012),\n",
    "          weight_dependence=AdditiveWeightDependence(w_min=0, w_max=0.04))\n",
    "\n",
    "connector = FromListConnector(IIlist, column_names=[\"weight\", \"delay\"])\n",
    "\n",
    "\n",
    "pop = neuron.Population(len(index_exc)+len(index_inh), neuron.Izhikevich(i_offset=0))\n",
    "\n",
    "\n",
    "inhib_connections = Projection(pop, pop, connector,\n",
    "                                    stdp_inhib)\n",
    "\n",
    "\n",
    "print(len(IIlist),len(pop_inh))\n",
    "print(dir(connector))\n",
    "print(connector.conn_list)\n",
    "print(connector.column_names)\n"
   ]
  },
  {
   "cell_type": "code",
   "execution_count": 10,
   "metadata": {
    "collapsed": false
   },
   "outputs": [
    {
     "name": "stdout",
     "output_type": "stream",
     "text": [
      "STDPMechanism(<parameters>)\n"
     ]
    }
   ],
   "source": [
    "\n",
    "stdp = STDPMechanism(\n",
    "          weight=0.02,  # this is the initial value of the weight\n",
    "          delay=\"0.2 + 0.01*d\",\n",
    "          timing_dependence=SpikePairRule(tau_plus=20.0, tau_minus=20.0,\n",
    "                                          A_plus=0.01, A_minus=0.012),\n",
    "          weight_dependence=AdditiveWeightDependence(w_min=0, w_max=0.04))\n",
    "\n",
    "connector = FromListConnector(EElist, column_names=[\"weight\", \"delay\"])\n",
    "excitatory_connections = Projection(pop, pop, connector,\n",
    "                                    stdp)\n",
    "print(stdp)\n",
    "\n"
   ]
  },
  {
   "cell_type": "code",
   "execution_count": 17,
   "metadata": {
    "colab": {
     "autoexec": {
      "startup": false,
      "wait_interval": 0
     },
     "base_uri": "https://localhost:8080/",
     "height": 260,
     "output_extras": [
      {
       "item_id": 1
      }
     ]
    },
    "colab_type": "code",
    "collapsed": false,
    "executionInfo": {
     "elapsed": 388,
     "status": "ok",
     "timestamp": 1518016626816,
     "user": {
      "displayName": "Russell Jarvis",
      "photoUrl": "//lh5.googleusercontent.com/-HErtjr0-Ccs/AAAAAAAAAAI/AAAAAAAAAIY/fRiNN3tWm98/s50-c-k-no/photo.jpg",
      "userId": "109547486525142728971"
     },
     "user_tz": 420
    },
    "id": "G0cEfPGmBur8",
    "outputId": "a349f6c8-dca6-4fba-9d73-206dd1f021d0"
   },
   "outputs": [
    {
     "name": "stdout",
     "output_type": "stream",
     "text": [
      "<neo.core.block.Block object at 0x7fb741076710>\n"
     ]
    }
   ],
   "source": [
    "##\n",
    "# Setup and run a simulation. Note there is no current injection into the neuron.\n",
    "# All cells in the network are in a quiescent state, so its not a surprise that there are no spikes\n",
    "##\n",
    "neuron.setup(timestep=1.0, min_delay=1.0)\n",
    "pop.record(\"spikes\")\n",
    "neuron.run(1000)\n",
    "pop.set(i_offset=1.0)\n",
    "neuron.run(1000)\n",
    "pop.set(i_offset=0.0)\n",
    "neuron.run(1000)\n",
    "spikes = pop.get_data(\"spikes\")\n",
    "neuron.end()\n",
    "print(spikes)"
   ]
  },
  {
   "cell_type": "code",
   "execution_count": 11,
   "metadata": {
    "colab": {
     "autoexec": {
      "startup": false,
      "wait_interval": 0
     },
     "base_uri": "https://localhost:8080/",
     "height": 236,
     "output_extras": [
      {
       "item_id": 1
      }
     ]
    },
    "colab_type": "code",
    "collapsed": false,
    "executionInfo": {
     "elapsed": 417,
     "status": "error",
     "timestamp": 1518016627314,
     "user": {
      "displayName": "Russell Jarvis",
      "photoUrl": "//lh5.googleusercontent.com/-HErtjr0-Ccs/AAAAAAAAAAI/AAAAAAAAAIY/fRiNN3tWm98/s50-c-k-no/photo.jpg",
      "userId": "109547486525142728971"
     },
     "user_tz": 420
    },
    "id": "CBCHDUkvI2o2",
    "outputId": "de8bb6b5-ad6c-4cec-bd4f-0a308072e094"
   },
   "outputs": [],
   "source": [
    "#print(matrix)\n",
    "\n",
    "#fig.show()\n",
    "#plt.show()\n",
    "\n",
    "#print(m)\n",
    "\n",
    "#import seaborn as sns\n",
    "\n",
    "#sns.set(style=\"ticks\")\n",
    "\n",
    "#df = sns.load_dataset(\"iris\")\n",
    "#sns.pairplot(m, hue=\"species\")\n",
    "#print(matrix[1][0])\n",
    "#print(m[0])"
   ]
  },
  {
   "cell_type": "markdown",
   "metadata": {
    "colab_type": "text",
    "id": "USZPdtT8QOIM"
   },
   "source": []
  },
  {
   "cell_type": "markdown",
   "metadata": {
    "colab_type": "text",
    "id": "urvm40qZ7EcN"
   },
   "source": [
    "Below are plots of post synaptic targets in the from an arbitary source cell in the Entorhinal cortex, to targets taht are also in the EC."
   ]
  },
  {
   "cell_type": "code",
   "execution_count": 12,
   "metadata": {
    "colab": {
     "autoexec": {
      "startup": false,
      "wait_interval": 0
     },
     "base_uri": "https://localhost:8080/",
     "height": 339,
     "output_extras": [
      {},
      {}
     ]
    },
    "colab_type": "code",
    "collapsed": false,
    "executionInfo": {
     "elapsed": 328,
     "status": "ok",
     "timestamp": 1517604345830,
     "user": {
      "displayName": "Russell Jarvis",
      "photoUrl": "//lh5.googleusercontent.com/-HErtjr0-Ccs/AAAAAAAAAAI/AAAAAAAAAIY/fRiNN3tWm98/s50-c-k-no/photo.jpg",
      "userId": "109547486525142728971"
     },
     "user_tz": 420
    },
    "id": "F24WxZKw6zNk",
    "outputId": "1145a3d1-dcc3-4603-995b-a647ffb309b2"
   },
   "outputs": [
    {
     "name": "stderr",
     "output_type": "stream",
     "text": [
      "/opt/conda/lib/python3.5/site-packages/matplotlib/figure.py:418: UserWarning: matplotlib is currently using a non-GUI backend, so cannot show the figure\n",
      "  \"matplotlib is currently using a non-GUI backend, \"\n"
     ]
    },
    {
     "data": {
      "image/png": "[encoded data removed]",
      "text/plain": [
       "<IPython.core.display.Image object>"
      ]
     },
     "execution_count": 12,
     "metadata": {},
     "output_type": "execute_result"
    }
   ],
   "source": [
    "#m\n",
    "#print(plt.backend)\n",
    "ax.figure.show()\n",
    "fig.savefig('connection_matrix.png')\n",
    "from IPython.display import Image\n",
    "Image(filename='connection_matrix.png') \n",
    "#df\n",
    "#targets\n",
    "#pd.DataFrame(targets).plot.hist()\n",
    "#for k,v in targets.items():\n",
    "#  pd.DataFrame(v).plot.hist()\n",
    "#df"
   ]
  },
  {
   "cell_type": "code",
   "execution_count": 13,
   "metadata": {
    "colab": {
     "autoexec": {
      "startup": false,
      "wait_interval": 0
     },
     "base_uri": "https://localhost:8080/",
     "height": 305,
     "output_extras": [
      {}
     ]
    },
    "colab_type": "code",
    "collapsed": false,
    "executionInfo": {
     "elapsed": 239,
     "status": "ok",
     "timestamp": 1517604346357,
     "user": {
      "displayName": "Russell Jarvis",
      "photoUrl": "//lh5.googleusercontent.com/-HErtjr0-Ccs/AAAAAAAAAAI/AAAAAAAAAIY/fRiNN3tWm98/s50-c-k-no/photo.jpg",
      "userId": "109547486525142728971"
     },
     "user_tz": 420
    },
    "id": "rs9X-xfLB8Lg",
    "outputId": "b6f6aefa-580c-4c80-ec6f-d25962504ef4"
   },
   "outputs": [
    {
     "data": {
      "image/png": "[encoded data removed]",
      "text/plain": [
       "<IPython.core.display.Image object>"
      ]
     },
     "execution_count": 13,
     "metadata": {},
     "output_type": "execute_result"
    }
   ],
   "source": [
    "Image(filename='connection_matrix.png') \n"
   ]
  },
  {
   "cell_type": "code",
   "execution_count": 14,
   "metadata": {
    "colab": {
     "autoexec": {
      "startup": false,
      "wait_interval": 0
     },
     "base_uri": "https://localhost:8080/",
     "height": 136,
     "output_extras": [
      {}
     ]
    },
    "colab_type": "code",
    "collapsed": false,
    "executionInfo": {
     "elapsed": 5684,
     "status": "ok",
     "timestamp": 1517604352233,
     "user": {
      "displayName": "Russell Jarvis",
      "photoUrl": "//lh5.googleusercontent.com/-HErtjr0-Ccs/AAAAAAAAAAI/AAAAAAAAAIY/fRiNN3tWm98/s50-c-k-no/photo.jpg",
      "userId": "109547486525142728971"
     },
     "user_tz": 420
    },
    "id": "_lauQFP96Lye",
    "outputId": "b6fe04cb-097f-47d1-b621-a1328c71a350"
   },
   "outputs": [
    {
     "name": "stdout",
     "output_type": "stream",
     "text": [
      "Requirement already satisfied: neuron in /opt/conda/lib/python3.5/site-packages\r\n"
     ]
    }
   ],
   "source": [
    "!pip install neuron"
   ]
  },
  {
   "cell_type": "code",
   "execution_count": 15,
   "metadata": {
    "colab": {
     "autoexec": {
      "startup": false,
      "wait_interval": 0
     },
     "base_uri": "https://localhost:8080/",
     "height": 640,
     "output_extras": [
      {},
      {}
     ]
    },
    "colab_type": "code",
    "collapsed": false,
    "executionInfo": {
     "elapsed": 291,
     "status": "error",
     "timestamp": 1517604352565,
     "user": {
      "displayName": "Russell Jarvis",
      "photoUrl": "//lh5.googleusercontent.com/-HErtjr0-Ccs/AAAAAAAAAAI/AAAAAAAAAIY/fRiNN3tWm98/s50-c-k-no/photo.jpg",
      "userId": "109547486525142728971"
     },
     "user_tz": 420
    },
    "id": "lM_59lrS5k-q",
    "outputId": "a3e0bfaa-ff4a-4a25-e3d8-afff5b110167"
   },
   "outputs": [
    {
     "ename": "NameError",
     "evalue": "name 'NETSIZE' is not defined",
     "output_type": "error",
     "traceback": [
      "\u001b[0;31m---------------------------------------------------------------------------\u001b[0m",
      "\u001b[0;31mNameError\u001b[0m                                 Traceback (most recent call last)",
      "\u001b[0;32m<ipython-input-15-627c71f7de79>\u001b[0m in \u001b[0;36m<module>\u001b[0;34m()\u001b[0m\n\u001b[1;32m      8\u001b[0m \u001b[0;31m#pop = p.Population(NETSIZE, p.IF_curr_exp(i_offset=0))\u001b[0m\u001b[0;34m\u001b[0m\u001b[0;34m\u001b[0m\u001b[0m\n\u001b[1;32m      9\u001b[0m \u001b[0mneuron_type\u001b[0m \u001b[0;34m=\u001b[0m \u001b[0mp\u001b[0m\u001b[0;34m.\u001b[0m\u001b[0mIzhikevich\u001b[0m\u001b[0;34m(\u001b[0m\u001b[0;34m)\u001b[0m\u001b[0;31m#cell_params)\u001b[0m\u001b[0;34m\u001b[0m\u001b[0m\n\u001b[0;32m---> 10\u001b[0;31m \u001b[0mpop\u001b[0m \u001b[0;34m=\u001b[0m \u001b[0mp\u001b[0m\u001b[0;34m.\u001b[0m\u001b[0mPopulation\u001b[0m\u001b[0;34m(\u001b[0m\u001b[0mNETSIZE\u001b[0m\u001b[0;34m,\u001b[0m \u001b[0mneuron_type\u001b[0m\u001b[0;34m)\u001b[0m\u001b[0;34m\u001b[0m\u001b[0m\n\u001b[0m\u001b[1;32m     11\u001b[0m \u001b[0;31m#for ind in pop:\u001b[0m\u001b[0;34m\u001b[0m\u001b[0;34m\u001b[0m\u001b[0m\n\u001b[1;32m     12\u001b[0m \u001b[0mprint\u001b[0m\u001b[0;34m(\u001b[0m\u001b[0mp\u001b[0m\u001b[0;34m.\u001b[0m\u001b[0mconnect\u001b[0m\u001b[0;34m)\u001b[0m\u001b[0;34m\u001b[0m\u001b[0m\n",
      "\u001b[0;31mNameError\u001b[0m: name 'NETSIZE' is not defined"
     ]
    }
   ],
   "source": []
  },
  {
   "cell_type": "code",
   "execution_count": null,
   "metadata": {
    "colab": {
     "autoexec": {
      "startup": false,
      "wait_interval": 0
     },
     "base_uri": "https://localhost:8080/",
     "height": 405,
     "output_extras": [
      {},
      {}
     ]
    },
    "colab_type": "code",
    "collapsed": false,
    "executionInfo": {
     "elapsed": 400,
     "status": "ok",
     "timestamp": 1516811287724,
     "user": {
      "displayName": "Russell Jarvis",
      "photoUrl": "//lh5.googleusercontent.com/-HErtjr0-Ccs/AAAAAAAAAAI/AAAAAAAAAIY/fRiNN3tWm98/s50-c-k-no/photo.jpg",
      "userId": "109547486525142728971"
     },
     "user_tz": 420
    },
    "id": "Koq5-kTIR3Yk",
    "outputId": "5bf0aabd-d509-4ae2-c7ae-932a2410ba46"
   },
   "outputs": [],
   "source": [
    "\n",
    "#nldf['From']\n",
    "\n",
    "#nldf.index('Granule')\n",
    "#df = nldf[nldf['Name']==3]\n",
    "\n",
    "\n",
    "#you'll likely need a user for authentication\n",
    "#user = 'gevaert'\n",
    "#server = 'http://localhost:8888'\n",
    "#from bbp_client.oidc.client import BBPOIDCClient\n",
    "#client = BBPOIDCClient.implicit_auth(user)\n",
    "#from bbp_client.task_service.client import Client\n",
    "#ts = Client(server, client)\n",
    "#ts.get_tasks()\n",
    "#bbp_client.register_task()\n",
    "#bbp_client.start_job()"
   ]
  },
  {
   "cell_type": "markdown",
   "metadata": {
    "colab_type": "text",
    "id": "7asrV8aAhqts"
   },
   "source": [
    "\n",
    "\n",
    "```\n",
    "# This is formatted as code\n",
    "```\n",
    "\n"
   ]
  },
  {
   "cell_type": "markdown",
   "metadata": {
    "colab_type": "text",
    "id": "FaIbSxpChrZq"
   },
   "source": []
  },
  {
   "cell_type": "code",
   "execution_count": null,
   "metadata": {
    "colab": {
     "autoexec": {
      "startup": false,
      "wait_interval": 0
     }
    },
    "colab_type": "code",
    "collapsed": true,
    "id": "sJSxqClzhrti"
   },
   "outputs": [],
   "source": []
  },
  {
   "cell_type": "markdown",
   "metadata": {
    "colab_type": "text",
    "id": "LDrZGO2A6w2G"
   },
   "source": []
  }
 ],
 "metadata": {
  "colab": {
   "collapsed_sections": [],
   "default_view": {},
   "name": "Assignment3.ipynb",
   "provenance": [],
   "version": "0.3.2",
   "views": {}
  },
  "kernelspec": {
   "display_name": "Python 3",
   "language": "python",
   "name": "python3"
  },
  "language_info": {
   "codemirror_mode": {
    "name": "ipython",
    "version": 3
   },
   "file_extension": ".py",
   "mimetype": "text/x-python",
   "name": "python",
   "nbconvert_exporter": "python",
   "pygments_lexer": "ipython3",
   "version": "3.5.2"
  }
 },
 "nbformat": 4,
 "nbformat_minor": 0
}
