{
 "cells": [
  {
   "cell_type": "markdown",
   "metadata": {
    "colab_type": "text",
    "id": "UE1Rc8hOhv6N"
   },
   "source": [
    "# Assignment 3 Data Analysis via Pandas\n",
    "\n",
    "Get an experimentally informed connection matrix from from http://hippocampome.org/netlist\n",
    "Or an excell spreadsheet of similar origin.\n",
    "\n",
    "https://collab.humanbrainproject.eu/#/collab/5458/nav/42545\n"
   ]
  },
  {
   "cell_type": "code",
   "execution_count": 1,
   "metadata": {
    "colab": {
     "autoexec": {
      "startup": false,
      "wait_interval": 0
     },
     "base_uri": "https://localhost:8080/",
     "height": 34,
     "output_extras": [
      {
       "item_id": 1
      }
     ]
    },
    "colab_type": "code",
    "collapsed": false,
    "executionInfo": {
     "elapsed": 29042,
     "status": "ok",
     "timestamp": 1518449624332,
     "user": {
      "displayName": "Russell Jarvis",
      "photoUrl": "//lh5.googleusercontent.com/-HErtjr0-Ccs/AAAAAAAAAAI/AAAAAAAAAIY/fRiNN3tWm98/s50-c-k-no/photo.jpg",
      "userId": "109547486525142728971"
     },
     "user_tz": 420
    },
    "id": "LibJ633qBq06",
    "outputId": "92701c6a-49df-4104-848e-f397b9625c87"
   },
   "outputs": [
    {
     "name": "stdout",
     "output_type": "stream",
     "text": [
      "/opt/conda/lib/python3.5/site-packages/pyNN/neuron/nmodl\n",
      "ProbAMPANMDA_EMS.mod ProbGABAAB_EMS.mod adexp.mod alphaisyn.mod alphasyn.mod expisyn.mod gammastim.mod gap.mod gif.mod gsfa_grr.mod hh_traub.mod izhikevich.mod netstim2.mod poisson_stim_refractory.mod quantal_stp.mod refrac.mod reset.mod stdwa_guetig.mod stdwa_softlimits.mod stdwa_songabbott.mod stdwa_symm.mod stdwa_vogels2011.mod stochastic_synapse.mod stochastic_tsodyksmarkram.mod tmgsyn.mod tmisyn.mod tsodyksmarkram.mod vecstim.mod\n",
      "ProbAMPANMDA_EMS.mod ProbGABAAB_EMS.mod adexp.mod alphaisyn.mod alphasyn.mod expisyn.mod gammastim.mod gap.mod gif.mod gsfa_grr.mod hh_traub.mod izhikevich.mod netstim2.mod poisson_stim_refractory.mod quantal_stp.mod refrac.mod reset.mod stdwa_guetig.mod stdwa_softlimits.mod stdwa_songabbott.mod stdwa_symm.mod stdwa_vogels2011.mod stochastic_synapse.mod stochastic_tsodyksmarkram.mod tmgsyn.mod tmisyn.mod tsodyksmarkram.mod vecstim.mod\n",
      "\"/home/jovyan/nrn-7.4/share/nrn/libtool\" --tag=CC --mode=compile mpicc -DHAVE_CONFIG_H  -I. -I.. -I\"/home/jovyan/nrn-7.4/include/nrn\" -I\"/home/jovyan/nrn-7.4/x86_64/lib\"      -g -O2 -c -o mod_func.lo mod_func.c\n",
      "libtool: compile:  mpicc -DHAVE_CONFIG_H -I. -I.. -I/home/jovyan/nrn-7.4/include/nrn -I/home/jovyan/nrn-7.4/x86_64/lib -g -O2 -c mod_func.c  -fPIC -DPIC -o .libs/mod_func.o\n",
      "\"/home/jovyan/nrn-7.4/share/nrn/libtool\" --tag=CC --mode=link mpicc -module  -g -O2    -o libnrnmech.la -rpath \"/home/jovyan/nrn-7.4/x86_64/lib\"  ProbAMPANMDA_EMS.lo ProbGABAAB_EMS.lo adexp.lo alphaisyn.lo alphasyn.lo expisyn.lo gammastim.lo gap.lo gif.lo gsfa_grr.lo hh_traub.lo izhikevich.lo netstim2.lo poisson_stim_refractory.lo quantal_stp.lo refrac.lo reset.lo stdwa_guetig.lo stdwa_softlimits.lo stdwa_songabbott.lo stdwa_symm.lo stdwa_vogels2011.lo stochastic_synapse.lo stochastic_tsodyksmarkram.lo tmgsyn.lo tmisyn.lo tsodyksmarkram.lo vecstim.lo mod_func.lo  -L\"/home/jovyan/nrn-7.4/x86_64/lib\" -lnrnoc -loc -lmemacs -lnrnmpi -lscopmath -lsparse13 -lreadline -lncurses -L\"/home/jovyan/nrn-7.4/x86_64/lib\" \"/home/jovyan/nrn-7.4/x86_64/lib/libnrniv.la\" -livoc -lneuron_gnu -lmeschach -lsundials -livos      -lm -ldl\n",
      "libtool: link: rm -fr  .libs/libnrnmech.la .libs/libnrnmech.lai .libs/libnrnmech.so .libs/libnrnmech.so.0 .libs/libnrnmech.so.0.0.0\n",
      "libtool: link: mpicc -shared  -fPIC -DPIC  .libs/ProbAMPANMDA_EMS.o .libs/ProbGABAAB_EMS.o .libs/adexp.o .libs/alphaisyn.o .libs/alphasyn.o .libs/expisyn.o .libs/gammastim.o .libs/gap.o .libs/gif.o .libs/gsfa_grr.o .libs/hh_traub.o .libs/izhikevich.o .libs/netstim2.o .libs/poisson_stim_refractory.o .libs/quantal_stp.o .libs/refrac.o .libs/reset.o .libs/stdwa_guetig.o .libs/stdwa_softlimits.o .libs/stdwa_songabbott.o .libs/stdwa_symm.o .libs/stdwa_vogels2011.o .libs/stochastic_synapse.o .libs/stochastic_tsodyksmarkram.o .libs/tmgsyn.o .libs/tmisyn.o .libs/tsodyksmarkram.o .libs/vecstim.o .libs/mod_func.o   -Wl,-rpath -Wl,/home/jovyan/nrn-7.4/x86_64/lib -Wl,-rpath -Wl,/home/jovyan/nrn-7.4/x86_64/lib -L/home/jovyan/nrn-7.4/x86_64/lib /home/jovyan/nrn-7.4/x86_64/lib/libnrnoc.so /home/jovyan/nrn-7.4/x86_64/lib/liboc.so /home/jovyan/nrn-7.4/x86_64/lib/libmemacs.so /home/jovyan/nrn-7.4/x86_64/lib/libnrnmpi.so /home/jovyan/nrn-7.4/x86_64/lib/libscopmath.so /home/jovyan/nrn-7.4/x86_64/lib/libsparse13.so -lreadline -lncurses /home/jovyan/nrn-7.4/x86_64/lib/libnrniv.so /home/jovyan/nrn-7.4/x86_64/lib/libivoc.so /home/jovyan/nrn-7.4/x86_64/lib/libneuron_gnu.so /home/jovyan/nrn-7.4/x86_64/lib/libmeschach.so /home/jovyan/nrn-7.4/x86_64/lib/libsundials.so /home/jovyan/nrn-7.4/x86_64/lib/libivos.so -lm -ldl  -O2   -Wl,-soname -Wl,libnrnmech.so.0 -o .libs/libnrnmech.so.0.0.0\n",
      "libtool: link: (cd \".libs\" && rm -f \"libnrnmech.so.0\" && ln -s \"libnrnmech.so.0.0.0\" \"libnrnmech.so.0\")\n",
      "libtool: link: (cd \".libs\" && rm -f \"libnrnmech.so\" && ln -s \"libnrnmech.so.0.0.0\" \"libnrnmech.so\")\n",
      "libtool: link: ( cd \".libs\" && rm -f \"libnrnmech.la\" && ln -s \"../libnrnmech.la\" \"libnrnmech.la\" )\n",
      "Successfully created x86_64/special\n"
     ]
    }
   ],
   "source": [
    "\n",
    "\n",
    "# Perform some system admin\n",
    "import matplotlib.pyplot as plt\n",
    "\n",
    "import os\n",
    "import pandas as pd\n",
    "import sys\n",
    "import matplotlib as mpl\n",
    "%matplotlib inline\n",
    "mpl.rcParams.update({'font.size':16})\n",
    "installs = ['bbp_client','neuron','mpi4py','xlrd','pyNN','seaborn','lazyarray','neo','neuron','brian2']\n",
    "def install_deps(i):\n",
    "  '''\n",
    "  Hack in dependencies into to sys.path\n",
    "  '''\n",
    "  import os\n",
    "  if i not in sys.path:\n",
    "    os.system('pip install '+str(i))    \n",
    "\n",
    "_ = list(map(install_deps,installs))\n",
    "import os\n",
    "\n",
    "#Compile NEUORN mod files.\n",
    "temp = os.getcwd()\n",
    "os.chdir('/opt/conda/lib/python3.5/site-packages/pyNN/neuron/nmodl')\n",
    "!nrnivmodl\n",
    "os.chdir(temp)\n",
    "\n",
    "\n",
    "\n",
    "\n",
    "\n"
   ]
  },
  {
   "cell_type": "code",
   "execution_count": 2,
   "metadata": {
    "colab": {
     "autoexec": {
      "startup": false,
      "wait_interval": 0
     },
     "base_uri": "https://localhost:8080/",
     "height": 573,
     "output_extras": [
      {
       "item_id": 6
      },
      {
       "item_id": 7
      }
     ]
    },
    "colab_type": "code",
    "collapsed": false,
    "executionInfo": {
     "elapsed": 4194,
     "status": "ok",
     "timestamp": 1518450004036,
     "user": {
      "displayName": "Russell Jarvis",
      "photoUrl": "//lh5.googleusercontent.com/-HErtjr0-Ccs/AAAAAAAAAAI/AAAAAAAAAIY/fRiNN3tWm98/s50-c-k-no/photo.jpg",
      "userId": "109547486525142728971"
     },
     "user_tz": 420
    },
    "id": "3NNiXkq-Oep6",
    "outputId": "c8faf344-cda1-4418-fd12-5a4f69d3e0a2"
   },
   "outputs": [],
   "source": [
    "# Get some hippocampus connectivity data, based on a conversation with\n",
    "# academic researchers on GH:\n",
    "# https://github.com/Hippocampome-Org/GraphTheory/issues?q=is%3Aissue+is%3Aclosed\n",
    "# scrape hippocamome connectivity data, that I intend to use to program neuromorphic hardware.\n",
    "# conditionally get files if they don't exist.\n",
    "\n",
    "path_xl = '_hybrid_connectivity_matrix_20171103_092033.xlsx'\n",
    "if not os.path.exists(path_xl):\n",
    "    os.system('wget https://github.com/Hippocampome-Org/GraphTheory/files/1657258/_hybrid_connectivity_matrix_20171103_092033.xlsx')\n",
    "\n",
    "xl = pd.ExcelFile(path_xl)\n",
    "dfEE = xl.parse()\n",
    "dfEE.loc[0].keys()\n",
    "dfm = dfEE.as_matrix()\n",
    "filtered = dfm[:,3:]\n",
    "filtered = filtered[1:]\n",
    "\n"
   ]
  },
  {
   "cell_type": "code",
   "execution_count": 3,
   "metadata": {
    "colab": {
     "autoexec": {
      "startup": false,
      "wait_interval": 0
     },
     "base_uri": "https://localhost:8080/",
     "height": 652,
     "output_extras": [
      {
       "item_id": 1
      },
      {
       "item_id": 2
      }
     ]
    },
    "colab_type": "code",
    "collapsed": false,
    "executionInfo": {
     "elapsed": 454,
     "status": "error",
     "timestamp": 1518449625612,
     "user": {
      "displayName": "Russell Jarvis",
      "photoUrl": "//lh5.googleusercontent.com/-HErtjr0-Ccs/AAAAAAAAAAI/AAAAAAAAAIY/fRiNN3tWm98/s50-c-k-no/photo.jpg",
      "userId": "109547486525142728971"
     },
     "user_tz": 420
    },
    "id": "dNffjJS_B4KG",
    "outputId": "9e251a8b-d3c0-4148-95f6-48d88e647feb"
   },
   "outputs": [
    {
     "name": "stdout",
     "output_type": "stream",
     "text": [
      "(122, 122)\n"
     ]
    }
   ],
   "source": [
    "\n",
    "import numpy as np\n",
    "from pyNN.neuron import STDPMechanism\n",
    "import copy\n",
    "EElist = []\n",
    "IIlist = []\n",
    "from pyNN.random import RandomDistribution, NumpyRNG\n",
    "\n",
    "rng = NumpyRNG(seed=64754)\n",
    "delay_distr = RandomDistribution('normal', [35, 1e-3], rng=rng)\n",
    "\n",
    "for i,j in enumerate(filtered):\n",
    "  \n",
    "  for k,xaxis in enumerate(j):\n",
    "    if xaxis==1 or xaxis ==2:\n",
    "      source = i\n",
    "      target = k\n",
    "      delay = delay_distr.next()\n",
    "      weight = 11.0\n",
    "      IIlist.append((source,target,delay,weight))\n",
    "        \n",
    "    if xaxis==-1 or xaxis ==-2:\n",
    "      source = i\n",
    "      target = k\n",
    "      delay = delay_distr.next()\n",
    "      weight =11.0\n",
    "      EElist.append((source,target,delay,weight))     \n",
    "import matplotlib \n",
    "matplotlib.pyplot.imshow\n",
    "\n",
    "ml = len(filtered[1])+1\n",
    "plot_excit = np.zeros(shape=(ml,ml))\n",
    "plot_inhib = np.zeros(shape=(ml,ml))\n",
    "pre_exc = []\n",
    "post_exc = []\n",
    "pre_inh = []\n",
    "post_inh = []\n",
    "print(np.shape(plot_excit))\n",
    "\n",
    "for i in EElist:\n",
    "    if i[0]!=i[1]:\n",
    "        plot_excit[i[0],i[1]] = 1\n",
    "        pre_exc.append(i[0])\n",
    "        post_exc.append(i[1])\n",
    "\n",
    "    \n",
    "for i in IIlist:\n",
    "    if i[0]!=i[1]:\n",
    "        plot_inhib[i[0],i[1]] = 1\n",
    "        pre_inh.append(i[0])\n",
    "        post_inh.append(i[1])\n",
    "\n",
    "import pickle\n",
    "with open('unit_test/connections.p','wb') as f:\n",
    "   pickle.dump([post_inh,pre_inh,pre_exc,post_exc],f)\n",
    " \n",
    "index_exc = [ i for i,d in enumerate(dfm) if '+' in d[0] ]\n",
    "index_inh = [ i for i,d in enumerate(dfm) if '-' in d[0] ]\n",
    "    "
   ]
  },
  {
   "cell_type": "code",
   "execution_count": 4,
   "metadata": {
    "collapsed": false
   },
   "outputs": [
    {
     "data": {
      "text/plain": [
       "\"\\nfrom neuronunit import tests as nu_tests, neuroelectro\\nfrom neuronunit.tests import passive, waveform, fi\\n\\n#neuron = {'nlex_id': 'nifext_50'} # Layer V pyramidal cell\\nfi_basket = {'nlex_id':'NLXCELL:100201'}\\ntest_class_params = [(fi.RheobaseTest,None),\\n                 (passive.InputResistanceTest,None),\\n                 (passive.TimeConstantTest,None),\\n                 (passive.CapacitanceTest,None),\\n                 (passive.RestingPotentialTest,None),\\n                 (waveform.InjectedCurrentAPWidthTest,None),\\n                 (waveform.InjectedCurrentAPAmplitudeTest,None),\\n                 (waveform.InjectedCurrentAPThresholdTest,None)]#,\\nobservations = []\\nfor cls,params in test_class_params:\\n    observations.append(cls.neuroelectro_summary_observation(fi_basket))\\n    \\nprint(observations)    \\n\""
      ]
     },
     "execution_count": 4,
     "metadata": {},
     "output_type": "execute_result"
    }
   ],
   "source": [
    "# Get experimental electro physology bservations for a dentate gyrus baskett cell\n",
    "# An inhibitory neuron\n",
    "'''\n",
    "from neuronunit import tests as nu_tests, neuroelectro\n",
    "from neuronunit.tests import passive, waveform, fi\n",
    "\n",
    "#neuron = {'nlex_id': 'nifext_50'} # Layer V pyramidal cell\n",
    "fi_basket = {'nlex_id':'NLXCELL:100201'}\n",
    "test_class_params = [(fi.RheobaseTest,None),\n",
    "                 (passive.InputResistanceTest,None),\n",
    "                 (passive.TimeConstantTest,None),\n",
    "                 (passive.CapacitanceTest,None),\n",
    "                 (passive.RestingPotentialTest,None),\n",
    "                 (waveform.InjectedCurrentAPWidthTest,None),\n",
    "                 (waveform.InjectedCurrentAPAmplitudeTest,None),\n",
    "                 (waveform.InjectedCurrentAPThresholdTest,None)]#,\n",
    "observations = []\n",
    "for cls,params in test_class_params:\n",
    "    observations.append(cls.neuroelectro_summary_observation(fi_basket))\n",
    "    \n",
    "print(observations)    \n",
    "'''"
   ]
  },
  {
   "cell_type": "code",
   "execution_count": 5,
   "metadata": {
    "collapsed": false
   },
   "outputs": [],
   "source": [
    "import pickle\n",
    "try: \n",
    "    with open('unit_test/dtc_dump.p','rb') as f:\n",
    "        dtcpop = pickle.load(f)\n",
    "except:\n",
    "    with open('unit_test/ga_dump.p','rb') as f:\n",
    "        [ pop, log, history, hof, td ] = pickle.load(f)\n",
    "    from neuronunit.optimization.nsga_parallel import update_dtc_pop, dtc_to_rheo\n",
    "    dtcpop = list(update_dtc_pop(pop, td))\n",
    "    dtcpop = list(map(dtc_to_rheo,dtcpop))\n"
   ]
  },
  {
   "cell_type": "code",
   "execution_count": 6,
   "metadata": {
    "collapsed": false
   },
   "outputs": [],
   "source": [
    "import pickle    \n",
    "\n",
    "\n",
    "with open('unit_test/dtc_dump.p','wb') as f:\n",
    "   pickle.dump(dtcpop,f)\n",
    "\n",
    "    \n"
   ]
  },
  {
   "cell_type": "markdown",
   "metadata": {},
   "source": [
    "# Plot all the Projection pairs as a connection matrix (Excitatory and Inhibitory Connections)"
   ]
  },
  {
   "cell_type": "code",
   "execution_count": 7,
   "metadata": {
    "collapsed": false
   },
   "outputs": [
    {
     "name": "stderr",
     "output_type": "stream",
     "text": [
      "/opt/conda/lib/python3.5/site-packages/matplotlib/cbook/deprecation.py:106: MatplotlibDeprecationWarning: The axisbg attribute was deprecated in version 2.0. Use facecolor instead.\n",
      "  warnings.warn(message, mplDeprecation, stacklevel=1)\n",
      "/opt/conda/lib/python3.5/site-packages/matplotlib/figure.py:418: UserWarning: matplotlib is currently using a non-GUI backend, so cannot show the figure\n",
      "  \"matplotlib is currently using a non-GUI backend, \"\n"
     ]
    },
    {
     "data": {
      "image/png": "[encoded data removed]",
      "text/plain": [
       "<matplotlib.figure.Figure at 0x7f6b21aa25f8>"
      ]
     },
     "metadata": {},
     "output_type": "display_data"
    }
   ],
   "source": [
    "#sns.pairplot(df, hue=\"species\")\n",
    "from scipy.sparse import coo_matrix\n",
    "m = np.matrix(filtered[1:])\n",
    "if not isinstance(m, coo_matrix):\n",
    "    m = coo_matrix(m)\n",
    "fig = matplotlib.pyplot.figure()\n",
    "ax = fig.add_subplot(111, axisbg='black')\n",
    "ax.plot(m.col, m.row, 's', color='white', ms=1)\n",
    "ax.set_xlim(0, m.shape[1])\n",
    "ax.set_ylim(0, m.shape[0])\n",
    "ax.set_aspect('equal')\n",
    "for spine in ax.spines.values():\n",
    "    spine.set_visible(False)\n",
    "ax.invert_yaxis()\n",
    "ax.set_aspect('equal')\n",
    "ax.set_xticks([])\n",
    "ax.set_yticks([])\n",
    "ax.figure.show()\n"
   ]
  },
  {
   "cell_type": "markdown",
   "metadata": {},
   "source": [
    "# A plot of the excitatory synapse connectivity matrix\n"
   ]
  },
  {
   "cell_type": "code",
   "execution_count": 8,
   "metadata": {
    "collapsed": false
   },
   "outputs": [
    {
     "data": {
      "text/plain": [
       "<matplotlib.image.AxesImage at 0x7f6b1c72b438>"
      ]
     },
     "execution_count": 8,
     "metadata": {},
     "output_type": "execute_result"
    },
    {
     "data": {
      "image/png": "[encoded data removed]",
      "text/plain": [
       "<matplotlib.figure.Figure at 0x7f6b21a0e358>"
      ]
     },
     "metadata": {},
     "output_type": "display_data"
    }
   ],
   "source": [
    "matplotlib.pyplot.imshow(plot_excit)   "
   ]
  },
  {
   "cell_type": "markdown",
   "metadata": {},
   "source": [
    "# A plot of the inhibitory synapse connectivity matrix\n"
   ]
  },
  {
   "cell_type": "code",
   "execution_count": 9,
   "metadata": {
    "collapsed": false
   },
   "outputs": [
    {
     "data": {
      "text/plain": [
       "<matplotlib.image.AxesImage at 0x7f6b1c6f90f0>"
      ]
     },
     "execution_count": 9,
     "metadata": {},
     "output_type": "execute_result"
    },
    {
     "data": {
      "image/png": "[encoded data removed]",
      "text/plain": [
       "<matplotlib.figure.Figure at 0x7f6b1ff93cc0>"
      ]
     },
     "metadata": {},
     "output_type": "display_data"
    }
   ],
   "source": [
    "matplotlib.pyplot.imshow(plot_inhib)   \n"
   ]
  },
  {
   "cell_type": "code",
   "execution_count": 10,
   "metadata": {
    "collapsed": false
   },
   "outputs": [],
   "source": [
    "import pyNN.neuron as neuron\n",
    "from pyNN.neuron import h\n",
    "from pyNN.neuron import StandardCellType, ParameterSpace\n"
   ]
  },
  {
   "cell_type": "code",
   "execution_count": 11,
   "metadata": {
    "collapsed": false,
    "scrolled": true
   },
   "outputs": [],
   "source": [
    "import pyNN\n",
    "pyNN.neuron.setup(timestep=1.0, min_delay=1.0)\n",
    "\n",
    "from pyNN.random import RandomDistribution, NumpyRNG\n",
    "from pyNN.neuron import STDPMechanism, SpikePairRule, AdditiveWeightDependence, FromListConnector, TsodyksMarkramSynapse\n",
    "from pyNN.neuron import Projection, OneToOneConnector"
   ]
  },
  {
   "cell_type": "code",
   "execution_count": null,
   "metadata": {
    "collapsed": false
   },
   "outputs": [],
   "source": []
  },
  {
   "cell_type": "code",
   "execution_count": 12,
   "metadata": {
    "collapsed": false
   },
   "outputs": [
    {
     "name": "stdout",
     "output_type": "stream",
     "text": [
      "Getting Rheobase cached data value for from AIBS dataset 354190013\n",
      "attempting to recover from pickled file\n"
     ]
    }
   ],
   "source": [
    "#from neuron\n",
    "from numpy import arange\n",
    "import pyNN\n",
    "from pyNN.utility import get_simulator, init_logging, normalized_filename\n",
    "sim = pyNN.neuron\n",
    "sim.setup(timestep=0.01, min_delay=1.0)\n",
    "from neuronunit.models.reduced import ReducedModel\n",
    "from neuronunit.optimization import get_neab\n",
    "\n",
    "pop_size = len(index_exc)+len(index_inh)\n",
    "\n",
    "\n",
    "#pop = sim.Population(pop_size, sim.Izhikevich(a=0.02, b=0.2, c=-65, d=6, i_offset=0))\n",
    "index_exc = [ i for i,d in enumerate(dfm) if '-' in d[0] ]\n",
    "index_inh = [ i for i,d in enumerate(dfm) if '+' in d[0] ]   \n",
    "n_exc = len(index_exc)\n",
    "n_inh = len(index_inh)\n",
    "\n",
    "\n",
    "from neuronunit.unit_test import Neuronal_Cell\n",
    "cell_params = Neuronal_Cell.NCell().cell_params\n",
    "celltype = sim.IF_cond_exp\n",
    "all_cells = sim.Population(n_exc + n_inh, celltype(**cell_params), label=\"All Cells\")\n",
    "exc_cells = all_cells[:n_exc]\n",
    "exc_cells.label = \"Excitatory cells\"\n",
    "inh_cells = all_cells[n_exc:]\n",
    "inh_cells.label = \"Inhibitory cells\"\n",
    "\n",
    "\n",
    "injection_values = None       \n",
    "injection_values = []#[0 for i in pop ]\n",
    "for i,p in enumerate(all_cells):\n",
    "    x = int(i/7)\n",
    "    d = dtcpop[x]\n",
    "    #attrs = d.attrs\n",
    "    injection_values.append(d.rheobase['value'])\n",
    "    #attrs_ = {x:attrs[x] for x in ['a','b','c','d']}\n",
    "    #p.set_parameters(**attrs_)\n"
   ]
  },
  {
   "cell_type": "code",
   "execution_count": 13,
   "metadata": {
    "collapsed": false
   },
   "outputs": [],
   "source": [
    "ohub_index = 0\n",
    "for x,i in enumerate(plot_excit):\n",
    "    row_sum = np.sum(i)\n",
    "    if ohub_index < row_sum:\n",
    "        ohub_index = x\n"
   ]
  },
  {
   "cell_type": "code",
   "execution_count": 14,
   "metadata": {
    "collapsed": false
   },
   "outputs": [],
   "source": [
    "\n",
    "rng = NumpyRNG(seed=64754)\n",
    "exc_distr = RandomDistribution('normal', [2.125, 10e-1], rng=rng)\n",
    "exc_syn = sim.StaticSynapse(weight=exc_distr, delay=delay_distr)\n",
    "inh_distr = RandomDistribution('normal', [5e-2, 2.1e-3], rng=rng)\n",
    "\n",
    "inh_syn = sim.StaticSynapse(weight=inh_distr, delay=delay_distr)\n",
    "rng = NumpyRNG(seed=64754)\n",
    "delay_distr = RandomDistribution('normal', [50, 100e-3], rng=rng)\n",
    "\n",
    "# Variation in propogation delays are very important for self sustaininig network activity.\n",
    "# more so in point neurons which don't have internal propogation times.\n",
    "\n",
    "stdp = STDPMechanism(\n",
    "          weight=3.0, #0.02,  # this is the initial value of the weight\n",
    "          delay=\"0.2 + 0.01*d\",\n",
    "          timing_dependence=SpikePairRule(tau_plus=20.0, tau_minus=20.0,\n",
    "                                          A_plus=0.01, A_minus=0.012),\n",
    "          weight_dependence=AdditiveWeightDependence(w_min=0.01, w_max=10.0))\n"
   ]
  },
  {
   "cell_type": "code",
   "execution_count": 15,
   "metadata": {
    "collapsed": false
   },
   "outputs": [
    {
     "name": "stderr",
     "output_type": "stream",
     "text": [
      "WARNING:root:PopulationView can contain only once each ID, duplicated IDs are remove\n",
      "WARNING:root:PopulationView can contain only once each ID, duplicated IDs are remove\n",
      "WARNING:root:PopulationView can contain only once each ID, duplicated IDs are remove\n",
      "WARNING:root:PopulationView can contain only once each ID, duplicated IDs are remove\n",
      "INFO:PyNN:--- Projection[view of 'All Cells' with size 119→view of 'All Cells' with size 84].__init__() ---\n",
      "INFO:PyNN:--- Projection[view of 'All Cells' with size 119→view of 'All Cells' with size 84].__init__() ---\n",
      "INFO:PyNN:--- Projection[view of 'All Cells' with size 38→view of 'All Cells' with size 121].__init__() ---\n"
     ]
    }
   ],
   "source": [
    "\n",
    "exc_targets = all_cells[pre_exc] \n",
    "exc_srcs = all_cells[post_exc]\n",
    "inh_srcs = all_cells[pre_inh] # = []\n",
    "inh_targets = all_cells[post_inh] # = []\n",
    "conn = OneToOneConnector()\n",
    "connections = {}\n",
    "index_exc\n",
    "\n",
    "exc_cells = all_cells[index_exc]\n",
    "inh_cells = all_cells[index_inh]\n",
    "\n",
    "#spike_source = sim.Population(1, sim.SpikeSourcePoisson())\n",
    "#spike_source.record('spikes')\n",
    "\n",
    "#connections['e1'] = sim.Projection(spike_source, all_cells, conn , exc_syn, receptor_type='excitatory')\n",
    "connections['e2'] = sim.Projection(exc_srcs, exc_targets, conn, stdp)\n",
    "connections['e3'] = sim.Projection(exc_srcs, exc_targets, conn , exc_syn, receptor_type='excitatory')\n",
    "connections['ie'] = sim.Projection(inh_srcs, inh_targets, conn , inh_syn, receptor_type='inhibitory')\n"
   ]
  },
  {
   "cell_type": "code",
   "execution_count": 16,
   "metadata": {
    "colab": {
     "autoexec": {
      "startup": false,
      "wait_interval": 0
     },
     "base_uri": "https://localhost:8080/",
     "height": 260,
     "output_extras": [
      {
       "item_id": 1
      }
     ]
    },
    "colab_type": "code",
    "collapsed": false,
    "executionInfo": {
     "elapsed": 388,
     "status": "ok",
     "timestamp": 1518016626816,
     "user": {
      "displayName": "Russell Jarvis",
      "photoUrl": "//lh5.googleusercontent.com/-HErtjr0-Ccs/AAAAAAAAAAI/AAAAAAAAAIY/fRiNN3tWm98/s50-c-k-no/photo.jpg",
      "userId": "109547486525142728971"
     },
     "user_tz": 420
    },
    "id": "G0cEfPGmBur8",
    "outputId": "a349f6c8-dca6-4fba-9d73-206dd1f021d0"
   },
   "outputs": [],
   "source": [
    "##\n",
    "# Setup and run a simulation. Note there is no current injection into the neuron.\n",
    "# All cells in the network are in a quiescent state, so its not a surprise that there are no spikes\n",
    "##\n",
    "\n",
    "\n",
    "neurons = all_cells    \n",
    "sim = pyNN.neuron\n",
    "arange = np.arange\n",
    "\n",
    "import re\n",
    "\n",
    "from pyNN.utility.plotting import Figure, Panel\n",
    "\n"
   ]
  },
  {
   "cell_type": "code",
   "execution_count": 17,
   "metadata": {
    "colab": {
     "autoexec": {
      "startup": false,
      "wait_interval": 0
     },
     "base_uri": "https://localhost:8080/",
     "height": 236,
     "output_extras": [
      {
       "item_id": 1
      }
     ]
    },
    "colab_type": "code",
    "collapsed": false,
    "executionInfo": {
     "elapsed": 417,
     "status": "error",
     "timestamp": 1518016627314,
     "user": {
      "displayName": "Russell Jarvis",
      "photoUrl": "//lh5.googleusercontent.com/-HErtjr0-Ccs/AAAAAAAAAAI/AAAAAAAAAIY/fRiNN3tWm98/s50-c-k-no/photo.jpg",
      "userId": "109547486525142728971"
     },
     "user_tz": 420
    },
    "id": "CBCHDUkvI2o2",
    "outputId": "de8bb6b5-ad6c-4cec-bd4f-0a308072e094"
   },
   "outputs": [
    {
     "name": "stderr",
     "output_type": "stream",
     "text": [
      "INFO:PyNN:Initializing membrane potential of 140 cells and 1 Populations.\n"
     ]
    },
    {
     "data": {
      "text/plain": [
       "<pyNN.utility.plotting.Figure at 0x7f6b01f9dc50>"
      ]
     },
     "execution_count": 17,
     "metadata": {},
     "output_type": "execute_result"
    },
    {
     "data": {
      "image/png": "[encoded data removed]",
      "text/plain": [
       "<matplotlib.figure.Figure at 0x7f6b01f9dc18>"
      ]
     },
     "metadata": {},
     "output_type": "display_data"
    }
   ],
   "source": [
    "\n",
    "\n",
    "\n",
    "# === Build and instrument the network =======================================\n",
    "\n",
    "exc_out_hubs = all_cells[ohub_index,92,43,121]\n",
    "pulses = None\n",
    "pulses = []\n",
    "\n",
    "\n",
    "for eoh in exc_out_hubs:\n",
    "    amps = float(re.sub('\\ pA$', '', str(injection_values[eoh])))  \n",
    "    amplitude=0.014\n",
    "    p0 = sim.DCSource(amplitude = amps, start=50.0, stop=145.0)\n",
    "    p0.inject_into(all_cells[(eoh,)])    \n",
    "    pulses.append(p0)\n",
    "\n",
    "\n",
    "neurons.record(['v','spikes'])  # , 'u'])\n",
    "neurons.initialize(v=-70.0, u=-14.0)\n",
    "\n",
    "\n",
    "# === Run the simulation =====================================================\n",
    "\n",
    "sim.run(5000.0)\n",
    "\n",
    "\n",
    "from pyNN.utility.plotting import Figure, Panel, comparison_plot, plot_spiketrains\n",
    "data = neurons.get_data().segments[0]\n",
    "v = data.filter(name=\"v\")[0]\n",
    "Figure(\n",
    "    Panel(v, ylabel=\"Membrane potential (mV)\", xticks=True,\n",
    "          xlabel=\"Time (ms)\", yticks=True),\n",
    "    #Panel(u, ylabel=\"u variable (units?)\"),\n",
    "    annotations=\"Simulated with\" \n",
    ")\n",
    "\n"
   ]
  },
  {
   "cell_type": "code",
   "execution_count": 18,
   "metadata": {
    "collapsed": false
   },
   "outputs": [],
   "source": [
    "import pickle\n",
    "\n",
    "data = neurons.get_data().segments[0]\n",
    "with open('membrane_dynamics_hippocampome_file.p', 'wb') as f:\n",
    "    pickle.dump(data,f)\n",
    "#data = neurons.get_data().segments[0]\n",
    "v0 =  neurons[(0,)].get_data().segments[0].filter(name=\"v\")[0]\n",
    "v1 =  neurons[(1,)].get_data().segments[0].filter(name=\"v\")[0]"
   ]
  },
  {
   "cell_type": "markdown",
   "metadata": {
    "colab_type": "text",
    "id": "USZPdtT8QOIM"
   },
   "source": []
  },
  {
   "cell_type": "markdown",
   "metadata": {
    "colab_type": "text",
    "id": "urvm40qZ7EcN"
   },
   "source": [
    "\n",
    "Below are plots of post synaptic targets in the from an arbitary source cell in the Entorhinal cortex, to targets taht are also in the EC."
   ]
  },
  {
   "cell_type": "code",
   "execution_count": 19,
   "metadata": {
    "colab": {
     "autoexec": {
      "startup": false,
      "wait_interval": 0
     },
     "base_uri": "https://localhost:8080/",
     "height": 339,
     "output_extras": [
      {},
      {}
     ]
    },
    "colab_type": "code",
    "collapsed": false,
    "executionInfo": {
     "elapsed": 328,
     "status": "ok",
     "timestamp": 1517604345830,
     "user": {
      "displayName": "Russell Jarvis",
      "photoUrl": "//lh5.googleusercontent.com/-HErtjr0-Ccs/AAAAAAAAAAI/AAAAAAAAAIY/fRiNN3tWm98/s50-c-k-no/photo.jpg",
      "userId": "109547486525142728971"
     },
     "user_tz": 420
    },
    "id": "F24WxZKw6zNk",
    "outputId": "1145a3d1-dcc3-4603-995b-a647ffb309b2"
   },
   "outputs": [
    {
     "data": {
      "text/plain": [
       "'\\nFigure(\\n    comparison_plot(data.filter(name=\"v\")[:], labels=\"neurons\")\\n    #, ylabel=\"Membrane potential (mV)\", xticks=True,\\n    #      xlabel=\"Time (ms)\", yticks=True),\\n    #Panel(u, ylabel=\"u variable (units?)\"),\\n    #annotations=\"Simulated with\" \\n)\\n'"
      ]
     },
     "execution_count": 19,
     "metadata": {},
     "output_type": "execute_result"
    },
    {
     "data": {
      "image/png": "[encoded data removed]",
      "text/plain": [
       "<matplotlib.figure.Figure at 0x7f6af062d6d8>"
      ]
     },
     "metadata": {},
     "output_type": "display_data"
    }
   ],
   "source": [
    "# Plot spike trains\n",
    "import matplotlib.pyplot as plt\n",
    "\n",
    "def plot_spiketrains(segment):\n",
    "  \"\"\"\n",
    "  Plots the spikes of all the cells in the given segments\n",
    "  \"\"\"\n",
    "  for spiketrain in segment.spiketrains:\n",
    "      y = np.ones_like(spiketrain) * spiketrain.annotations['source_id']\n",
    "      plt.plot(spiketrain, y, 'b')\n",
    "      plt.ylabel('Neuron number')\n",
    "      plt.xlabel('Spikes')\n",
    "        \n",
    "spikes = neurons.get_data(\"spikes\").segments[0]\n",
    "data = neurons.get_data().segments[0]\n",
    "#print(data.spiketrains)\n",
    "plot_spiketrains(data)\n",
    "\n",
    "\n",
    "'''\n",
    "Figure(\n",
    "    comparison_plot(data.filter(name=\"v\")[:], labels=\"neurons\")\n",
    "    #, ylabel=\"Membrane potential (mV)\", xticks=True,\n",
    "    #      xlabel=\"Time (ms)\", yticks=True),\n",
    "    #Panel(u, ylabel=\"u variable (units?)\"),\n",
    "    #annotations=\"Simulated with\" \n",
    ")\n",
    "'''\n",
    "\n",
    "\n",
    "# === Clean up and quit ========================================================\n",
    "#spikes = pop.get_data(\"spikes\").segments[0]\n",
    "#data = pop.get_data().segments[0]\n",
    "#print(data.spiketrains)\n",
    "\n",
    "\n",
    "#sim.end()\n",
    "\n",
    "\n",
    "#print(spikes)\n",
    "#m\n",
    "#print(plt.backend)\n",
    "#ax.figure.show()\n",
    "#fig.savefig('connection_matrix.png')\n",
    "#from IPython.display import Image\n",
    "#Image(filename='connection_matrix.png') \n",
    "#df\n",
    "#targets\n",
    "#pd.DataFrame(targets).plot.hist()\n",
    "#for k,v in targets.items():\n",
    "#  pd.DataFrame(v).plot.hist()\n",
    "#df"
   ]
  },
  {
   "cell_type": "code",
   "execution_count": 20,
   "metadata": {
    "colab": {
     "autoexec": {
      "startup": false,
      "wait_interval": 0
     },
     "base_uri": "https://localhost:8080/",
     "height": 305,
     "output_extras": [
      {}
     ]
    },
    "colab_type": "code",
    "collapsed": false,
    "executionInfo": {
     "elapsed": 239,
     "status": "ok",
     "timestamp": 1517604346357,
     "user": {
      "displayName": "Russell Jarvis",
      "photoUrl": "//lh5.googleusercontent.com/-HErtjr0-Ccs/AAAAAAAAAAI/AAAAAAAAAIY/fRiNN3tWm98/s50-c-k-no/photo.jpg",
      "userId": "109547486525142728971"
     },
     "user_tz": 420
    },
    "id": "rs9X-xfLB8Lg",
    "outputId": "b6f6aefa-580c-4c80-ec6f-d25962504ef4"
   },
   "outputs": [],
   "source": [
    "#Image(filename='connection_matrix.png') \n"
   ]
  },
  {
   "cell_type": "code",
   "execution_count": 21,
   "metadata": {
    "colab": {
     "autoexec": {
      "startup": false,
      "wait_interval": 0
     },
     "base_uri": "https://localhost:8080/",
     "height": 136,
     "output_extras": [
      {}
     ]
    },
    "colab_type": "code",
    "collapsed": false,
    "executionInfo": {
     "elapsed": 5684,
     "status": "ok",
     "timestamp": 1517604352233,
     "user": {
      "displayName": "Russell Jarvis",
      "photoUrl": "//lh5.googleusercontent.com/-HErtjr0-Ccs/AAAAAAAAAAI/AAAAAAAAAIY/fRiNN3tWm98/s50-c-k-no/photo.jpg",
      "userId": "109547486525142728971"
     },
     "user_tz": 420
    },
    "id": "_lauQFP96Lye",
    "outputId": "b6fe04cb-097f-47d1-b621-a1328c71a350"
   },
   "outputs": [
    {
     "data": {
      "text/plain": [
       "<pyNN.utility.plotting.Figure at 0x7f6b01f9d710>"
      ]
     },
     "execution_count": 21,
     "metadata": {},
     "output_type": "execute_result"
    },
    {
     "data": {
      "image/png": "[encoded data removed]",
      "text/plain": [
       "<matplotlib.figure.Figure at 0x7f6b01f9d8d0>"
      ]
     },
     "metadata": {},
     "output_type": "display_data"
    }
   ],
   "source": [
    "\n",
    "\n",
    "\n",
    "#u = data.filter(name=\"u\")[0]\n",
    "Figure(\n",
    "    Panel(v0, ylabel=\"Membrane potential (mV)\", xticks=True,\n",
    "          xlabel=\"Time (ms)\", yticks=True),\n",
    "    #Panel(u, ylabel=\"u variable (units?)\"),\n",
    "    annotations=\"Simulated with\" \n",
    ")\n",
    "\n"
   ]
  },
  {
   "cell_type": "code",
   "execution_count": 22,
   "metadata": {
    "colab": {
     "autoexec": {
      "startup": false,
      "wait_interval": 0
     },
     "base_uri": "https://localhost:8080/",
     "height": 640,
     "output_extras": [
      {},
      {}
     ]
    },
    "colab_type": "code",
    "collapsed": false,
    "executionInfo": {
     "elapsed": 291,
     "status": "error",
     "timestamp": 1517604352565,
     "user": {
      "displayName": "Russell Jarvis",
      "photoUrl": "//lh5.googleusercontent.com/-HErtjr0-Ccs/AAAAAAAAAAI/AAAAAAAAAIY/fRiNN3tWm98/s50-c-k-no/photo.jpg",
      "userId": "109547486525142728971"
     },
     "user_tz": 420
    },
    "id": "lM_59lrS5k-q",
    "outputId": "a3e0bfaa-ff4a-4a25-e3d8-afff5b110167"
   },
   "outputs": [
    {
     "data": {
      "text/plain": [
       "<pyNN.utility.plotting.Figure at 0x7f6b01f9d0b8>"
      ]
     },
     "execution_count": 22,
     "metadata": {},
     "output_type": "execute_result"
    },
    {
     "data": {
      "image/png": "[encoded data removed]",
      "text/plain": [
       "<matplotlib.figure.Figure at 0x7f6b01f9d748>"
      ]
     },
     "metadata": {},
     "output_type": "display_data"
    }
   ],
   "source": [
    "\n",
    "#u = data.filter(name=\"u\")[0]\n",
    "Figure(\n",
    "    Panel(v1, ylabel=\"Membrane potential (mV)\", xticks=True,\n",
    "          xlabel=\"Time (ms)\", yticks=True),\n",
    "    #Panel(u, ylabel=\"u variable (units?)\"),\n",
    "    annotations=\"Simulated with\" \n",
    ")\n",
    "\n"
   ]
  },
  {
   "cell_type": "code",
   "execution_count": null,
   "metadata": {
    "colab": {
     "autoexec": {
      "startup": false,
      "wait_interval": 0
     },
     "base_uri": "https://localhost:8080/",
     "height": 405,
     "output_extras": [
      {},
      {}
     ]
    },
    "colab_type": "code",
    "collapsed": false,
    "executionInfo": {
     "elapsed": 400,
     "status": "ok",
     "timestamp": 1516811287724,
     "user": {
      "displayName": "Russell Jarvis",
      "photoUrl": "//lh5.googleusercontent.com/-HErtjr0-Ccs/AAAAAAAAAAI/AAAAAAAAAIY/fRiNN3tWm98/s50-c-k-no/photo.jpg",
      "userId": "109547486525142728971"
     },
     "user_tz": 420
    },
    "id": "Koq5-kTIR3Yk",
    "outputId": "5bf0aabd-d509-4ae2-c7ae-932a2410ba46"
   },
   "outputs": [],
   "source": []
  },
  {
   "cell_type": "markdown",
   "metadata": {
    "colab_type": "text",
    "id": "7asrV8aAhqts"
   },
   "source": [
    "\n",
    "\n",
    "```\n",
    "# This is formatted as code\n",
    "```\n",
    "\n"
   ]
  },
  {
   "cell_type": "markdown",
   "metadata": {
    "colab_type": "text",
    "id": "FaIbSxpChrZq"
   },
   "source": []
  },
  {
   "cell_type": "code",
   "execution_count": null,
   "metadata": {
    "colab": {
     "autoexec": {
      "startup": false,
      "wait_interval": 0
     }
    },
    "colab_type": "code",
    "collapsed": true,
    "id": "sJSxqClzhrti"
   },
   "outputs": [],
   "source": []
  },
  {
   "cell_type": "markdown",
   "metadata": {
    "colab_type": "text",
    "id": "LDrZGO2A6w2G"
   },
   "source": []
  },
  {
   "cell_type": "code",
   "execution_count": null,
   "metadata": {
    "collapsed": true
   },
   "outputs": [],
   "source": []
  },
  {
   "cell_type": "code",
   "execution_count": null,
   "metadata": {
    "collapsed": true
   },
   "outputs": [],
   "source": []
  },
  {
   "cell_type": "code",
   "execution_count": null,
   "metadata": {
    "collapsed": true
   },
   "outputs": [],
   "source": []
  }
 ],
 "metadata": {
  "colab": {
   "collapsed_sections": [],
   "default_view": {},
   "name": "Assignment3.ipynb",
   "provenance": [],
   "version": "0.3.2",
   "views": {}
  },
  "kernelspec": {
   "display_name": "Python 3",
   "language": "python",
   "name": "python3"
  },
  "language_info": {
   "codemirror_mode": {
    "name": "ipython",
    "version": 3
   },
   "file_extension": ".py",
   "mimetype": "text/x-python",
   "name": "python",
   "nbconvert_exporter": "python",
   "pygments_lexer": "ipython3",
   "version": "3.5.2"
  }
 },
 "nbformat": 4,
 "nbformat_minor": 0
}
