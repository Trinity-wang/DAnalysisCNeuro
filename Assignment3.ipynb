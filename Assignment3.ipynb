{
  "nbformat": 4,
  "nbformat_minor": 0,
  "metadata": {
    "colab": {
      "name": "Assignment3.ipynb",
      "version": "0.3.2",
      "views": {},
      "default_view": {},
      "provenance": [],
      "collapsed_sections": []
    },
    "kernelspec": {
      "name": "python3",
      "display_name": "Python 3"
    }
  },
  "cells": [
    {
      "metadata": {
        "id": "UE1Rc8hOhv6N",
        "colab_type": "text"
      },
      "cell_type": "markdown",
      "source": [
        "# Assignment 3 Data Analysis via Pandas\n",
        "\n",
        "The goal is to test if connectivity information combined with simple cell dynamic models can set up a situation where a\n",
        "teaching relationship can be measured in the dynamic activity between grid (teacher) and place (student) populations.\n",
        "\n",
        "## Goals \n",
        "## 1 \n",
        "Get an experimentally informed connection matrix from from http://hippocampome.org/netlist\n",
        "Or an excell spreadsheet of similar origin.\n",
        "## 2 \n",
        "Mutate the excell document into a adjacency matrix to pandas df\n",
        "## 3 \n",
        "Search inside the data frame, create a filtered df/matrix using only entities from the Medial Entorhinal Cortex (MEC)rt\n",
        "Done\n",
        "\n",
        "## 3.75 \n",
        "Create histograms that summarize the target cells.\n",
        "# \n",
        "Ascertain whether an entity is exhitatory or inhibitory and apropriately substitute in simplified versions of Fast Inhibitory, or Izhiketich excitatory.\n",
        "\n",
        "Use PyNN instead of Neuromorphic hardware, as anything developed in PyNN can be run here.\n",
        "\n",
        "## 4 \n",
        "Use a transfer entropy toolbox to find out if grid cell behavior predicts place cell behavior, merely due to effective connectivity.\n",
        "\n",
        "## 5\n",
        "If grid cell's train place cells there should be higher directed mutual information from Grid -> Place. \n",
        "\n",
        "There should be lower directed mutual information from Place -> Grid.\n",
        "\n",
        "# Don't Do:\n",
        "\n",
        "## 4 \n",
        "Search Allen Brain and NeuroElectro for physiological properties that can be modelled using the smaller list of cell type entities limited to the MEC. \n",
        "Only interested in models that can be implemented in PyNN, on SpiNNaker\n",
        "## 5 \n",
        "Programatically push a job to the Human Brain Collaboration Portal using:\n",
        "## 6\n",
        "Authenticate on the BBP using:\n",
        "from bbp_client.oidc.client import BBPOIDCClient\n",
        "client = BBPOIDCClient.file_auth('path_to_yaml')\n",
        "\n",
        "## 6\n",
        "https://developer.humanbrainproject.eu/docs/projects/bbp-client/0.4.4/task_service.html\n",
        "\n",
        "## 7\n",
        "https://collab.humanbrainproject.eu/#/collab/5458/nav/42545\n"
      ]
    },
    {
      "metadata": {
        "id": "FV30XZ3AVqiG",
        "colab_type": "code",
        "colab": {
          "autoexec": {
            "startup": false,
            "wait_interval": 0
          }
        }
      },
      "cell_type": "code",
      "source": [
        ""
      ],
      "execution_count": 0,
      "outputs": []
    },
    {
      "metadata": {
        "id": "LibJ633qBq06",
        "colab_type": "code",
        "colab": {
          "autoexec": {
            "startup": false,
            "wait_interval": 0
          },
          "output_extras": [
            {
              "item_id": 1
            }
          ],
          "base_uri": "https://localhost:8080/",
          "height": 34
        },
        "outputId": "92701c6a-49df-4104-848e-f397b9625c87",
        "executionInfo": {
          "status": "ok",
          "timestamp": 1518449624332,
          "user_tz": 420,
          "elapsed": 29042,
          "user": {
            "displayName": "Russell Jarvis",
            "photoUrl": "//lh5.googleusercontent.com/-HErtjr0-Ccs/AAAAAAAAAAI/AAAAAAAAAIY/fRiNN3tWm98/s50-c-k-no/photo.jpg",
            "userId": "109547486525142728971"
          }
        }
      },
      "cell_type": "code",
      "source": [
        "import os\n",
        "import pandas as pd\n",
        "\n",
        "\n",
        "# Perform some system admin\n",
        "\n",
        "import os\n",
        "import pandas as pd\n",
        "import sys\n",
        "import matplotlib as mpl\n",
        "%matplotlib inline\n",
        "mpl.rcParams.update({'font.size':16})\n",
        "installs = ['neuron','mpi4py','xlrd','pyNN','seaborn','lazyarray','neo','neuron','brian2'\n",
        "def install_deps(i):\n",
        "  '''\n",
        "  Hack in dependencies to sys.path\n",
        "  '''\n",
        "  import os\n",
        "  if i not in sys.path:\n",
        "    os.system('pip install '+str(i))    \n",
        "\n",
        "_ = list(map(install_deps,installs))\n",
        "#import lazyarray\n",
        "#import pyNN\n",
        "import os\n",
        "import pandas as pd\n",
        "\n",
        "\n",
        "\n",
        "# Get some hippocampus connectivity data, based on a conversation with\n",
        "# academic researchers on GH:\n",
        "# https://github.com/Hippocampome-Org/GraphTheory/issues?q=is%3Aissue+is%3Aclosed\n",
        "# scrape hippocamome connectivity data, that I intend to use to program neuromorphic hardware.\n",
        "# conditionally get files if they don't exist.\n",
        "\n",
        "\n",
        "# This connection matrix is not very informative, because it only tells you about connections dissociated From\n",
        "# a stable list of cellular entities.\n",
        "# path = 'netlist'\n",
        "# if not os.path.exists(path):\n",
        "#     os.system('wget http://hippocampome.org/netlist')\n",
        "# nldf = pd.read_csv('netlist',delimiter=',').dropna()\n",
        "\n",
        "path_xl = '_hybrid_connectivity_matrix_20171103_092033.xlsx'\n",
        "if not os.path.exists(path_xl):\n",
        "    os.system('wget https://github.com/Hippocampome-Org/GraphTheory/files/1657258/_hybrid_connectivity_matrix_20171103_092033.xlsx')\n",
        "\n",
        "#import xlrd\n",
        "xl = pd.ExcelFile(path_xl)\n",
        "dfEE = xl.parse()\n",
        "dfEE.loc[0].keys()\n",
        "#dfEE =  pd.DataFrame([ (k,v) for k,v in df.items() ])\n",
        "\n",
        "\n",
        "print('filter the data frame to extract only Entorhinal Cortex Entities')\n",
        "#print(dfEE)\n",
        "import matplotlib.pyplot as plt\n",
        "dfm = dfEE.as_matrix()\n",
        "\n",
        "#help(np.matrix)"
      ],
      "execution_count": 4,
      "outputs": [
        {
          "output_type": "stream",
          "text": [
            "filter the data frame to extract only Entorhinal Cortex Entities\n"
          ],
          "name": "stdout"
        }
      ]
    },
    {
      "metadata": {
        "id": "3NNiXkq-Oep6",
        "colab_type": "code",
        "colab": {
          "autoexec": {
            "startup": false,
            "wait_interval": 0
          },
          "output_extras": [
            {
              "item_id": 6
            },
            {
              "item_id": 7
            }
          ],
          "base_uri": "https://localhost:8080/",
          "height": 573
        },
        "outputId": "c8faf344-cda1-4418-fd12-5a4f69d3e0a2",
        "executionInfo": {
          "status": "ok",
          "timestamp": 1518450004036,
          "user_tz": 420,
          "elapsed": 4194,
          "user": {
            "displayName": "Russell Jarvis",
            "photoUrl": "//lh5.googleusercontent.com/-HErtjr0-Ccs/AAAAAAAAAAI/AAAAAAAAAIY/fRiNN3tWm98/s50-c-k-no/photo.jpg",
            "userId": "109547486525142728971"
          }
        }
      },
      "cell_type": "code",
      "source": [
        "!pip install brian\n",
        "!conda install brian2 neuron\n",
        "import brian2\n",
        "print(dfm)\n",
        "dfm[0]"
      ],
      "execution_count": 12,
      "outputs": [
        {
          "output_type": "stream",
          "text": [
            "Collecting brian\n",
            "  Using cached brian-1.4.4.tar.gz\n",
            "    Complete output from command python setup.py egg_info:\n",
            "    Traceback (most recent call last):\n",
            "      File \"<string>\", line 1, in <module>\n",
            "      File \"/tmp/pip-build-wwndos4l/brian/setup.py\", line 31\n",
            "        except CCompilerError, ex:\n",
            "                             ^\n",
            "    SyntaxError: invalid syntax\n",
            "    \n",
            "    ----------------------------------------\n",
            "\u001b[31mCommand \"python setup.py egg_info\" failed with error code 1 in /tmp/pip-build-wwndos4l/brian/\u001b[0m\n",
            "/bin/sh: 1: conda: not found\n",
            "[['↓' 'UniqueID' 1000 ... 6040 6087 6038]\n",
            " ['DG: Granule (+)2201p' 1000 0 ... 0 0 0]\n",
            " ['DG: Hilar Ectopic Granule (+)2203p' 1041 0 ... 0 0 0]\n",
            " ...\n",
            " ['EC: MEC LIII Superficial MPI (-)233000' 6040 0 ... -1 -1 -1]\n",
            " ['EC: LIII Pyramidal-Looking (-)023300' 6087 0 ... -1 -1 -1]\n",
            " ['EC: MEC LIII Superficial Trilayer (-)333000' 6038 0 ... -1 -1 -1]]\n"
          ],
          "name": "stdout"
        },
        {
          "output_type": "execute_result",
          "data": {
            "text/plain": [
              "array(['↓', 'UniqueID', 1000, 1041, 1001, 1002, 1043, 1027, 1010, 1035,\n",
              "       1036, 1009, 1013, 1026, 1040, 1005, 1008, 1007, 1006, 1004, 2000,\n",
              "       2004, 2003, 2001, 2028, 2047, 2043, 2044, 2045, 2021, 2042, 2046,\n",
              "       2005, 2017, 2013, 2014, 2019, 2036, 2035, 2009, 2049, 2023, 2008,\n",
              "       2022, 2020, 3000, 3006, 3007, 3003, 3008, 4000, 4094, 4054, 4036,\n",
              "       4038, 4023, 4078, 4079, 4039, 4080, 4022, 4021, 4056, 4031, 4020,\n",
              "       4091, 4093, 4081, 4005, 4004, 4012, 4011, 4069, 4089, 4087, 4055,\n",
              "       4083, 4068, 4066, 4006, 4076, 4003, 4028, 4061, 4015, 4084, 4033,\n",
              "       4041, 4035, 4013, 5001, 5005, 5002, 6094, 6005, 6008, 6019, 6003,\n",
              "       6082, 6025, 6031, 6017, 6007, 6006, 6024, 6092, 6018, 6095, 6085,\n",
              "       6086, 6033, 6021, 6002, 6023, 6052, 6078, 6048, 6096, 6053, 6049,\n",
              "       6047, 6040, 6087, 6038], dtype=object)"
            ]
          },
          "metadata": {
            "tags": []
          },
          "execution_count": 12
        }
      ]
    },
    {
      "metadata": {
        "id": "dNffjJS_B4KG",
        "colab_type": "code",
        "colab": {
          "autoexec": {
            "startup": false,
            "wait_interval": 0
          },
          "output_extras": [
            {
              "item_id": 1
            },
            {
              "item_id": 2
            }
          ],
          "base_uri": "https://localhost:8080/",
          "height": 652
        },
        "outputId": "9e251a8b-d3c0-4148-95f6-48d88e647feb",
        "executionInfo": {
          "status": "error",
          "timestamp": 1518449625612,
          "user_tz": 420,
          "elapsed": 454,
          "user": {
            "displayName": "Russell Jarvis",
            "photoUrl": "//lh5.googleusercontent.com/-HErtjr0-Ccs/AAAAAAAAAAI/AAAAAAAAAIY/fRiNN3tWm98/s50-c-k-no/photo.jpg",
            "userId": "109547486525142728971"
          }
        }
      },
      "cell_type": "code",
      "source": [
        "\n",
        "import numpy as np\n",
        "from pyNN.neuron import STDPMechanism\n",
        "import copy\n",
        "print(dfm)\n",
        "EElist = []\n",
        "IIlist = []\n",
        "for i,j in enumerate(dfm):\n",
        "  entryE = [0 for i,_ in enumerate(dfm)]\n",
        "  for k,xaxis in enumerate(j):\n",
        "    #print(k,xaxis)\n",
        "    if xaxis=='1' or xaxis =='2':\n",
        "      entryE[k] = 1\n",
        "      source = i\n",
        "      target = k\n",
        "      delay = 0.0\n",
        "      weight = 0.1\n",
        "      EElist.append((source,target,delay,weight))\n",
        "\n",
        "for i,j in enumerate(dfm):\n",
        "  entryI = [0 for i,_ in enumerate(dfm)]\n",
        "  for k,xaxis in enumerate(j):\n",
        "    #print(k,xaxis)\n",
        "    #pdb.set_trace()\n",
        "    if xaxis=='-1' or xaxis =='-2':\n",
        "      entryI[k] = 1\n",
        "      source = i\n",
        "      target = k\n",
        "      delay = 0.0\n",
        "      weight = 0.1\n",
        "      IIlist.append((source,target,delay,weight))\n",
        "\n",
        "#print(np.sum(EE))\n",
        "#print(np.sum(II))  \n",
        "import pyNN\n",
        "dir(pyNN)\n",
        "import pdb\n",
        "pdb.set_trace()\n",
        "from pyNN import STDPMechanism\n",
        "stdp = STDPMechanism(\n",
        "          weight=0.02,  # this is the initial value of the weight\n",
        "          delay=\"0.2 + 0.01*d\",\n",
        "          timing_dependence=SpikePairRule(tau_plus=20.0, tau_minus=20.0,\n",
        "                                          A_plus=0.01, A_minus=0.012),\n",
        "          weight_dependence=AdditiveWeightDependence(w_min=0, w_max=0.04))\n",
        "\n",
        "connector = FromListConnector(EElist, column_names=[\"weight\", \"delay\"])\n",
        "excitatory_connections = Projection(pre, post, connector,\n",
        "                                    StaticSynapse(weight=0.123))\n"
      ],
      "execution_count": 6,
      "outputs": [
        {
          "output_type": "stream",
          "text": [
            "/usr/local/lib/python3.6/dist-packages/pyNN/neuron/__init__.py:14: UserWarning: mpi4py not available\n",
            "  warnings.warn(\"mpi4py not available\")\n"
          ],
          "name": "stderr"
        },
        {
          "output_type": "error",
          "ename": "ModuleNotFoundError",
          "evalue": "ignored",
          "traceback": [
            "\u001b[0;31m---------------------------------------------------------------------------\u001b[0m",
            "\u001b[0;31mModuleNotFoundError\u001b[0m                       Traceback (most recent call last)",
            "\u001b[0;32m<ipython-input-6-6875f84bd567>\u001b[0m in \u001b[0;36m<module>\u001b[0;34m()\u001b[0m\n\u001b[1;32m      1\u001b[0m \u001b[0;34m\u001b[0m\u001b[0m\n\u001b[1;32m      2\u001b[0m \u001b[0;32mimport\u001b[0m \u001b[0mnumpy\u001b[0m \u001b[0;32mas\u001b[0m \u001b[0mnp\u001b[0m\u001b[0;34m\u001b[0m\u001b[0m\n\u001b[0;32m----> 3\u001b[0;31m \u001b[0;32mfrom\u001b[0m \u001b[0mpyNN\u001b[0m\u001b[0;34m.\u001b[0m\u001b[0mneuron\u001b[0m \u001b[0;32mimport\u001b[0m \u001b[0mSTDPMechanism\u001b[0m\u001b[0;34m\u001b[0m\u001b[0m\n\u001b[0m\u001b[1;32m      4\u001b[0m \u001b[0;32mimport\u001b[0m \u001b[0mcopy\u001b[0m\u001b[0;34m\u001b[0m\u001b[0m\n\u001b[1;32m      5\u001b[0m \u001b[0mprint\u001b[0m\u001b[0;34m(\u001b[0m\u001b[0mdfm\u001b[0m\u001b[0;34m)\u001b[0m\u001b[0;34m\u001b[0m\u001b[0m\n",
            "\u001b[0;32m/usr/local/lib/python3.6/dist-packages/pyNN/neuron/__init__.py\u001b[0m in \u001b[0;36m<module>\u001b[0;34m()\u001b[0m\n\u001b[1;32m     19\u001b[0m \u001b[0;32mfrom\u001b[0m \u001b[0mpyNN\u001b[0m\u001b[0;34m.\u001b[0m\u001b[0mrecording\u001b[0m \u001b[0;32mimport\u001b[0m \u001b[0mget_io\u001b[0m\u001b[0;34m\u001b[0m\u001b[0m\n\u001b[1;32m     20\u001b[0m \u001b[0;32mfrom\u001b[0m \u001b[0mpyNN\u001b[0m\u001b[0;34m.\u001b[0m\u001b[0mspace\u001b[0m \u001b[0;32mimport\u001b[0m \u001b[0mSpace\u001b[0m\u001b[0;34m\u001b[0m\u001b[0m\n\u001b[0;32m---> 21\u001b[0;31m \u001b[0;32mfrom\u001b[0m \u001b[0mpyNN\u001b[0m\u001b[0;34m.\u001b[0m\u001b[0mneuron\u001b[0m \u001b[0;32mimport\u001b[0m \u001b[0msimulator\u001b[0m\u001b[0;34m\u001b[0m\u001b[0m\n\u001b[0m\u001b[1;32m     22\u001b[0m \u001b[0;32mfrom\u001b[0m \u001b[0mpyNN\u001b[0m\u001b[0;34m.\u001b[0m\u001b[0mneuron\u001b[0m\u001b[0;34m.\u001b[0m\u001b[0mrandom\u001b[0m \u001b[0;32mimport\u001b[0m \u001b[0mNativeRNG\u001b[0m\u001b[0;34m\u001b[0m\u001b[0m\n\u001b[1;32m     23\u001b[0m \u001b[0;32mfrom\u001b[0m \u001b[0mpyNN\u001b[0m\u001b[0;34m.\u001b[0m\u001b[0mneuron\u001b[0m\u001b[0;34m.\u001b[0m\u001b[0mstandardmodels\u001b[0m\u001b[0;34m.\u001b[0m\u001b[0mcells\u001b[0m \u001b[0;32mimport\u001b[0m \u001b[0;34m*\u001b[0m\u001b[0;34m\u001b[0m\u001b[0m\n",
            "\u001b[0;32m/usr/local/lib/python3.6/dist-packages/pyNN/neuron/simulator.py\u001b[0m in \u001b[0;36m<module>\u001b[0;34m()\u001b[0m\n\u001b[1;32m     30\u001b[0m \u001b[0;32mimport\u001b[0m \u001b[0mnumpy\u001b[0m\u001b[0;34m\u001b[0m\u001b[0m\n\u001b[1;32m     31\u001b[0m \u001b[0;32mimport\u001b[0m \u001b[0mos\u001b[0m\u001b[0;34m.\u001b[0m\u001b[0mpath\u001b[0m\u001b[0;34m\u001b[0m\u001b[0m\n\u001b[0;32m---> 32\u001b[0;31m \u001b[0;32mfrom\u001b[0m \u001b[0mneuron\u001b[0m \u001b[0;32mimport\u001b[0m \u001b[0mh\u001b[0m\u001b[0;34m,\u001b[0m \u001b[0mnrn_dll_loaded\u001b[0m\u001b[0;34m\u001b[0m\u001b[0m\n\u001b[0m\u001b[1;32m     33\u001b[0m \u001b[0;32mfrom\u001b[0m \u001b[0moperator\u001b[0m \u001b[0;32mimport\u001b[0m \u001b[0mitemgetter\u001b[0m\u001b[0;34m\u001b[0m\u001b[0m\n\u001b[1;32m     34\u001b[0m \u001b[0;34m\u001b[0m\u001b[0m\n",
            "\u001b[0;31mModuleNotFoundError\u001b[0m: No module named 'neuron'",
            "",
            "\u001b[0;31m---------------------------------------------------------------------------\u001b[0;32m\nNOTE: If your import is failing due to a missing package, you can\nmanually install dependencies using either !pip or !apt.\n\nTo view examples of installing some common dependencies, click the\n\"Open Examples\" button below.\n\u001b[0;31m---------------------------------------------------------------------------\u001b[0m\n"
          ]
        }
      ]
    },
    {
      "metadata": {
        "id": "G0cEfPGmBur8",
        "colab_type": "code",
        "colab": {
          "autoexec": {
            "startup": false,
            "wait_interval": 0
          },
          "output_extras": [
            {
              "item_id": 1
            }
          ],
          "base_uri": "https://localhost:8080/",
          "height": 260
        },
        "outputId": "a349f6c8-dca6-4fba-9d73-206dd1f021d0",
        "executionInfo": {
          "status": "ok",
          "timestamp": 1518016626816,
          "user_tz": 420,
          "elapsed": 388,
          "user": {
            "displayName": "Russell Jarvis",
            "photoUrl": "//lh5.googleusercontent.com/-HErtjr0-Ccs/AAAAAAAAAAI/AAAAAAAAAIY/fRiNN3tWm98/s50-c-k-no/photo.jpg",
            "userId": "109547486525142728971"
          }
        }
      },
      "cell_type": "code",
      "source": [
        "print(II)\n",
        "import pandas as pd\n",
        "#dfEE =  pd.DataFrame([ (k,v) for k,v in df.items() if 'EC' in k ])\n",
        "\n",
        "import numpy as np\n",
        "np.shape(dfEE)\n",
        "\n",
        "print(dfEE.keys())"
      ],
      "execution_count": 3,
      "outputs": [
        {
          "output_type": "stream",
          "text": [
            "Index(['Name', '→', 'DG: Granule (+)2201p',\n",
            "       'DG: Hilar Ectopic Granule (+)2203p', 'DG: Semilunar Granule (+)2311p',\n",
            "       'DG: Mossy (+)0103', 'DG: Mossy MOLDEN (+)2323', 'DG: AIPRIM (-)2333',\n",
            "       'DG: DG Axo-Axonic (-)2233', 'DG: DG Basket (-)2232',\n",
            "       ...\n",
            "       'EC: MEC LV-VI PC-Polymorph (+)000023',\n",
            "       'EC: LEC LVI Multipolar-PC (+)001133', 'EC: LII Axo-Axonic (-)030000',\n",
            "       'EC: MEC LII Basket (-)031000', 'EC: LII Basket-Multipolar (-)230000',\n",
            "       'EC: LEC LIII Multipolar (-)023000',\n",
            "       'EC: MEC LIII Multipolar (-)113220',\n",
            "       'EC: MEC LIII Superficial MPI (-)233000',\n",
            "       'EC: LIII Pyramidal-Looking (-)023300',\n",
            "       'EC: MEC LIII Superficial Trilayer (-)333000'],\n",
            "      dtype='object', length=124)\n"
          ],
          "name": "stdout"
        }
      ]
    },
    {
      "metadata": {
        "id": "CBCHDUkvI2o2",
        "colab_type": "code",
        "colab": {
          "autoexec": {
            "startup": false,
            "wait_interval": 0
          },
          "output_extras": [
            {
              "item_id": 1
            }
          ],
          "base_uri": "https://localhost:8080/",
          "height": 236
        },
        "outputId": "de8bb6b5-ad6c-4cec-bd4f-0a308072e094",
        "executionInfo": {
          "status": "error",
          "timestamp": 1518016627314,
          "user_tz": 420,
          "elapsed": 417,
          "user": {
            "displayName": "Russell Jarvis",
            "photoUrl": "//lh5.googleusercontent.com/-HErtjr0-Ccs/AAAAAAAAAAI/AAAAAAAAAIY/fRiNN3tWm98/s50-c-k-no/photo.jpg",
            "userId": "109547486525142728971"
          }
        }
      },
      "cell_type": "code",
      "source": [
        "#print(matrix)\n",
        "#sns.pairplot(df, hue=\"species\")\n",
        "from scipy.sparse import coo_matrix\n",
        "m = np.matrix(matrix)\n",
        "if not isinstance(matrix, coo_matrix):\n",
        "    m = coo_matrix(m)\n",
        "fig = plt.figure()\n",
        "ax = fig.add_subplot(111, axisbg='black')\n",
        "ax.plot(m.col, m.row, 's', color='white', ms=1)\n",
        "ax.set_xlim(0, m.shape[1])\n",
        "ax.set_ylim(0, m.shape[0])\n",
        "ax.set_aspect('equal')\n",
        "for spine in ax.spines.values():\n",
        "    spine.set_visible(False)\n",
        "ax.invert_yaxis()\n",
        "ax.set_aspect('equal')\n",
        "ax.set_xticks([])\n",
        "ax.set_yticks([])\n",
        "ax.figure.show()\n",
        "\n",
        "#fig.show()\n",
        "#plt.show()\n",
        "\n",
        "#print(m)\n",
        "\n",
        "#import seaborn as sns\n",
        "\n",
        "#sns.set(style=\"ticks\")\n",
        "\n",
        "#df = sns.load_dataset(\"iris\")\n",
        "#sns.pairplot(m, hue=\"species\")\n",
        "#print(matrix[1][0])\n",
        "#print(m[0])"
      ],
      "execution_count": 4,
      "outputs": [
        {
          "output_type": "error",
          "ename": "NameError",
          "evalue": "ignored",
          "traceback": [
            "\u001b[0;31m---------------------------------------------------------------------------\u001b[0m",
            "\u001b[0;31mNameError\u001b[0m                                 Traceback (most recent call last)",
            "\u001b[0;32m<ipython-input-4-b853acb3692d>\u001b[0m in \u001b[0;36m<module>\u001b[0;34m()\u001b[0m\n\u001b[1;32m      1\u001b[0m \u001b[0;32mfrom\u001b[0m \u001b[0mscipy\u001b[0m\u001b[0;34m.\u001b[0m\u001b[0msparse\u001b[0m \u001b[0;32mimport\u001b[0m \u001b[0mcoo_matrix\u001b[0m\u001b[0;34m\u001b[0m\u001b[0m\n\u001b[0;32m----> 2\u001b[0;31m \u001b[0mm\u001b[0m \u001b[0;34m=\u001b[0m \u001b[0mnp\u001b[0m\u001b[0;34m.\u001b[0m\u001b[0mmatrix\u001b[0m\u001b[0;34m(\u001b[0m\u001b[0mmatrix\u001b[0m\u001b[0;34m)\u001b[0m\u001b[0;34m\u001b[0m\u001b[0m\n\u001b[0m\u001b[1;32m      3\u001b[0m \u001b[0;32mif\u001b[0m \u001b[0;32mnot\u001b[0m \u001b[0misinstance\u001b[0m\u001b[0;34m(\u001b[0m\u001b[0mmatrix\u001b[0m\u001b[0;34m,\u001b[0m \u001b[0mcoo_matrix\u001b[0m\u001b[0;34m)\u001b[0m\u001b[0;34m:\u001b[0m\u001b[0;34m\u001b[0m\u001b[0m\n\u001b[1;32m      4\u001b[0m     \u001b[0mm\u001b[0m \u001b[0;34m=\u001b[0m \u001b[0mcoo_matrix\u001b[0m\u001b[0;34m(\u001b[0m\u001b[0mm\u001b[0m\u001b[0;34m)\u001b[0m\u001b[0;34m\u001b[0m\u001b[0m\n\u001b[1;32m      5\u001b[0m \u001b[0mfig\u001b[0m \u001b[0;34m=\u001b[0m \u001b[0mplt\u001b[0m\u001b[0;34m.\u001b[0m\u001b[0mfigure\u001b[0m\u001b[0;34m(\u001b[0m\u001b[0;34m)\u001b[0m\u001b[0;34m\u001b[0m\u001b[0m\n",
            "\u001b[0;31mNameError\u001b[0m: name 'matrix' is not defined"
          ]
        }
      ]
    },
    {
      "metadata": {
        "id": "USZPdtT8QOIM",
        "colab_type": "text"
      },
      "cell_type": "markdown",
      "source": [
        ""
      ]
    },
    {
      "metadata": {
        "id": "urvm40qZ7EcN",
        "colab_type": "text"
      },
      "cell_type": "markdown",
      "source": [
        "Below are plots of post synaptic targets in the from an arbitary source cell in the Entorhinal cortex, to targets taht are also in the EC."
      ]
    },
    {
      "metadata": {
        "id": "F24WxZKw6zNk",
        "colab_type": "code",
        "colab": {
          "autoexec": {
            "startup": false,
            "wait_interval": 0
          },
          "output_extras": [
            {},
            {}
          ],
          "base_uri": "https://localhost:8080/",
          "height": 339
        },
        "outputId": "1145a3d1-dcc3-4603-995b-a647ffb309b2",
        "executionInfo": {
          "status": "ok",
          "timestamp": 1517604345830,
          "user_tz": 420,
          "elapsed": 328,
          "user": {
            "displayName": "Russell Jarvis",
            "photoUrl": "//lh5.googleusercontent.com/-HErtjr0-Ccs/AAAAAAAAAAI/AAAAAAAAAIY/fRiNN3tWm98/s50-c-k-no/photo.jpg",
            "userId": "109547486525142728971"
          }
        }
      },
      "cell_type": "code",
      "source": [
        "m\n",
        "#print(plt.backend)\n",
        "ax.figure.show()\n",
        "fig.savefig('connection_matrix.png')\n",
        "from IPython.display import Image\n",
        "Image(filename='connection_matrix.png') \n",
        "#df\n",
        "#targets\n",
        "#pd.DataFrame(targets).plot.hist()\n",
        "#for k,v in targets.items():\n",
        "#  pd.DataFrame(v).plot.hist()\n",
        "#df"
      ],
      "execution_count": 0,
      "outputs": [
        {
          "output_type": "stream",
          "text": [
            "/usr/local/lib/python3.6/dist-packages/matplotlib/figure.py:418: UserWarning: matplotlib is currently using a non-GUI backend, so cannot show the figure\n",
            "  \"matplotlib is currently using a non-GUI backend, \"\n"
          ],
          "name": "stderr"
        },
        {
          "output_type": "execute_result",
          "data": {
            "image/png": "[encoded data removed]",
            "text/plain": [
              "<IPython.core.display.Image object>"
            ]
          },
          "metadata": {
            "tags": []
          },
          "execution_count": 44
        }
      ]
    },
    {
      "metadata": {
        "id": "rs9X-xfLB8Lg",
        "colab_type": "code",
        "colab": {
          "autoexec": {
            "startup": false,
            "wait_interval": 0
          },
          "output_extras": [
            {}
          ],
          "base_uri": "https://localhost:8080/",
          "height": 305
        },
        "outputId": "b6f6aefa-580c-4c80-ec6f-d25962504ef4",
        "executionInfo": {
          "status": "ok",
          "timestamp": 1517604346357,
          "user_tz": 420,
          "elapsed": 239,
          "user": {
            "displayName": "Russell Jarvis",
            "photoUrl": "//lh5.googleusercontent.com/-HErtjr0-Ccs/AAAAAAAAAAI/AAAAAAAAAIY/fRiNN3tWm98/s50-c-k-no/photo.jpg",
            "userId": "109547486525142728971"
          }
        }
      },
      "cell_type": "code",
      "source": [
        "Image(filename='connection_matrix.png') \n"
      ],
      "execution_count": 0,
      "outputs": [
        {
          "output_type": "execute_result",
          "data": {
            "image/png": "[encoded data removed]",
            "text/plain": [
              "<IPython.core.display.Image object>"
            ]
          },
          "metadata": {
            "tags": []
          },
          "execution_count": 45
        }
      ]
    },
    {
      "metadata": {
        "id": "_lauQFP96Lye",
        "colab_type": "code",
        "colab": {
          "autoexec": {
            "startup": false,
            "wait_interval": 0
          },
          "output_extras": [
            {}
          ],
          "base_uri": "https://localhost:8080/",
          "height": 136
        },
        "outputId": "b6fe04cb-097f-47d1-b621-a1328c71a350",
        "executionInfo": {
          "status": "ok",
          "timestamp": 1517604352233,
          "user_tz": 420,
          "elapsed": 5684,
          "user": {
            "displayName": "Russell Jarvis",
            "photoUrl": "//lh5.googleusercontent.com/-HErtjr0-Ccs/AAAAAAAAAAI/AAAAAAAAAIY/fRiNN3tWm98/s50-c-k-no/photo.jpg",
            "userId": "109547486525142728971"
          }
        }
      },
      "cell_type": "code",
      "source": [
        "!pip install neuron"
      ],
      "execution_count": 0,
      "outputs": [
        {
          "output_type": "stream",
          "text": [
            "Collecting neuron\n",
            "  Using cached NEURON-7.2.536.15.tar.gz\n",
            "    Complete output from command python setup.py egg_info:\n",
            "    Only Windows and 64-bit Linux currently supported by PyNEURON\n",
            "    \n",
            "    ----------------------------------------\n",
            "\u001b[31mCommand \"python setup.py egg_info\" failed with error code 1 in /tmp/pip-build-1bl3w3jq/neuron/\u001b[0m\n"
          ],
          "name": "stdout"
        }
      ]
    },
    {
      "metadata": {
        "id": "lM_59lrS5k-q",
        "colab_type": "code",
        "colab": {
          "autoexec": {
            "startup": false,
            "wait_interval": 0
          },
          "output_extras": [
            {},
            {}
          ],
          "base_uri": "https://localhost:8080/",
          "height": 640
        },
        "outputId": "a3e0bfaa-ff4a-4a25-e3d8-afff5b110167",
        "executionInfo": {
          "status": "error",
          "timestamp": 1517604352565,
          "user_tz": 420,
          "elapsed": 291,
          "user": {
            "displayName": "Russell Jarvis",
            "photoUrl": "//lh5.googleusercontent.com/-HErtjr0-Ccs/AAAAAAAAAAI/AAAAAAAAAIY/fRiNN3tWm98/s50-c-k-no/photo.jpg",
            "userId": "109547486525142728971"
          }
        }
      },
      "cell_type": "code",
      "source": [
        "from pyNN import neuron as p\n",
        "#p.setup(1.0)\n",
        "p.setup(timestep=1.0, min_delay=1.0)\n",
        "\n",
        "#cell_params = {'cm': 0.25, 'tau_m': 10.0, 'tau_refrac': 2.0, 'tau_syn_E': 2.5, 'tau_syn_I': 2.5, 'v_reset': -70.0, 'v_rest': -65.0, 'v_thresh': -55.0 }\n",
        "#cell_params = {'a':0.1779222, 'b':-5e-09, 'c':-59.52801, 'd':0.1531787, v_init=-'73.32355','i_offset':0}#, u_init, i_offset}\n",
        "\n",
        "#pop = p.Population(NETSIZE, p.IF_curr_exp(i_offset=0))\n",
        "neuron_type = p.Izhikevich()#cell_params)\n",
        "pop = p.Population(NETSIZE, neuron_type)\n",
        "#for ind in pop:\n",
        "print(p.connect)\n",
        "\n",
        "pop.record(\"spikes\")\n",
        "p.run(100)\n",
        "pop.set(i_offset=1.0)\n",
        "p.run(100)\n",
        "pop.set(i_offset=0.0)\n",
        "p.run(100)\n",
        "spikes = pop.get_data(\"spikes\")\n",
        "p.end()\n",
        "\n",
        "\n",
        "#p.setup(1.0)\n",
        "#pop = sim.Population(100, sim.IZKCurrExp(cell_params))\n",
        "\n",
        "print(spikes)"
      ],
      "execution_count": 0,
      "outputs": [
        {
          "output_type": "stream",
          "text": [
            "/usr/local/lib/python3.6/dist-packages/pyNN/neuron/__init__.py:14: UserWarning: mpi4py not available\n",
            "  warnings.warn(\"mpi4py not available\")\n"
          ],
          "name": "stderr"
        },
        {
          "output_type": "error",
          "ename": "ModuleNotFoundError",
          "evalue": "ignored",
          "traceback": [
            "\u001b[0;31m---------------------------------------------------------------------------\u001b[0m",
            "\u001b[0;31mModuleNotFoundError\u001b[0m                       Traceback (most recent call last)",
            "\u001b[0;32m<ipython-input-47-627c71f7de79>\u001b[0m in \u001b[0;36m<module>\u001b[0;34m()\u001b[0m\n\u001b[0;32m----> 1\u001b[0;31m \u001b[0;32mfrom\u001b[0m \u001b[0mpyNN\u001b[0m \u001b[0;32mimport\u001b[0m \u001b[0mneuron\u001b[0m \u001b[0;32mas\u001b[0m \u001b[0mp\u001b[0m\u001b[0;34m\u001b[0m\u001b[0m\n\u001b[0m\u001b[1;32m      2\u001b[0m \u001b[0;31m#p.setup(1.0)\u001b[0m\u001b[0;34m\u001b[0m\u001b[0;34m\u001b[0m\u001b[0m\n\u001b[1;32m      3\u001b[0m \u001b[0mp\u001b[0m\u001b[0;34m.\u001b[0m\u001b[0msetup\u001b[0m\u001b[0;34m(\u001b[0m\u001b[0mtimestep\u001b[0m\u001b[0;34m=\u001b[0m\u001b[0;36m1.0\u001b[0m\u001b[0;34m,\u001b[0m \u001b[0mmin_delay\u001b[0m\u001b[0;34m=\u001b[0m\u001b[0;36m1.0\u001b[0m\u001b[0;34m)\u001b[0m\u001b[0;34m\u001b[0m\u001b[0m\n\u001b[1;32m      4\u001b[0m \u001b[0;34m\u001b[0m\u001b[0m\n\u001b[1;32m      5\u001b[0m \u001b[0;31m#cell_params = {'cm': 0.25, 'tau_m': 10.0, 'tau_refrac': 2.0, 'tau_syn_E': 2.5, 'tau_syn_I': 2.5, 'v_reset': -70.0, 'v_rest': -65.0, 'v_thresh': -55.0 }\u001b[0m\u001b[0;34m\u001b[0m\u001b[0;34m\u001b[0m\u001b[0m\n",
            "\u001b[0;32m/usr/local/lib/python3.6/dist-packages/pyNN/neuron/__init__.py\u001b[0m in \u001b[0;36m<module>\u001b[0;34m()\u001b[0m\n\u001b[1;32m     19\u001b[0m \u001b[0;32mfrom\u001b[0m \u001b[0mpyNN\u001b[0m\u001b[0;34m.\u001b[0m\u001b[0mrecording\u001b[0m \u001b[0;32mimport\u001b[0m \u001b[0mget_io\u001b[0m\u001b[0;34m\u001b[0m\u001b[0m\n\u001b[1;32m     20\u001b[0m \u001b[0;32mfrom\u001b[0m \u001b[0mpyNN\u001b[0m\u001b[0;34m.\u001b[0m\u001b[0mspace\u001b[0m \u001b[0;32mimport\u001b[0m \u001b[0mSpace\u001b[0m\u001b[0;34m\u001b[0m\u001b[0m\n\u001b[0;32m---> 21\u001b[0;31m \u001b[0;32mfrom\u001b[0m \u001b[0mpyNN\u001b[0m\u001b[0;34m.\u001b[0m\u001b[0mneuron\u001b[0m \u001b[0;32mimport\u001b[0m \u001b[0msimulator\u001b[0m\u001b[0;34m\u001b[0m\u001b[0m\n\u001b[0m\u001b[1;32m     22\u001b[0m \u001b[0;32mfrom\u001b[0m \u001b[0mpyNN\u001b[0m\u001b[0;34m.\u001b[0m\u001b[0mneuron\u001b[0m\u001b[0;34m.\u001b[0m\u001b[0mrandom\u001b[0m \u001b[0;32mimport\u001b[0m \u001b[0mNativeRNG\u001b[0m\u001b[0;34m\u001b[0m\u001b[0m\n\u001b[1;32m     23\u001b[0m \u001b[0;32mfrom\u001b[0m \u001b[0mpyNN\u001b[0m\u001b[0;34m.\u001b[0m\u001b[0mneuron\u001b[0m\u001b[0;34m.\u001b[0m\u001b[0mstandardmodels\u001b[0m\u001b[0;34m.\u001b[0m\u001b[0mcells\u001b[0m \u001b[0;32mimport\u001b[0m \u001b[0;34m*\u001b[0m\u001b[0;34m\u001b[0m\u001b[0m\n",
            "\u001b[0;32m/usr/local/lib/python3.6/dist-packages/pyNN/neuron/simulator.py\u001b[0m in \u001b[0;36m<module>\u001b[0;34m()\u001b[0m\n\u001b[1;32m     30\u001b[0m \u001b[0;32mimport\u001b[0m \u001b[0mnumpy\u001b[0m\u001b[0;34m\u001b[0m\u001b[0m\n\u001b[1;32m     31\u001b[0m \u001b[0;32mimport\u001b[0m \u001b[0mos\u001b[0m\u001b[0;34m.\u001b[0m\u001b[0mpath\u001b[0m\u001b[0;34m\u001b[0m\u001b[0m\n\u001b[0;32m---> 32\u001b[0;31m \u001b[0;32mfrom\u001b[0m \u001b[0mneuron\u001b[0m \u001b[0;32mimport\u001b[0m \u001b[0mh\u001b[0m\u001b[0;34m,\u001b[0m \u001b[0mnrn_dll_loaded\u001b[0m\u001b[0;34m\u001b[0m\u001b[0m\n\u001b[0m\u001b[1;32m     33\u001b[0m \u001b[0;32mfrom\u001b[0m \u001b[0moperator\u001b[0m \u001b[0;32mimport\u001b[0m \u001b[0mitemgetter\u001b[0m\u001b[0;34m\u001b[0m\u001b[0m\n\u001b[1;32m     34\u001b[0m \u001b[0;34m\u001b[0m\u001b[0m\n",
            "\u001b[0;31mModuleNotFoundError\u001b[0m: No module named 'neuron'",
            "",
            "\u001b[0;31m---------------------------------------------------------------------------\u001b[0;32m\nNOTE: If your import is failing due to a missing package, you can\nmanually install dependencies using either !pip or !apt.\n\nTo view examples of installing some common dependencies, click the\n\"Open Examples\" button below.\n\u001b[0;31m---------------------------------------------------------------------------\u001b[0m\n"
          ]
        }
      ]
    },
    {
      "metadata": {
        "id": "Koq5-kTIR3Yk",
        "colab_type": "code",
        "colab": {
          "autoexec": {
            "startup": false,
            "wait_interval": 0
          },
          "output_extras": [
            {},
            {}
          ],
          "base_uri": "https://localhost:8080/",
          "height": 405
        },
        "outputId": "5bf0aabd-d509-4ae2-c7ae-932a2410ba46",
        "executionInfo": {
          "status": "ok",
          "timestamp": 1516811287724,
          "user_tz": 420,
          "elapsed": 400,
          "user": {
            "displayName": "Russell Jarvis",
            "photoUrl": "//lh5.googleusercontent.com/-HErtjr0-Ccs/AAAAAAAAAAI/AAAAAAAAAIY/fRiNN3tWm98/s50-c-k-no/photo.jpg",
            "userId": "109547486525142728971"
          }
        }
      },
      "cell_type": "code",
      "source": [
        "\n",
        "#nldf['From']\n",
        "\n",
        "#nldf.index('Granule')\n",
        "#df = nldf[nldf['Name']==3]\n",
        "\n",
        "\n",
        "#you'll likely need a user for authentication\n",
        "#user = 'gevaert'\n",
        "#server = 'http://localhost:8888'\n",
        "#from bbp_client.oidc.client import BBPOIDCClient\n",
        "#client = BBPOIDCClient.implicit_auth(user)\n",
        "#from bbp_client.task_service.client import Client\n",
        "#ts = Client(server, client)\n",
        "#ts.get_tasks()\n",
        "#bbp_client.register_task()\n",
        "#bbp_client.start_job()"
      ],
      "execution_count": 0,
      "outputs": [
        {
          "output_type": "stream",
          "text": [
            "['T', '_AXIS_ALIASES', '_AXIS_IALIASES', '_AXIS_LEN', '_AXIS_NAMES', '_AXIS_NUMBERS', '_AXIS_ORDERS', '_AXIS_REVERSED', '_AXIS_SLICEMAP', '__abs__', '__add__', '__and__', '__array__', '__array_prepare__', '__array_priority__', '__array_wrap__', '__bool__', '__bytes__', '__class__', '__contains__', '__copy__', '__deepcopy__', '__delattr__', '__delitem__', '__dict__', '__dir__', '__div__', '__divmod__', '__doc__', '__eq__', '__finalize__', '__float__', '__floordiv__', '__format__', '__ge__', '__getattr__', '__getattribute__', '__getitem__', '__getstate__', '__gt__', '__hash__', '__iadd__', '__iand__', '__ifloordiv__', '__imod__', '__imul__', '__init__', '__init_subclass__', '__int__', '__invert__', '__ior__', '__ipow__', '__isub__', '__iter__', '__itruediv__', '__ixor__', '__le__', '__len__', '__long__', '__lt__', '__mod__', '__module__', '__mul__', '__ne__', '__neg__', '__new__', '__nonzero__', '__or__', '__pow__', '__radd__', '__rand__', '__rdiv__', '__reduce__', '__reduce_ex__', '__repr__', '__rfloordiv__', '__rmod__', '__rmul__', '__ror__', '__round__', '__rpow__', '__rsub__', '__rtruediv__', '__rxor__', '__setattr__', '__setitem__', '__setstate__', '__sizeof__', '__str__', '__sub__', '__subclasshook__', '__truediv__', '__unicode__', '__weakref__', '__xor__', '_accessors', '_add_numeric_operations', '_add_series_only_operations', '_add_series_or_dataframe_operations', '_agg_by_level', '_agg_doc', '_aggregate', '_aggregate_multiple_funcs', '_align_frame', '_align_series', '_allow_index_ops', '_at', '_binop', '_box_item_values', '_builtin_table', '_can_hold_na', '_check_inplace_setting', '_check_is_chained_assignment_possible', '_check_percentile', '_check_setitem_copy', '_clear_item_cache', '_clip_with_one_bound', '_clip_with_scalar', '_consolidate', '_consolidate_inplace', '_construct_axes_dict', '_construct_axes_dict_for_slice', '_construct_axes_dict_from', '_construct_axes_from_arguments', '_constructor', '_constructor_expanddim', '_constructor_sliced', '_convert', '_create_indexer', '_cython_table', '_deprecations', '_dir_additions', '_dir_deletions', '_drop_axis', '_expand_axes', '_formatting_values', '_from_axes', '_get_axis', '_get_axis_name', '_get_axis_number', '_get_axis_resolvers', '_get_block_manager_axis', '_get_bool_data', '_get_cacher', '_get_index_resolvers', '_get_item_cache', '_get_numeric_data', '_get_value', '_get_values', '_get_values_tuple', '_get_with', '_gotitem', '_iat', '_iget_item_cache', '_iloc', '_index', '_indexed_same', '_info_axis', '_info_axis_name', '_info_axis_number', '_init_mgr', '_internal_names', '_internal_names_set', '_is_builtin_func', '_is_cached', '_is_cython_func', '_is_datelike_mixed_type', '_is_mixed_type', '_is_numeric_mixed_type', '_is_view', '_ix', '_ixs', '_loc', '_maybe_cache_changed', '_maybe_update_cacher', '_metadata', '_needs_reindex_multi', '_obj_with_exclusions', '_protect_consolidate', '_reduce', '_reindex_axes', '_reindex_axis', '_reindex_indexer', '_reindex_multi', '_reindex_with_indexers', '_repr_data_resource_', '_repr_latex_', '_reset_cache', '_reset_cacher', '_selected_obj', '_selection', '_selection_list', '_selection_name', '_set_as_cached', '_set_axis', '_set_axis_name', '_set_is_copy', '_set_item', '_set_labels', '_set_name', '_set_subtyp', '_set_value', '_set_values', '_set_with', '_set_with_engine', '_setup_axes', '_shallow_copy', '_slice', '_stat_axis', '_stat_axis_name', '_stat_axis_number', '_take', '_to_dict_of_blocks', '_try_aggregate_string_function', '_typ', '_unpickle_series_compat', '_update_inplace', '_validate_dtype', '_values', '_where', '_xs', 'abs', 'add', 'add_prefix', 'add_suffix', 'agg', 'aggregate', 'align', 'all', 'any', 'append', 'apply', 'argmax', 'argmin', 'argsort', 'as_matrix', 'asfreq', 'asobject', 'asof', 'astype', 'at', 'at_time', 'autocorr', 'axes', 'base', 'between', 'between_time', 'bfill', 'bool', 'clip', 'clip_lower', 'clip_upper', 'combine', 'combine_first', 'compound', 'compress', 'copy', 'corr', 'count', 'cov', 'cummax', 'cummin', 'cumprod', 'cumsum', 'data', 'describe', 'diff', 'div', 'divide', 'dot', 'drop', 'drop_duplicates', 'dropna', 'dtype', 'dtypes', 'duplicated', 'empty', 'eq', 'equals', 'ewm', 'expanding', 'factorize', 'ffill', 'fillna', 'filter', 'first', 'first_valid_index', 'flags', 'floordiv', 'from_array', 'ftype', 'ftypes', 'ge', 'get', 'get_dtype_counts', 'get_ftype_counts', 'get_values', 'groupby', 'gt', 'hasnans', 'head', 'hist', 'iat', 'idxmax', 'idxmin', 'iloc', 'imag', 'index', 'infer_objects', 'interpolate', 'is_copy', 'is_monotonic', 'is_monotonic_decreasing', 'is_monotonic_increasing', 'is_unique', 'isin', 'isna', 'isnull', 'item', 'items', 'itemsize', 'iteritems', 'ix', 'keys', 'kurt', 'kurtosis', 'last', 'last_valid_index', 'le', 'loc', 'lt', 'mad', 'map', 'mask', 'max', 'mean', 'median', 'memory_usage', 'min', 'mod', 'mode', 'mul', 'multiply', 'name', 'nbytes', 'ndim', 'ne', 'nlargest', 'nonzero', 'notna', 'notnull', 'nsmallest', 'nunique', 'pct_change', 'pipe', 'plot', 'pop', 'pow', 'prod', 'product', 'ptp', 'put', 'quantile', 'radd', 'rank', 'ravel', 'rdiv', 'real', 'reindex', 'reindex_axis', 'reindex_like', 'rename', 'rename_axis', 'reorder_levels', 'repeat', 'replace', 'resample', 'reset_index', 'rfloordiv', 'rmod', 'rmul', 'rolling', 'round', 'rpow', 'rsub', 'rtruediv', 'sample', 'searchsorted', 'select', 'sem', 'set_axis', 'shape', 'shift', 'size', 'skew', 'slice_shift', 'sort_index', 'sort_values', 'squeeze', 'std', 'str', 'strides', 'sub', 'subtract', 'sum', 'swapaxes', 'swaplevel', 'tail', 'take', 'to_clipboard', 'to_csv', 'to_dense', 'to_dict', 'to_excel', 'to_frame', 'to_hdf', 'to_json', 'to_latex', 'to_msgpack', 'to_period', 'to_pickle', 'to_sparse', 'to_sql', 'to_string', 'to_timestamp', 'to_xarray', 'tolist', 'transform', 'transpose', 'truediv', 'truncate', 'tshift', 'tz_convert', 'tz_localize', 'unique', 'unstack', 'update', 'valid', 'value_counts', 'values', 'var', 'view', 'where', 'xs']\n",
            "3236\n",
            "From (pre-synaptic type)                  Granule\n",
            "To (post-synaptic type)     Hilar Ectopic Granule\n",
            "Name: 0, dtype: object\n",
            "From (pre-synaptic type)    MEC LIII Superficial Trilayered Interneuron\n",
            "To (post-synaptic type)     MEC LIII Superficial Trilayered Interneuron\n",
            "Name: 3235, dtype: object\n"
          ],
          "name": "stdout"
        },
        {
          "output_type": "execute_result",
          "data": {
            "text/html": [
              "<div>\n",
              "<style scoped>\n",
              "    .dataframe tbody tr th:only-of-type {\n",
              "        vertical-align: middle;\n",
              "    }\n",
              "\n",
              "    .dataframe tbody tr th {\n",
              "        vertical-align: top;\n",
              "    }\n",
              "\n",
              "    .dataframe thead th {\n",
              "        text-align: right;\n",
              "    }\n",
              "</style>\n",
              "<table border=\"1\" class=\"dataframe\">\n",
              "  <thead>\n",
              "    <tr style=\"text-align: right;\">\n",
              "      <th></th>\n",
              "      <th>0</th>\n",
              "      <th>1</th>\n",
              "      <th>2</th>\n",
              "      <th>3</th>\n",
              "      <th>4</th>\n",
              "      <th>5</th>\n",
              "      <th>6</th>\n",
              "      <th>7</th>\n",
              "      <th>8</th>\n",
              "      <th>9</th>\n",
              "      <th>...</th>\n",
              "      <th>3226</th>\n",
              "      <th>3227</th>\n",
              "      <th>3228</th>\n",
              "      <th>3229</th>\n",
              "      <th>3230</th>\n",
              "      <th>3231</th>\n",
              "      <th>3232</th>\n",
              "      <th>3233</th>\n",
              "      <th>3234</th>\n",
              "      <th>3235</th>\n",
              "    </tr>\n",
              "  </thead>\n",
              "  <tbody>\n",
              "    <tr>\n",
              "      <th>From (pre-synaptic type)</th>\n",
              "      <td>Granule</td>\n",
              "      <td>Granule</td>\n",
              "      <td>Granule</td>\n",
              "      <td>Granule</td>\n",
              "      <td>Granule</td>\n",
              "      <td>Granule</td>\n",
              "      <td>Granule</td>\n",
              "      <td>Granule</td>\n",
              "      <td>Granule</td>\n",
              "      <td>Granule</td>\n",
              "      <td>...</td>\n",
              "      <td>MEC LIII Superficial Trilayered Interneuron</td>\n",
              "      <td>MEC LIII Superficial Trilayered Interneuron</td>\n",
              "      <td>MEC LIII Superficial Trilayered Interneuron</td>\n",
              "      <td>MEC LIII Superficial Trilayered Interneuron</td>\n",
              "      <td>MEC LIII Superficial Trilayered Interneuron</td>\n",
              "      <td>MEC LIII Superficial Trilayered Interneuron</td>\n",
              "      <td>MEC LIII Superficial Trilayered Interneuron</td>\n",
              "      <td>MEC LIII Superficial Trilayered Interneuron</td>\n",
              "      <td>MEC LIII Superficial Trilayered Interneuron</td>\n",
              "      <td>MEC LIII Superficial Trilayered Interneuron</td>\n",
              "    </tr>\n",
              "    <tr>\n",
              "      <th>To (post-synaptic type)</th>\n",
              "      <td>Hilar Ectopic Granule</td>\n",
              "      <td>Mossy</td>\n",
              "      <td>Mossy MOLDEN</td>\n",
              "      <td>AIPRIM</td>\n",
              "      <td>DG Axo-axonic</td>\n",
              "      <td>DG Basket</td>\n",
              "      <td>DG Basket CCK+</td>\n",
              "      <td>HICAP</td>\n",
              "      <td>HIPP</td>\n",
              "      <td>HIPROM</td>\n",
              "      <td>...</td>\n",
              "      <td>MEC LV Pyramidal</td>\n",
              "      <td>MEC LV Superficial Pyramidal</td>\n",
              "      <td>LII Axo-axonic</td>\n",
              "      <td>MEC LII Basket</td>\n",
              "      <td>LII Basket-Multipolar Interneuron</td>\n",
              "      <td>LEC LIII Multipolar Interneuron</td>\n",
              "      <td>MEC LIII Multipolar Interneuron</td>\n",
              "      <td>MEC LIII Superficial Multipolar Interneuron</td>\n",
              "      <td>LIII Pyramidal-Looking Interneuron</td>\n",
              "      <td>MEC LIII Superficial Trilayered Interneuron</td>\n",
              "    </tr>\n",
              "  </tbody>\n",
              "</table>\n",
              "<p>2 rows × 3236 columns</p>\n",
              "</div>"
            ],
            "text/plain": [
              "                                           0        1             2     \\\n",
              "From (pre-synaptic type)                Granule  Granule       Granule   \n",
              "To (post-synaptic type)   Hilar Ectopic Granule    Mossy  Mossy MOLDEN   \n",
              "\n",
              "                             3              4          5               6     \\\n",
              "From (pre-synaptic type)  Granule        Granule    Granule         Granule   \n",
              "To (post-synaptic type)    AIPRIM  DG Axo-axonic  DG Basket  DG Basket CCK+   \n",
              "\n",
              "                             7        8        9     \\\n",
              "From (pre-synaptic type)  Granule  Granule  Granule   \n",
              "To (post-synaptic type)     HICAP     HIPP   HIPROM   \n",
              "\n",
              "                                             ...                       \\\n",
              "From (pre-synaptic type)                     ...                        \n",
              "To (post-synaptic type)                      ...                        \n",
              "\n",
              "                                                                 3226  \\\n",
              "From (pre-synaptic type)  MEC LIII Superficial Trilayered Interneuron   \n",
              "To (post-synaptic type)                              MEC LV Pyramidal   \n",
              "\n",
              "                                                                 3227  \\\n",
              "From (pre-synaptic type)  MEC LIII Superficial Trilayered Interneuron   \n",
              "To (post-synaptic type)                  MEC LV Superficial Pyramidal   \n",
              "\n",
              "                                                                 3228  \\\n",
              "From (pre-synaptic type)  MEC LIII Superficial Trilayered Interneuron   \n",
              "To (post-synaptic type)                                LII Axo-axonic   \n",
              "\n",
              "                                                                 3229  \\\n",
              "From (pre-synaptic type)  MEC LIII Superficial Trilayered Interneuron   \n",
              "To (post-synaptic type)                                MEC LII Basket   \n",
              "\n",
              "                                                                 3230  \\\n",
              "From (pre-synaptic type)  MEC LIII Superficial Trilayered Interneuron   \n",
              "To (post-synaptic type)             LII Basket-Multipolar Interneuron   \n",
              "\n",
              "                                                                 3231  \\\n",
              "From (pre-synaptic type)  MEC LIII Superficial Trilayered Interneuron   \n",
              "To (post-synaptic type)               LEC LIII Multipolar Interneuron   \n",
              "\n",
              "                                                                 3232  \\\n",
              "From (pre-synaptic type)  MEC LIII Superficial Trilayered Interneuron   \n",
              "To (post-synaptic type)               MEC LIII Multipolar Interneuron   \n",
              "\n",
              "                                                                 3233  \\\n",
              "From (pre-synaptic type)  MEC LIII Superficial Trilayered Interneuron   \n",
              "To (post-synaptic type)   MEC LIII Superficial Multipolar Interneuron   \n",
              "\n",
              "                                                                 3234  \\\n",
              "From (pre-synaptic type)  MEC LIII Superficial Trilayered Interneuron   \n",
              "To (post-synaptic type)            LIII Pyramidal-Looking Interneuron   \n",
              "\n",
              "                                                                 3235  \n",
              "From (pre-synaptic type)  MEC LIII Superficial Trilayered Interneuron  \n",
              "To (post-synaptic type)   MEC LIII Superficial Trilayered Interneuron  \n",
              "\n",
              "[2 rows x 3236 columns]"
            ]
          },
          "metadata": {
            "tags": []
          },
          "execution_count": 47
        }
      ]
    },
    {
      "metadata": {
        "id": "7asrV8aAhqts",
        "colab_type": "text"
      },
      "cell_type": "markdown",
      "source": [
        "\n",
        "\n",
        "```\n",
        "# This is formatted as code\n",
        "```\n",
        "\n"
      ]
    },
    {
      "metadata": {
        "id": "FaIbSxpChrZq",
        "colab_type": "text"
      },
      "cell_type": "markdown",
      "source": [
        ""
      ]
    },
    {
      "metadata": {
        "id": "sJSxqClzhrti",
        "colab_type": "code",
        "colab": {
          "autoexec": {
            "startup": false,
            "wait_interval": 0
          }
        }
      },
      "cell_type": "code",
      "source": [
        ""
      ],
      "execution_count": 0,
      "outputs": []
    },
    {
      "metadata": {
        "id": "LDrZGO2A6w2G",
        "colab_type": "text"
      },
      "cell_type": "markdown",
      "source": [
        ""
      ]
    }
  ]
}