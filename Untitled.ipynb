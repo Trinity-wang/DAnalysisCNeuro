{
 "cells": [
  {
   "cell_type": "code",
   "execution_count": 4,
   "metadata": {},
   "outputs": [
    {
     "name": "stdout",
     "output_type": "stream",
     "text": [
      "Requirement already satisfied: elephant in c:\\users\\kelly\\anaconda3\\lib\\site-packages\n",
      "Requirement already satisfied: quantities>=0.10.1 in c:\\users\\kelly\\anaconda3\\lib\\site-packages (from elephant)\n",
      "Requirement already satisfied: neo>=0.5.0 in c:\\users\\kelly\\anaconda3\\lib\\site-packages (from elephant)\n",
      "Requirement already satisfied: scipy>=0.14.0 in c:\\users\\kelly\\anaconda3\\lib\\site-packages (from elephant)\n",
      "Requirement already satisfied: six>=1.10.0 in c:\\users\\kelly\\anaconda3\\lib\\site-packages (from elephant)\n",
      "Requirement already satisfied: numpy>=1.8.2 in c:\\users\\kelly\\anaconda3\\lib\\site-packages (from elephant)\n"
     ]
    },
    {
     "name": "stderr",
     "output_type": "stream",
     "text": [
      "You are using pip version 9.0.1, however version 9.0.2 is available.\n",
      "You should consider upgrading via the 'python -m pip install --upgrade pip' command.\n"
     ]
    }
   ],
   "source": [
    "!pip install elephant"
   ]
  },
  {
   "cell_type": "code",
   "execution_count": 5,
   "metadata": {},
   "outputs": [
    {
     "name": "stderr",
     "output_type": "stream",
     "text": [
      "C:\\Users\\Kelly\\Anaconda3\\lib\\site-packages\\h5py\\__init__.py:36: FutureWarning: Conversion of the second argument of issubdtype from `float` to `np.floating` is deprecated. In future, it will be treated as `np.float64 == np.dtype(float).type`.\n",
      "  from ._conv import register_converters as _register_converters\n",
      "C:\\Users\\Kelly\\Anaconda3\\lib\\site-packages\\elephant\\spade.py:82: UserWarning: fim.so not found in elephant/spade_src folder,you are using the python implementation of fast fca\n",
      "  'you are using the python implementation of fast fca')\n"
     ]
    }
   ],
   "source": [
    "import neo \n",
    "import elephant"
   ]
  },
  {
   "cell_type": "code",
   "execution_count": 7,
   "metadata": {},
   "outputs": [
    {
     "name": "stdout",
     "output_type": "stream",
     "text": [
      "Help on package elephant:\n",
      "\n",
      "NAME\n",
      "    elephant - Elephant is a package for the analysis of neurophysiology data, based on Neo.\n",
      "\n",
      "DESCRIPTION\n",
      "    :copyright: Copyright 2014-2016 by the Elephant team, see AUTHORS.txt.\n",
      "    :license: Modified BSD, see LICENSE.txt for details.\n",
      "\n",
      "PACKAGE CONTENTS\n",
      "    asset\n",
      "    conversion\n",
      "    cubic\n",
      "    current_source_density\n",
      "    current_source_density_src (package)\n",
      "    kernels\n",
      "    neo_tools\n",
      "    pandas_bridge\n",
      "    signal_processing\n",
      "    spade\n",
      "    spade_src (package)\n",
      "    spectral\n",
      "    spike_train_correlation\n",
      "    spike_train_dissimilarity\n",
      "    spike_train_generation\n",
      "    spike_train_surrogates\n",
      "    sta\n",
      "    statistics\n",
      "    test (package)\n",
      "    unitary_event_analysis\n",
      "\n",
      "VERSION\n",
      "    0.4.3\n",
      "\n",
      "FILE\n",
      "    c:\\users\\kelly\\anaconda3\\lib\\site-packages\\elephant\\__init__.py\n",
      "\n",
      "\n"
     ]
    }
   ],
   "source": [
    "help(elephant)"
   ]
  },
  {
   "cell_type": "code",
   "execution_count": 14,
   "metadata": {},
   "outputs": [],
   "source": [
    "import pickle\n",
    "mdbf = pickle.load( open(\"Documents/NeuroProject/pickles/membrane_dynamics_balanced_file.p\", \"rb\" ) )\n"
   ]
  },
  {
   "cell_type": "code",
   "execution_count": 19,
   "metadata": {},
   "outputs": [],
   "source": [
    "dir(mdbf)\n",
    "ass = mdbf.analogsignals\n",
    "spike_trains = mdbf.spiketrains"
   ]
  },
  {
   "cell_type": "code",
   "execution_count": 20,
   "metadata": {},
   "outputs": [
    {
     "data": {
      "text/plain": [
       "1"
      ]
     },
     "execution_count": 20,
     "metadata": {},
     "output_type": "execute_result"
    }
   ],
   "source": [
    "len(ass)"
   ]
  },
  {
   "cell_type": "code",
   "execution_count": 29,
   "metadata": {},
   "outputs": [
    {
     "data": {
      "text/plain": [
       "['__add__',\n",
       " '__class__',\n",
       " '__contains__',\n",
       " '__delattr__',\n",
       " '__delitem__',\n",
       " '__dir__',\n",
       " '__doc__',\n",
       " '__eq__',\n",
       " '__format__',\n",
       " '__ge__',\n",
       " '__getattribute__',\n",
       " '__getitem__',\n",
       " '__gt__',\n",
       " '__hash__',\n",
       " '__iadd__',\n",
       " '__imul__',\n",
       " '__init__',\n",
       " '__init_subclass__',\n",
       " '__iter__',\n",
       " '__le__',\n",
       " '__len__',\n",
       " '__lt__',\n",
       " '__mul__',\n",
       " '__ne__',\n",
       " '__new__',\n",
       " '__reduce__',\n",
       " '__reduce_ex__',\n",
       " '__repr__',\n",
       " '__reversed__',\n",
       " '__rmul__',\n",
       " '__setattr__',\n",
       " '__setitem__',\n",
       " '__sizeof__',\n",
       " '__str__',\n",
       " '__subclasshook__',\n",
       " 'append',\n",
       " 'clear',\n",
       " 'copy',\n",
       " 'count',\n",
       " 'extend',\n",
       " 'index',\n",
       " 'insert',\n",
       " 'pop',\n",
       " 'remove',\n",
       " 'reverse',\n",
       " 'sort']"
      ]
     },
     "execution_count": 29,
     "metadata": {},
     "output_type": "execute_result"
    }
   ],
   "source": [
    "dir(ass)"
   ]
  },
  {
   "cell_type": "code",
   "execution_count": 40,
   "metadata": {},
   "outputs": [
    {
     "name": "stderr",
     "output_type": "stream",
     "text": [
      "C:\\Users\\Kelly\\Anaconda3\\lib\\site-packages\\numpy\\core\\_methods.py:135: RuntimeWarning: Degrees of freedom <= 0 for slice\n",
      "  keepdims=keepdims)\n",
      "C:\\Users\\Kelly\\Anaconda3\\lib\\site-packages\\numpy\\core\\_methods.py:105: RuntimeWarning: invalid value encountered in true_divide\n",
      "  arrmean, rcount, out=arrmean, casting='unsafe', subok=False)\n",
      "C:\\Users\\Kelly\\Anaconda3\\lib\\site-packages\\numpy\\core\\_methods.py:127: RuntimeWarning: invalid value encountered in double_scalars\n",
      "  ret = ret.dtype.type(ret / rcount)\n",
      "C:\\Users\\Kelly\\Anaconda3\\lib\\site-packages\\scipy\\stats\\stats.py:998: RuntimeWarning: Mean of empty slice.\n",
      "  return a.std(axis) / a.mean(axis)\n",
      "C:\\Users\\Kelly\\Anaconda3\\lib\\site-packages\\numpy\\core\\_methods.py:80: RuntimeWarning: invalid value encountered in double_scalars\n",
      "  ret = ret.dtype.type(ret / rcount)\n"
     ]
    },
    {
     "data": {
      "image/png": "[encoded data removed]",
      "text/plain": [
       "<matplotlib.figure.Figure at 0x237727d0630>"
      ]
     },
     "metadata": {},
     "output_type": "display_data"
    }
   ],
   "source": [
    "#dir(spike_trains)\n",
    "#len(spike_trains)\n",
    "from elephant.statistics import cv\n",
    "import matplotlib.pyplot as plt\n",
    "\n",
    "hist_cv = []\n",
    "import numpy as np\n",
    "for i in spike_trains:\n",
    "    cva = cv(i)\n",
    "    if np.isnan(cva):\n",
    "        hist_cv.append(0)\n",
    "    else:    \n",
    "        hist_cv.append(cva)\n",
    "   # print(cv(i))\n",
    "x_axis = [i for i in range(0,len(hist_cv))]\n",
    "plt.bar(x_axis,hist_cv)\n",
    "plt.show()\n",
    "#dir(elephant)\n",
    "#plt."
   ]
  },
  {
   "cell_type": "code",
   "execution_count": 41,
   "metadata": {},
   "outputs": [
    {
     "name": "stdout",
     "output_type": "stream",
     "text": [
      "Collecting pyspike\n",
      "  Downloading pyspike-0.5.3.tar.gz (1.4MB)\n",
      "Requirement already satisfied: numpy in c:\\users\\kelly\\anaconda3\\lib\\site-packages (from pyspike)\n",
      "Building wheels for collected packages: pyspike\n",
      "  Running setup.py bdist_wheel for pyspike: started\n",
      "  Running setup.py bdist_wheel for pyspike: finished with status 'error'\n",
      "  Complete output from command C:\\Users\\Kelly\\Anaconda3\\python.exe -u -c \"import setuptools, tokenize;__file__='C:\\\\Users\\\\Kelly\\\\AppData\\\\Local\\\\Temp\\\\pip-build-636w9dsq\\\\pyspike\\\\setup.py';f=getattr(tokenize, 'open', open)(__file__);code=f.read().replace('\\r\\n', '\\n');f.close();exec(compile(code, __file__, 'exec'))\" bdist_wheel -d C:\\Users\\Kelly\\AppData\\Local\\Temp\\tmpg7itbqnipip-wheel- --python-tag cp36:\n",
      "  running bdist_wheel\n",
      "  running build\n",
      "  running build_py\n",
      "  creating build\n",
      "  creating build\\lib.win-amd64-3.6\n",
      "  creating build\\lib.win-amd64-3.6\\pyspike\n",
      "  copying pyspike\\DiscreteFunc.py -> build\\lib.win-amd64-3.6\\pyspike\n",
      "  copying pyspike\\generic.py -> build\\lib.win-amd64-3.6\\pyspike\n",
      "  copying pyspike\\isi_distance.py -> build\\lib.win-amd64-3.6\\pyspike\n",
      "  copying pyspike\\PieceWiseConstFunc.py -> build\\lib.win-amd64-3.6\\pyspike\n",
      "  copying pyspike\\PieceWiseLinFunc.py -> build\\lib.win-amd64-3.6\\pyspike\n",
      "  copying pyspike\\psth.py -> build\\lib.win-amd64-3.6\\pyspike\n",
      "  copying pyspike\\spikes.py -> build\\lib.win-amd64-3.6\\pyspike\n",
      "  copying pyspike\\SpikeTrain.py -> build\\lib.win-amd64-3.6\\pyspike\n",
      "  copying pyspike\\spike_distance.py -> build\\lib.win-amd64-3.6\\pyspike\n",
      "  copying pyspike\\spike_sync.py -> build\\lib.win-amd64-3.6\\pyspike\n",
      "  copying pyspike\\__init__.py -> build\\lib.win-amd64-3.6\\pyspike\n",
      "  creating build\\lib.win-amd64-3.6\\pyspike\\cython\n",
      "  copying pyspike\\cython\\python_backend.py -> build\\lib.win-amd64-3.6\\pyspike\\cython\n",
      "  copying pyspike\\cython\\__init__.py -> build\\lib.win-amd64-3.6\\pyspike\\cython\n",
      "  running build_ext\n",
      "  cythoning pyspike/cython/cython_add.pyx to pyspike/cython\\cython_add.c\n",
      "  building 'pyspike.cython.cython_add' extension\n",
      "  error: Microsoft Visual C++ 14.0 is required. Get it with \"Microsoft Visual C++ Build Tools\": http://landinghub.visualstudio.com/visual-cpp-build-tools\n",
      "  \n",
      "  ----------------------------------------\n",
      "  Running setup.py clean for pyspike\n",
      "Failed to build pyspike\n",
      "Installing collected packages: pyspike\n",
      "  Running setup.py install for pyspike: started\n",
      "    Running setup.py install for pyspike: finished with status 'error'\n",
      "    Complete output from command C:\\Users\\Kelly\\Anaconda3\\python.exe -u -c \"import setuptools, tokenize;__file__='C:\\\\Users\\\\Kelly\\\\AppData\\\\Local\\\\Temp\\\\pip-build-636w9dsq\\\\pyspike\\\\setup.py';f=getattr(tokenize, 'open', open)(__file__);code=f.read().replace('\\r\\n', '\\n');f.close();exec(compile(code, __file__, 'exec'))\" install --record C:\\Users\\Kelly\\AppData\\Local\\Temp\\pip-8solhfs0-record\\install-record.txt --single-version-externally-managed --compile:\n",
      "    running install\n",
      "    running build\n",
      "    running build_py\n",
      "    creating build\n",
      "    creating build\\lib.win-amd64-3.6\n",
      "    creating build\\lib.win-amd64-3.6\\pyspike\n",
      "    copying pyspike\\DiscreteFunc.py -> build\\lib.win-amd64-3.6\\pyspike\n",
      "    copying pyspike\\generic.py -> build\\lib.win-amd64-3.6\\pyspike\n",
      "    copying pyspike\\isi_distance.py -> build\\lib.win-amd64-3.6\\pyspike\n",
      "    copying pyspike\\PieceWiseConstFunc.py -> build\\lib.win-amd64-3.6\\pyspike\n",
      "    copying pyspike\\PieceWiseLinFunc.py -> build\\lib.win-amd64-3.6\\pyspike\n",
      "    copying pyspike\\psth.py -> build\\lib.win-amd64-3.6\\pyspike\n",
      "    copying pyspike\\spikes.py -> build\\lib.win-amd64-3.6\\pyspike\n",
      "    copying pyspike\\SpikeTrain.py -> build\\lib.win-amd64-3.6\\pyspike\n",
      "    copying pyspike\\spike_distance.py -> build\\lib.win-amd64-3.6\\pyspike\n",
      "    copying pyspike\\spike_sync.py -> build\\lib.win-amd64-3.6\\pyspike\n",
      "    copying pyspike\\__init__.py -> build\\lib.win-amd64-3.6\\pyspike\n",
      "    creating build\\lib.win-amd64-3.6\\pyspike\\cython\n",
      "    copying pyspike\\cython\\python_backend.py -> build\\lib.win-amd64-3.6\\pyspike\\cython\n",
      "    copying pyspike\\cython\\__init__.py -> build\\lib.win-amd64-3.6\\pyspike\\cython\n",
      "    running build_ext\n",
      "    skipping 'pyspike/cython\\cython_add.c' Cython extension (up-to-date)\n",
      "    building 'pyspike.cython.cython_add' extension\n",
      "    error: Microsoft Visual C++ 14.0 is required. Get it with \"Microsoft Visual C++ Build Tools\": http://landinghub.visualstudio.com/visual-cpp-build-tools\n",
      "    \n",
      "    ----------------------------------------\n"
     ]
    },
    {
     "name": "stderr",
     "output_type": "stream",
     "text": [
      "  Failed building wheel for pyspike\n",
      "Command \"C:\\Users\\Kelly\\Anaconda3\\python.exe -u -c \"import setuptools, tokenize;__file__='C:\\\\Users\\\\Kelly\\\\AppData\\\\Local\\\\Temp\\\\pip-build-636w9dsq\\\\pyspike\\\\setup.py';f=getattr(tokenize, 'open', open)(__file__);code=f.read().replace('\\r\\n', '\\n');f.close();exec(compile(code, __file__, 'exec'))\" install --record C:\\Users\\Kelly\\AppData\\Local\\Temp\\pip-8solhfs0-record\\install-record.txt --single-version-externally-managed --compile\" failed with error code 1 in C:\\Users\\Kelly\\AppData\\Local\\Temp\\pip-build-636w9dsq\\pyspike\\\n",
      "You are using pip version 9.0.1, however version 9.0.2 is available.\n",
      "You should consider upgrading via the 'python -m pip install --upgrade pip' command.\n"
     ]
    }
   ],
   "source": [
    "!pip install pyspike"
   ]
  },
  {
   "cell_type": "code",
   "execution_count": 42,
   "metadata": {},
   "outputs": [
    {
     "name": "stdout",
     "output_type": "stream",
     "text": [
      " Volume in drive C is OS\n",
      " Volume Serial Number is FC9F-349D\n",
      "\n",
      " Directory of C:\\Users\\Kelly\n",
      "\n",
      "03/19/2018  11:11 AM    <DIR>          .\n",
      "03/19/2018  11:11 AM    <DIR>          ..\n",
      "03/01/2018  01:55 AM    <DIR>          .anaconda\n",
      "02/11/2018  03:31 PM    <DIR>          .atom\n",
      "03/19/2018  11:11 AM    <DIR>          .conda\n",
      "03/19/2018  10:36 AM                43 .condarc\n",
      "02/12/2018  11:17 AM    <DIR>          .ebookreader\n",
      "03/01/2018  01:35 AM               202 .gitconfig\n",
      "03/01/2018  03:05 AM    <DIR>          .idlerc\n",
      "03/19/2018  10:38 AM    <DIR>          .ipynb_checkpoints\n",
      "03/01/2018  01:56 AM    <DIR>          .ipython\n",
      "03/01/2018  02:18 AM    <DIR>          .jupyter\n",
      "03/01/2018  01:56 AM    <DIR>          .matplotlib\n",
      "03/01/2018  03:07 AM    <DIR>          .spyder-py3\n",
      "03/01/2018  01:52 AM    <DIR>          .vscode\n",
      "03/14/2018  07:09 AM    <DIR>          3D Objects\n",
      "03/01/2018  03:37 AM    <DIR>          Anaconda3\n",
      "03/01/2018  02:48 AM    <DIR>          AnacondaProjects\n",
      "03/14/2018  07:09 AM    <DIR>          Contacts\n",
      "03/17/2018  02:01 PM    <DIR>          Desktop\n",
      "03/18/2018  12:24 PM    <DIR>          Documents\n",
      "03/19/2018  11:10 AM    <DIR>          Downloads\n",
      "03/14/2018  07:09 AM    <DIR>          Favorites\n",
      "03/14/2018  07:09 AM    <DIR>          Links\n",
      "03/14/2018  07:09 AM    <DIR>          Music\n",
      "01/31/2018  03:38 PM    <DIR>          OneDrive\n",
      "03/14/2018  07:09 AM    <DIR>          Pictures\n",
      "03/14/2018  07:09 AM    <DIR>          Saved Games\n",
      "03/14/2018  07:09 AM    <DIR>          Searches\n",
      "03/19/2018  11:11 AM            21,135 Untitled.ipynb\n",
      "03/14/2018  07:09 AM    <DIR>          Videos\n",
      "               3 File(s)         21,380 bytes\n",
      "              28 Dir(s)  160,170,061,824 bytes free\n"
     ]
    }
   ],
   "source": [
    "!dir\n"
   ]
  }
 ],
 "metadata": {
  "kernelspec": {
   "display_name": "Python 3",
   "language": "python",
   "name": "python3"
  },
  "language_info": {
   "codemirror_mode": {
    "name": "ipython",
    "version": 3
   },
   "file_extension": ".py",
   "mimetype": "text/x-python",
   "name": "python",
   "nbconvert_exporter": "python",
   "pygments_lexer": "ipython3",
   "version": "3.6.4"
  }
 },
 "nbformat": 4,
 "nbformat_minor": 2
}
