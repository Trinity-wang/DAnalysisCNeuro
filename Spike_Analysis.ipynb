{
 "cells": [
  {
   "cell_type": "code",
   "execution_count": null,
   "metadata": {
    "collapsed": false
   },
   "outputs": [
    {
     "name": "stdout",
     "output_type": "stream",
     "text": [
      "Collecting pyspike\n",
      "  Downloading pyspike-0.5.3.tar.gz (1.4MB)\n",
      "\u001b[K    100% |████████████████████████████████| 1.5MB 928kB/s ta 0:00:011\n",
      "\u001b[?25hRequirement already satisfied: numpy in /opt/conda/lib/python3.5/site-packages (from pyspike)\n",
      "Building wheels for collected packages: pyspike\n",
      "  Running setup.py bdist_wheel for pyspike ... \u001b[?25l-\b \b\\\b \b|\b \b/\b \b-\b \b\\"
     ]
    }
   ],
   "source": [
    "!pip install pyspike\n"
   ]
  },
  {
   "cell_type": "code",
   "execution_count": null,
   "metadata": {
    "collapsed": false
   },
   "outputs": [],
   "source": [
    "import pickle\n",
    "import numpy as np\n",
    "import pyspike\n",
    "import matplotlib as mpl\n",
    "import matplotlib.pyplot as plt\n",
    "\n",
    "import pyspike as spk\n",
    "with open('pickles/qi.p', 'rb') as f:\n",
    "\n",
    "  mdf1 = pickle.load(f)\n",
    "print(mdf1)\n",
    "\n",
    "\n",
    "ass = mdf1.analogsignals[0]   \n",
    "vm_spiking = []\n",
    "vm_not_spiking = []\n",
    "\n",
    "spike_trains = []\n",
    "\n",
    "for spiketrain in mdf1.spiketrains:\n",
    "    #spiketrain = mdf1.spiketrains[index]\n",
    "    y = np.ones_like(spiketrain) * spiketrain.annotations['source_id']\n",
    "    # argument edges is the time interval you want to be considered.\n",
    "    pspikes = pyspike.SpikeTrain(spiketrain,edges=(0,len(ass)))        \n",
    "    spike_trains.append(pspikes)\n",
    "    #print(np.max((ass[spiketrain.annotations['source_id']])))\n",
    "    if np.max(ass[spiketrain.annotations['source_id']]) > 0.0:\n",
    "        print('yes')\n",
    "        vm_spiking.append(ass[spiketrain.annotations['source_id']])\n",
    "    else:\n",
    "        vm_not_spiking.append(ass[spiketrain.annotations['source_id']])\n",
    "\n",
    "\n",
    "    \n"
   ]
  },
  {
   "cell_type": "code",
   "execution_count": null,
   "metadata": {
    "collapsed": false
   },
   "outputs": [],
   "source": [
    "from pyNN.utility.plotting import Figure, Panel\n",
    "\n",
    "\n",
    "plt.figure()\n",
    "plt.clf()\n",
    "plt.plot([i for i in range(0,len(mdf1.analogsignals[0]))],mdf1.analogsignals[0])\n",
    "plt.show()\n"
   ]
  },
  {
   "cell_type": "markdown",
   "metadata": {},
   "source": [
    "The $V_{M}$ of a neuron listening to excitatory and inhibitory inputs but not fully depolarizing\n"
   ]
  },
  {
   "cell_type": "code",
   "execution_count": null,
   "metadata": {
    "collapsed": false
   },
   "outputs": [],
   "source": [
    "\n",
    "\n",
    "plt.figure()\n",
    "plt.clf()\n",
    "plt.plot([i for i in range(0,len(vm_not_spiking[110]))],vm_not_spiking[110])\n",
    "plt.show()"
   ]
  },
  {
   "cell_type": "markdown",
   "metadata": {},
   "source": [
    "The $V_{M}$ of a neuron listening to only inhibitory inputs but not fully depolarizing\n"
   ]
  },
  {
   "cell_type": "code",
   "execution_count": null,
   "metadata": {
    "collapsed": false
   },
   "outputs": [],
   "source": [
    "\n"
   ]
  },
  {
   "cell_type": "code",
   "execution_count": null,
   "metadata": {
    "collapsed": false
   },
   "outputs": [],
   "source": [
    "\n",
    "plt.figure()\n",
    "plt.clf()\n",
    "plt.plot([i for i in range(0,len(vm_not_spiking[8]))],vm_not_spiking[55])\n",
    "plt.show()"
   ]
  },
  {
   "cell_type": "code",
   "execution_count": null,
   "metadata": {
    "collapsed": false
   },
   "outputs": [],
   "source": [
    "\n",
    "from elephant.statistics import cv\n",
    "import matplotlib.pyplot as plt\n",
    "import elephant\n",
    "\n",
    "hist_cv = [0 for i in range(0,len(spike_trains))]\n",
    "import numpy as np\n",
    "for i,j in enumerate(spike_trains):\n",
    "    cva = cv(j)\n",
    "    if np.isnan(cva) or cva == 0:\n",
    "        hist_cv[i] = 0\n",
    "    else:    \n",
    "        hist_cv[i] = cva\n",
    "        \n",
    "hist_cv = [i for i in hist_cv if i!=0 ]\n",
    "x_axis = [i for i in range(0,len(hist_cv))]\n",
    "\n",
    "plt.clf()\n",
    "fig, axes = plt.subplots()\n",
    "axes.set_title('Coefficient of Variation Versus Neuron {}'.format(i))\n",
    "axes.set_xlabel('Neuron number axis')\n",
    "axes.set_ylabel('CV estimate axis')\n",
    "plt.scatter(x_axis,hist_cv)\n",
    "fig.tight_layout()\n",
    "plt.show()\n",
    "\n",
    "\n",
    "plt.clf()\n",
    "fig, axes = plt.subplots()\n",
    "axes.set_title('ISI histogram over all neuronal outputs {}'.format(i))\n",
    "axes.set_xlabel('Spike interinterval ranges')\n",
    "axes.set_ylabel('Power in Inteval range')\n",
    "unested_sp = []\n",
    "for s in spike_trains:\n",
    "    unested_sp.extend(s)\n",
    "isi_hist = elephant.statistics.isi(sorted(unested_sp))\n",
    "isi_hist = [i for i in isi_hist if i!=0 ]\n",
    "plt.scatter([i for i in range(0,len(isi_hist))],isi_hist)\n",
    "plt.show()\n",
    "\n",
    "\n",
    "plt.clf()\n",
    "fig, axes = plt.subplots()\n",
    "axes.set_title('ISI histogram over all neuronal outputs {}'.format(i))\n",
    "axes.set_xlabel('Spike interinterval ranges')\n",
    "axes.set_ylabel('Power in Inteval range')\n",
    "unested_sp = []\n",
    "for s in spike_trains:\n",
    "    unested_sp.extend(s)\n",
    "isi_hist = elephant.statistics.isi(sorted(unested_sp))\n",
    "isi_hist = [i for i in isi_hist if i<=10 and i >0.315 ]\n",
    "plt.hist(isi_hist,bins=100)\n",
    "plt.show()\n",
    "\n",
    "#for i in isi_hist:\n",
    "#    print(i)\n",
    "\n",
    "\n"
   ]
  },
  {
   "cell_type": "code",
   "execution_count": null,
   "metadata": {
    "collapsed": false
   },
   "outputs": [],
   "source": [
    "spike_trains[0]"
   ]
  },
  {
   "cell_type": "code",
   "execution_count": null,
   "metadata": {
    "collapsed": false
   },
   "outputs": [],
   "source": [
    "import pyspike as spk\n",
    "with open('pickles/membrane_dynamics_hippocampome_file.p', 'rb') as f:\n",
    "\n",
    "  mdf1 = pickle.load(f)\n",
    "print(mdf1)\n"
   ]
  },
  {
   "cell_type": "code",
   "execution_count": null,
   "metadata": {
    "collapsed": false
   },
   "outputs": [],
   "source": [
    "\n",
    "\n",
    "# first load the data, interval ending time = 4000, start=0 (default)\n",
    "#spike_trains_txt = spk.load_spike_trains_from_txt(\"PySpike_testdata.txt\", 4000)\n",
    "#tstop = 100\n",
    "spike_trains = []\n",
    "\n",
    "ass = mdf1.analogsignals[0]   \n",
    "tstop = mdf1.t_stop\n",
    "\n",
    "vm_spiking = []\n",
    "for spiketrain in mdf1.spiketrains:\n",
    "    vm_spiking.append(mdf1.analogsignals[0][spiketrain.annotations['source_id']])\n",
    "    #spiketrain = mdf1.spiketrains[index]\n",
    "    y = np.ones_like(spiketrain) * spiketrain.annotations['source_id']\n",
    "    \n",
    "    # argument edges is the time interval you want to be considered.\n",
    "    pspikes = pyspike.SpikeTrain(spiketrain,edges=(0,tstop))\n",
    "    spike_trains.append(pspikes)\n",
    "\n",
    "# plot the spike times\n",
    "for (i, spike_train) in enumerate(spike_trains):\n",
    "    plt.scatter(spike_train, i*np.ones_like(spike_train), marker='|')\n",
    "\n",
    "# profile of the first two spike trains\n",
    "f = spk.isi_profile(spike_trains, indices=[0, 1])\n",
    "x, y = f.get_plottable_data()\n",
    "\n"
   ]
  },
  {
   "cell_type": "code",
   "execution_count": null,
   "metadata": {
    "collapsed": false
   },
   "outputs": [],
   "source": [
    "plt.figure()\n",
    "plt.plot(x, np.abs(y), '--k', label=\"ISI-profile\")\n",
    "print(\"ISI-distance: %.8f\" % f.avrg())\n",
    "f = spk.spike_profile(spike_trains, indices=[0, 1])\n",
    "x, y = f.get_plottable_data()\n",
    "plt.plot(x, y, '-b', label=\"SPIKE-profile\")\n",
    "print(\"SPIKE-distance: %.8f\" % f.avrg())\n",
    "plt.legend(loc=\"upper left\")\n",
    "plt.show()"
   ]
  },
  {
   "cell_type": "code",
   "execution_count": null,
   "metadata": {
    "collapsed": false
   },
   "outputs": [],
   "source": [
    "plt.figure()\n",
    "\n",
    "f = spk.spike_sync_profile(spike_trains[0], spike_trains[1])\n",
    "x, y = f.get_plottable_data()\n",
    "plt.plot(x, y, '--ok', label=\"SPIKE-SYNC profile\")\n",
    "#print(f.x)\n",
    "#print(f.y)\n",
    "#print(f.mp)\n",
    "\n",
    "print(\"Average:\", f.avrg())\n",
    "\n",
    "\n",
    "f = spk.spike_profile(spike_trains[0], spike_trains[1])\n",
    "x, y = f.get_plottable_data()\n",
    "\n",
    "plt.plot(x, y, '-b', label=\"SPIKE-profile\")\n",
    "\n",
    "plt.axis([0, 4000, -0.1, 1.1])\n",
    "plt.legend(loc=\"center right\")\n",
    "\n",
    "plt.figure()\n",
    "\n",
    "plt.subplot(211)\n",
    "\n",
    "f = spk.spike_sync_profile(spike_trains)\n",
    "x, y = f.get_plottable_data()\n",
    "plt.plot(x, y, '-b', alpha=0.7, label=\"SPIKE-Sync profile\")\n",
    "\n",
    "x1, y1 = f.get_plottable_data(averaging_window_size=50)\n",
    "plt.plot(x1, y1, '-k', lw=2.5, label=\"averaged SPIKE-Sync profile\")\n",
    "\n",
    "plt.subplot(212)\n",
    "\n",
    "f_psth = spk.psth(spike_trains, bin_size=50.0)\n",
    "x, y = f_psth.get_plottable_data()\n",
    "plt.plot(x, y, '-k', alpha=1.0, label=\"PSTH\")\n",
    "\n",
    "\n",
    "print(\"Average:\", f.avrg())\n",
    "\n",
    "plt.show()"
   ]
  },
  {
   "cell_type": "code",
   "execution_count": null,
   "metadata": {
    "collapsed": false
   },
   "outputs": [],
   "source": [
    "\n",
    "#print(spike_trains)\n",
    "plt.figure()\n",
    "isi_distance = spk.isi_distance_matrix(spike_trains)\n",
    "plt.imshow(isi_distance, interpolation='none')\n",
    "plt.title(\"ISI-distance\")\n",
    "plt.show()\n",
    "\n",
    "plt.figure()\n",
    "plt.clf()\n",
    "import seaborn as sns\n",
    "sns.set()\n",
    "sns.clustermap(isi_distance)#,vmin=-,vmax=1);\n",
    "#plt.show()"
   ]
  },
  {
   "cell_type": "code",
   "execution_count": null,
   "metadata": {
    "collapsed": false
   },
   "outputs": [],
   "source": [
    "\n",
    "\n",
    "plt.figure()\n",
    "spike_distance = spk.spike_distance_matrix(spike_trains, interval=(0, float(tstop)))\n",
    "\n",
    "\n",
    "import pickle\n",
    "with open('spike_distance_matrix.p','wb') as f:\n",
    "   pickle.dump(f,spike_distance)\n",
    "\n",
    "plt.imshow(spike_distance, interpolation='none')\n",
    "plt.title(\"SPIKE-distance, T=0-1000\")\n",
    "\n",
    "\n",
    "#plt.imshow(isi_distance, interpolation='none')\n",
    "#plt.title(\"ISI-distance\")\n",
    "plt.show()\n",
    "\n",
    "plt.figure()\n",
    "plt.clf()\n",
    "import seaborn as sns\n",
    "sns.set()\n",
    "sns.clustermap(spike_distance);\n",
    "plt.show()"
   ]
  },
  {
   "cell_type": "code",
   "execution_count": null,
   "metadata": {
    "collapsed": false
   },
   "outputs": [],
   "source": [
    "\n",
    "plt.figure()\n",
    "spike_sync = spk.spike_sync_matrix(spike_trains, interval=(0, float(tstop)))\n",
    "plt.imshow(spike_sync, interpolation='none')\n",
    "\n",
    "import pickle\n",
    "with open('spike_sync_matrix.p','wb') as f:\n",
    "   pickle.dump(f,spike_sync)\n",
    "\n",
    "plt.show()\n",
    "\n",
    "plt.figure()\n",
    "plt.clf()\n",
    "\n",
    "sns.clustermap(spike_sync);\n",
    "\n",
    "#plt.title(\"SPIKE-Sync, T=2000-4000\")\n",
    "plt.show()"
   ]
  },
  {
   "cell_type": "code",
   "execution_count": null,
   "metadata": {
    "collapsed": false
   },
   "outputs": [],
   "source": [
    "import pickle\n",
    "with open('bool_matrix.p','rb') as f:\n",
    "   m = pickle.load(f)\n",
    "print(type(m))\n",
    "print(m)\n",
    "import networkx as nx\n",
    "G = nx.DiGraph(m)\n",
    "in_degree = G.in_degree()\n",
    "top_in = sorted(([ (v,k) for k, v in in_degree.items() ]))\n",
    "in_hub = top_in[-1][1]\n",
    "out_degree = G.out_degree()\n",
    "top_out = sorted(([ (v,k) for k, v in out_degree.items() ]))\n",
    "out_hub = top_out[-1][1]\n",
    "\n",
    "#plt.figure()\n",
    "#plt.imshow(spike_sync, interpolation='none')\n",
    "sns.clustermap(m);\n",
    "\n",
    "#plt.title(\"SPIKE-Sync, T=2000-4000\")\n",
    "plt.show()\n",
    "\n",
    "\n",
    "plt.figure()\n",
    "plt.clf()\n",
    "plt.imshow(m, interpolation='none')\n",
    "plt.title(\"connection matrix\")\n",
    "plt.show()\n"
   ]
  },
  {
   "cell_type": "code",
   "execution_count": null,
   "metadata": {
    "collapsed": true
   },
   "outputs": [],
   "source": []
  }
 ],
 "metadata": {
  "kernelspec": {
   "display_name": "Python 3",
   "language": "python",
   "name": "python3"
  },
  "language_info": {
   "codemirror_mode": {
    "name": "ipython",
    "version": 3
   },
   "file_extension": ".py",
   "mimetype": "text/x-python",
   "name": "python",
   "nbconvert_exporter": "python",
   "pygments_lexer": "ipython3",
   "version": "3.5.2"
  }
 },
 "nbformat": 4,
 "nbformat_minor": 2
}
