{
 "cells": [
  {
   "cell_type": "code",
   "execution_count": 2,
   "metadata": {},
   "outputs": [
    {
     "name": "stdout",
     "output_type": "stream",
     "text": [
      "Collecting neuronunit\n",
      "  Downloading neuronunit-0.1.8.2.tar.gz\n",
      "Requirement already satisfied: neo in c:\\users\\kelly\\anaconda3\\lib\\site-packages (from neuronunit)\n",
      "Requirement already satisfied: elephant in c:\\users\\kelly\\anaconda3\\lib\\site-packages (from neuronunit)\n",
      "Collecting sciunit>=0.1.5.2 (from neuronunit)\n",
      "  Downloading sciunit-0.1.5.7.tar.gz\n",
      "Requirement already satisfied: numpy>=1.7.1 in c:\\users\\kelly\\anaconda3\\lib\\site-packages (from neo->neuronunit)\n",
      "Requirement already satisfied: quantities>=0.9.0 in c:\\users\\kelly\\anaconda3\\lib\\site-packages (from neo->neuronunit)\n",
      "Requirement already satisfied: six>=1.10.0 in c:\\users\\kelly\\anaconda3\\lib\\site-packages (from elephant->neuronunit)\n",
      "Requirement already satisfied: scipy>=0.14.0 in c:\\users\\kelly\\anaconda3\\lib\\site-packages (from elephant->neuronunit)\n",
      "Collecting cypy>=0.2 (from sciunit>=0.1.5.2->neuronunit)\n",
      "  Downloading cypy-0.2.0.tar.gz\n",
      "Requirement already satisfied: pandas>=0.18 in c:\\users\\kelly\\anaconda3\\lib\\site-packages (from sciunit>=0.1.5.2->neuronunit)\n",
      "Requirement already satisfied: ipython>=5.1 in c:\\users\\kelly\\anaconda3\\lib\\site-packages (from sciunit>=0.1.5.2->neuronunit)\n",
      "Collecting bs4 (from sciunit>=0.1.5.2->neuronunit)\n",
      "  Downloading bs4-0.0.1.tar.gz\n",
      "Requirement already satisfied: lxml in c:\\users\\kelly\\anaconda3\\lib\\site-packages (from sciunit>=0.1.5.2->neuronunit)\n",
      "Requirement already satisfied: nbconvert in c:\\users\\kelly\\anaconda3\\lib\\site-packages (from sciunit>=0.1.5.2->neuronunit)\n",
      "Collecting ipykernel (from sciunit>=0.1.5.2->neuronunit)\n",
      "  Downloading ipykernel-4.8.2-py3-none-any.whl (108kB)\n",
      "Requirement already satisfied: nbformat in c:\\users\\kelly\\anaconda3\\lib\\site-packages (from sciunit>=0.1.5.2->neuronunit)\n",
      "Requirement already satisfied: python-dateutil>=2 in c:\\users\\kelly\\anaconda3\\lib\\site-packages (from pandas>=0.18->sciunit>=0.1.5.2->neuronunit)\n",
      "Requirement already satisfied: pytz>=2011k in c:\\users\\kelly\\anaconda3\\lib\\site-packages (from pandas>=0.18->sciunit>=0.1.5.2->neuronunit)\n",
      "Requirement already satisfied: setuptools>=18.5 in c:\\users\\kelly\\anaconda3\\lib\\site-packages (from ipython>=5.1->sciunit>=0.1.5.2->neuronunit)\n",
      "Requirement already satisfied: jedi>=0.10 in c:\\users\\kelly\\anaconda3\\lib\\site-packages (from ipython>=5.1->sciunit>=0.1.5.2->neuronunit)\n",
      "Requirement already satisfied: decorator in c:\\users\\kelly\\anaconda3\\lib\\site-packages (from ipython>=5.1->sciunit>=0.1.5.2->neuronunit)\n",
      "Requirement already satisfied: pickleshare in c:\\users\\kelly\\anaconda3\\lib\\site-packages (from ipython>=5.1->sciunit>=0.1.5.2->neuronunit)\n",
      "Requirement already satisfied: simplegeneric>0.8 in c:\\users\\kelly\\anaconda3\\lib\\site-packages (from ipython>=5.1->sciunit>=0.1.5.2->neuronunit)\n",
      "Requirement already satisfied: traitlets>=4.2 in c:\\users\\kelly\\anaconda3\\lib\\site-packages (from ipython>=5.1->sciunit>=0.1.5.2->neuronunit)\n",
      "Requirement already satisfied: prompt_toolkit<2.0.0,>=1.0.4 in c:\\users\\kelly\\anaconda3\\lib\\site-packages (from ipython>=5.1->sciunit>=0.1.5.2->neuronunit)\n",
      "Requirement already satisfied: pygments in c:\\users\\kelly\\anaconda3\\lib\\site-packages (from ipython>=5.1->sciunit>=0.1.5.2->neuronunit)\n",
      "Requirement already satisfied: colorama in c:\\users\\kelly\\anaconda3\\lib\\site-packages (from ipython>=5.1->sciunit>=0.1.5.2->neuronunit)\n",
      "Requirement already satisfied: beautifulsoup4 in c:\\users\\kelly\\anaconda3\\lib\\site-packages (from bs4->sciunit>=0.1.5.2->neuronunit)\n",
      "Requirement already satisfied: mistune>=0.7.4 in c:\\users\\kelly\\anaconda3\\lib\\site-packages (from nbconvert->sciunit>=0.1.5.2->neuronunit)\n",
      "Requirement already satisfied: jinja2 in c:\\users\\kelly\\anaconda3\\lib\\site-packages (from nbconvert->sciunit>=0.1.5.2->neuronunit)\n",
      "Requirement already satisfied: jupyter_core in c:\\users\\kelly\\anaconda3\\lib\\site-packages (from nbconvert->sciunit>=0.1.5.2->neuronunit)\n",
      "Requirement already satisfied: entrypoints>=0.2.2 in c:\\users\\kelly\\anaconda3\\lib\\site-packages (from nbconvert->sciunit>=0.1.5.2->neuronunit)\n",
      "Requirement already satisfied: bleach in c:\\users\\kelly\\anaconda3\\lib\\site-packages (from nbconvert->sciunit>=0.1.5.2->neuronunit)\n",
      "Requirement already satisfied: pandocfilters>=1.4.1 in c:\\users\\kelly\\anaconda3\\lib\\site-packages (from nbconvert->sciunit>=0.1.5.2->neuronunit)\n",
      "Requirement already satisfied: testpath in c:\\users\\kelly\\anaconda3\\lib\\site-packages (from nbconvert->sciunit>=0.1.5.2->neuronunit)\n",
      "Requirement already satisfied: tornado>=4.0 in c:\\users\\kelly\\anaconda3\\lib\\site-packages (from ipykernel->sciunit>=0.1.5.2->neuronunit)\n",
      "Requirement already satisfied: jupyter-client in c:\\users\\kelly\\anaconda3\\lib\\site-packages (from ipykernel->sciunit>=0.1.5.2->neuronunit)\n",
      "Requirement already satisfied: ipython_genutils in c:\\users\\kelly\\anaconda3\\lib\\site-packages (from nbformat->sciunit>=0.1.5.2->neuronunit)\n",
      "Requirement already satisfied: jsonschema!=2.5.0,>=2.4 in c:\\users\\kelly\\anaconda3\\lib\\site-packages (from nbformat->sciunit>=0.1.5.2->neuronunit)\n",
      "Requirement already satisfied: parso==0.1.* in c:\\users\\kelly\\anaconda3\\lib\\site-packages (from jedi>=0.10->ipython>=5.1->sciunit>=0.1.5.2->neuronunit)\n",
      "Requirement already satisfied: wcwidth in c:\\users\\kelly\\anaconda3\\lib\\site-packages (from prompt_toolkit<2.0.0,>=1.0.4->ipython>=5.1->sciunit>=0.1.5.2->neuronunit)\n",
      "Requirement already satisfied: MarkupSafe>=0.23 in c:\\users\\kelly\\anaconda3\\lib\\site-packages (from jinja2->nbconvert->sciunit>=0.1.5.2->neuronunit)\n",
      "Requirement already satisfied: html5lib!=1.0b1,!=1.0b2,!=1.0b3,!=1.0b4,!=1.0b5,!=1.0b6,!=1.0b7,!=1.0b8,>=0.99999999pre in c:\\users\\kelly\\anaconda3\\lib\\site-packages (from bleach->nbconvert->sciunit>=0.1.5.2->neuronunit)\n",
      "Requirement already satisfied: pyzmq>=13 in c:\\users\\kelly\\anaconda3\\lib\\site-packages (from jupyter-client->ipykernel->sciunit>=0.1.5.2->neuronunit)\n",
      "Requirement already satisfied: webencodings in c:\\users\\kelly\\anaconda3\\lib\\site-packages (from html5lib!=1.0b1,!=1.0b2,!=1.0b3,!=1.0b4,!=1.0b5,!=1.0b6,!=1.0b7,!=1.0b8,>=0.99999999pre->bleach->nbconvert->sciunit>=0.1.5.2->neuronunit)\n",
      "Building wheels for collected packages: neuronunit, sciunit, cypy, bs4\n",
      "  Running setup.py bdist_wheel for neuronunit: started\n",
      "  Running setup.py bdist_wheel for neuronunit: finished with status 'done'\n",
      "  Stored in directory: C:\\Users\\Kelly\\AppData\\Local\\pip\\Cache\\wheels\\f8\\e3\\31\\ff8f0c6797e342924436972aa5a1fa1483238e911309eddfc7\n",
      "  Running setup.py bdist_wheel for sciunit: started\n",
      "  Running setup.py bdist_wheel for sciunit: finished with status 'done'\n",
      "  Stored in directory: C:\\Users\\Kelly\\AppData\\Local\\pip\\Cache\\wheels\\39\\73\\0d\\df8f4ff96c6c15909f648a4f2b83d89ef7693ce15db0de39d8\n",
      "  Running setup.py bdist_wheel for cypy: started\n",
      "  Running setup.py bdist_wheel for cypy: finished with status 'done'\n",
      "  Stored in directory: C:\\Users\\Kelly\\AppData\\Local\\pip\\Cache\\wheels\\7a\\4e\\c4\\90b11d241a3857f858da164f79a2f20dadff2a1d09b905ec3e\n",
      "  Running setup.py bdist_wheel for bs4: started\n",
      "  Running setup.py bdist_wheel for bs4: finished with status 'done'\n",
      "  Stored in directory: C:\\Users\\Kelly\\AppData\\Local\\pip\\Cache\\wheels\\84\\67\\d4\\9e09d9d5adede2ee1c7b7e8775ba3fbb04d07c4f946f0e4f11\n",
      "Successfully built neuronunit sciunit cypy bs4\n",
      "Installing collected packages: cypy, bs4, ipykernel, sciunit, neuronunit\n",
      "Successfully installed bs4-0.0.1 cypy-0.2.0 ipykernel-4.8.2 neuronunit-0.1.8.2 sciunit-0.1.5.7\n"
     ]
    },
    {
     "name": "stderr",
     "output_type": "stream",
     "text": [
      "C:\\Users\\Kelly\\Anaconda3\\lib\\site-packages\\h5py\\__init__.py:36: FutureWarning: Conversion of the second argument of issubdtype from `float` to `np.floating` is deprecated. In future, it will be treated as `np.float64 == np.dtype(float).type`.\n",
      "  from ._conv import register_converters as _register_converters\n",
      "C:\\Users\\Kelly\\Anaconda3\\lib\\site-packages\\elephant\\spade.py:82: UserWarning: fim.so not found in elephant/spade_src folder,you are using the python implementation of fast fca\n",
      "  'you are using the python implementation of fast fca')\n"
     ]
    },
    {
     "ename": "IndentationError",
     "evalue": "expected an indented block (dynamics.py, line 87)",
     "output_type": "error",
     "traceback": [
      "Traceback \u001b[1;36m(most recent call last)\u001b[0m:\n",
      "  File \u001b[0;32m\"C:\\Users\\Kelly\\Anaconda3\\lib\\site-packages\\IPython\\core\\interactiveshell.py\"\u001b[0m, line \u001b[0;32m2910\u001b[0m, in \u001b[0;35mrun_code\u001b[0m\n    exec(code_obj, self.user_global_ns, self.user_ns)\n",
      "\u001b[1;36m  File \u001b[1;32m\"<ipython-input-2-b191f7786848>\"\u001b[1;36m, line \u001b[1;32m5\u001b[1;36m, in \u001b[1;35m<module>\u001b[1;36m\u001b[0m\n\u001b[1;33m    from neuronunit.tests.dynamics import CVTest, LocalVariationTest\u001b[0m\n",
      "\u001b[1;36m  File \u001b[1;32m\"C:\\Users\\Kelly\\Anaconda3\\lib\\site-packages\\neuronunit\\tests\\dynamics.py\"\u001b[1;36m, line \u001b[1;32m87\u001b[0m\n\u001b[1;33m    name = \"Burstiness test\"\u001b[0m\n\u001b[1;37m       ^\u001b[0m\n\u001b[1;31mIndentationError\u001b[0m\u001b[1;31m:\u001b[0m expected an indented block\n"
     ]
    }
   ],
   "source": [
    "\n",
    "!pip install neuronunit\n",
    "import pickle\n",
    "import numpy as np\n",
    "from neuronunit.tests.dynamics import CVTest, LocalVariationTest\n",
    "!pip install pyspike \n",
    "from elephant.statistics import mean_firing_rate, cv, isi\n",
    "from elephant.conversion import BinnedSpikeTrain#, corrcoef\n",
    "import pyspike\n",
    "import matplotlib as mpl\n",
    "import matplotlib.pyplot as plt\n",
    "\n",
    "import pyspike as spk\n",
    "import pickle\n",
    "import numpy as np\n",
    "with open('membrane_dynamics_balanced_file.p', 'rb') as f:\n",
    "  #with open('pickles/membrane_dynamics_file.p', 'rb') as f:\n",
    "  mdf1 = pickle.load(f)\n",
    "  \n",
    "  \n",
    "with open('pickles/membrane_dynamics_hippocampome_file.p', 'rb') as f:\n",
    "  mdf2 = pickle.load(f)\n",
    "  print(mdf2)\n",
    "\n",
    "from neuronunit import tests as nu_tests, neuroelectro\n",
    "from neuronunit.tests import passive, waveform, fi\n",
    "cholinergic = {'neuron':'115'}\n",
    "import neuronunit\n",
    "\n",
    "\n",
    "ass = mdf1.analogsignals[0]   \n",
    "vm_spiking = []\n",
    "spike_trains = []\n",
    "\n",
    "for spiketrain in mdf1.spiketrains:\n",
    "    vm_spiking.append(mdf1.analogsignals[0][spiketrain.annotations['source_id']])\n",
    "    #spiketrain = mdf1.spiketrains[index]\n",
    "    y = np.ones_like(spiketrain) * spiketrain.annotations['source_id']\n",
    "    \n",
    "    # argument edges is the time interval you want to be considered.\n",
    "    pspikes = pyspike.SpikeTrain(spiketrain,edges=(0,len(ass)))\n",
    "    spike_trains.append(pspikes)\n"
   ]
  },
  {
   "cell_type": "code",
   "execution_count": 2,
   "metadata": {},
   "outputs": [
    {
     "data": {
      "image/png": "[encoded data removed]",
      "text/plain": [
       "<matplotlib.figure.Figure at 0x7fb1eb62bcc0>"
      ]
     },
     "metadata": {},
     "output_type": "display_data"
    }
   ],
   "source": [
    "spike_trains = []\n",
    "ass = mdf1.analogsignals[0]   \n",
    "tstop = mdf1.t_stop\n",
    "vm_spiking = []\n",
    "for spiketrain in mdf1.spiketrains:\n",
    "    vm_spiking.append(mdf1.analogsignals[0][spiketrain.annotations['source_id']])\n",
    "    y = np.ones_like(spiketrain) * spiketrain.annotations['source_id']    \n",
    "    # argument edges is the time interval you want to be considered.\n",
    "    pspikes = pyspike.SpikeTrain(spiketrain,edges=(0,tstop))\n",
    "\n",
    "    spike_trains.append(pspikes)\n",
    "\n",
    "# plot the spike times\n",
    "for (i, spike_train) in enumerate(spike_trains):\n",
    "    plt.scatter(spike_train, i*np.ones_like(spike_train), marker='|')\n",
    "\n",
    "# profile of the first two spike trains\n",
    "f = spk.isi_profile(spike_trains, indices=[0, 1])\n",
    "x, y = f.get_plottable_data()\n",
    "\n"
   ]
  },
  {
   "cell_type": "code",
   "execution_count": 3,
   "metadata": {},
   "outputs": [
    {
     "name": "stdout",
     "output_type": "stream",
     "text": [
      "plot the analog signal Block/Segment to get information about its length and sampling rate\n",
      "[<AnalogSignal(array([[-59.111014  , -50.52556666, -52.018056  , ..., -59.8072147 ,\n",
      "        -50.03386217, -54.95156728],\n",
      "       [-59.11543682, -50.57270314, -52.05776716, ..., -59.80817383,\n",
      "        -50.08344494, -54.97668387],\n",
      "       [-59.11983763, -50.61960511, -52.09728076, ..., -59.80912819,\n",
      "        -50.13278104, -55.00167549],\n",
      "       ..., \n",
      "       [-60.        , -60.        , -60.        , ..., -60.        ,\n",
      "        -60.        , -60.        ],\n",
      "       [-60.        , -60.        , -60.        , ..., -60.        ,\n",
      "        -60.        , -60.        ],\n",
      "       [-60.        , -60.        , -60.        , ..., -60.        ,\n",
      "        -60.        , -60.        ]]) * mV, [0.0 ms, 10000.1 ms], sampling rate: 10.0 1/ms)>]\n",
      "<class 'quantities.quantity.Quantity'>\n"
     ]
    },
    {
     "data": {
      "text/plain": [
       "'\\n\\nsf = 10 * 1/0.001\\ndt = float(1.0/sf)\\ntimes = np.linspace(0.0,2.0001,4000)\\n\\nplt.figure()\\nplt.plot(times, ass)\\nplt.show()\\n'"
      ]
     },
     "execution_count": 3,
     "metadata": {},
     "output_type": "execute_result"
    }
   ],
   "source": [
    "print('plot the analog signal Block/Segment to get information about its length and sampling rate')\n",
    "print(mdf1.analogsignals)\n",
    "ass = mdf1.analogsignals[0][143]    \n",
    "from neuronunit.models import static_model\n",
    "print(type(ass))\n",
    "sm = static_model.StaticModel(ass)\n",
    "'''\n",
    "\n",
    "sf = 10 * 1/0.001\n",
    "dt = float(1.0/sf)\n",
    "times = np.linspace(0.0,2.0001,4000)\n",
    "\n",
    "plt.figure()\n",
    "plt.plot(times, ass)\n",
    "plt.show()\n",
    "'''"
   ]
  },
  {
   "cell_type": "code",
   "execution_count": 24,
   "metadata": {},
   "outputs": [
    {
     "name": "stdout",
     "output_type": "stream",
     "text": [
      "0\n"
     ]
    },
    {
     "ename": "AttributeError",
     "evalue": "module 'elephant.statistics' has no attribute 'cv2'",
     "output_type": "error",
     "traceback": [
      "\u001b[0;31m---------------------------------------------------------------------------\u001b[0m",
      "\u001b[0;31mAttributeError\u001b[0m                            Traceback (most recent call last)",
      "\u001b[0;32m<ipython-input-24-3b840f1f9367>\u001b[0m in \u001b[0;36m<module>\u001b[0;34m()\u001b[0m\n\u001b[1;32m     26\u001b[0m     \u001b[0my\u001b[0m \u001b[0;34m=\u001b[0m \u001b[0mnp\u001b[0m\u001b[0;34m.\u001b[0m\u001b[0mones_like\u001b[0m\u001b[0;34m(\u001b[0m\u001b[0mspiketrain\u001b[0m\u001b[0;34m)\u001b[0m \u001b[0;34m*\u001b[0m \u001b[0mspiketrain\u001b[0m\u001b[0;34m.\u001b[0m\u001b[0mannotations\u001b[0m\u001b[0;34m[\u001b[0m\u001b[0;34m'source_id'\u001b[0m\u001b[0;34m]\u001b[0m\u001b[0;34m\u001b[0m\u001b[0m\n\u001b[1;32m     27\u001b[0m \u001b[0;34m\u001b[0m\u001b[0m\n\u001b[0;32m---> 28\u001b[0;31m     \u001b[0mprint\u001b[0m\u001b[0;34m(\u001b[0m\u001b[0melephant\u001b[0m\u001b[0;34m.\u001b[0m\u001b[0mstatistics\u001b[0m\u001b[0;34m.\u001b[0m\u001b[0mcv2\u001b[0m\u001b[0;34m(\u001b[0m\u001b[0mmdf1\u001b[0m\u001b[0;34m.\u001b[0m\u001b[0mspiketrains\u001b[0m\u001b[0;34m)\u001b[0m\u001b[0;34m)\u001b[0m\u001b[0;34m\u001b[0m\u001b[0m\n\u001b[0m\u001b[1;32m     29\u001b[0m \u001b[0;34m\u001b[0m\u001b[0m\n\u001b[1;32m     30\u001b[0m     \u001b[0mspike_trains\u001b[0m\u001b[0;34m.\u001b[0m\u001b[0mappend\u001b[0m\u001b[0;34m(\u001b[0m\u001b[0mpspikes\u001b[0m\u001b[0;34m)\u001b[0m\u001b[0;34m\u001b[0m\u001b[0m\n",
      "\u001b[0;31mAttributeError\u001b[0m: module 'elephant.statistics' has no attribute 'cv2'"
     ]
    }
   ],
   "source": [
    "\n",
    "\n",
    "\n",
    "\n",
    "tstop = mdf1.t_stop\n",
    "\n",
    "vm_spiking = []\n",
    "spike_train_halves = []\n",
    "auto_correlation = []\n",
    "from elephant.spike_train_correlation import corrcoef\n",
    "import quantities as qt\n",
    "import copy\n",
    "import neo\n",
    "import elephant\n",
    "cnt=0\n",
    "#auto_correlation = []\n",
    "cv_hist = [None for i in mdf1.spiketrains]\n",
    "\n",
    "for spiketrain in mdf1.spiketrains:    \n",
    "    print(cnt)\n",
    "    first_ = list(copy.copy(spiketrain))\n",
    "    second_ = list(copy.copy(spiketrain))\n",
    "\n",
    "    first_ = neo.core.SpikeTrain(first_*qt.ms,t_stop=tstop)   \n",
    "    second_ = neo.core.SpikeTrain(second_*qt.ms,t_stop=tstop)  \n",
    "    y = np.ones_like(spiketrain) * spiketrain.annotations['source_id']\n",
    "\n",
    "    print(elephant.statistics.cv2(mdf1.spiketrains))\n",
    "\n",
    "    spike_trains.append(pspikes)\n",
    "    print(spike_trains[-1])\n",
    "print(elephant.statistics.fanofactor(mdf1.spiketrains))\n",
    "#print(elephant.statistics.cv(mdf1.spiketrains))\n",
    "        \n"
   ]
  },
  {
   "cell_type": "code",
   "execution_count": 5,
   "metadata": {},
   "outputs": [
    {
     "ename": "NameError",
     "evalue": "name 'times' is not defined",
     "output_type": "error",
     "traceback": [
      "\u001b[0;31m---------------------------------------------------------------------------\u001b[0m",
      "\u001b[0;31mNameError\u001b[0m                                 Traceback (most recent call last)",
      "\u001b[0;32m<ipython-input-5-be8beefdfa43>\u001b[0m in \u001b[0;36m<module>\u001b[0;34m()\u001b[0m\n\u001b[1;32m      5\u001b[0m \u001b[0;34m\u001b[0m\u001b[0m\n\u001b[1;32m      6\u001b[0m \u001b[0mplt\u001b[0m\u001b[0;34m.\u001b[0m\u001b[0mfigure\u001b[0m\u001b[0;34m(\u001b[0m\u001b[0;34m)\u001b[0m\u001b[0;34m\u001b[0m\u001b[0m\n\u001b[0;32m----> 7\u001b[0;31m \u001b[0mplt\u001b[0m\u001b[0;34m.\u001b[0m\u001b[0mplot\u001b[0m\u001b[0;34m(\u001b[0m\u001b[0mtimes\u001b[0m\u001b[0;34m[\u001b[0m\u001b[0;36m0\u001b[0m\u001b[0;34m:\u001b[0m\u001b[0;36m1000\u001b[0m\u001b[0;34m]\u001b[0m\u001b[0;34m,\u001b[0m \u001b[0mvm_spiking\u001b[0m\u001b[0;34m[\u001b[0m\u001b[0;36m144\u001b[0m\u001b[0;34m]\u001b[0m\u001b[0;34m[\u001b[0m\u001b[0;36m0\u001b[0m\u001b[0;34m:\u001b[0m\u001b[0;36m1000\u001b[0m\u001b[0;34m]\u001b[0m\u001b[0;34m)\u001b[0m\u001b[0;34m\u001b[0m\u001b[0m\n\u001b[0m\u001b[1;32m      8\u001b[0m \u001b[0mplt\u001b[0m\u001b[0;34m.\u001b[0m\u001b[0mshow\u001b[0m\u001b[0;34m(\u001b[0m\u001b[0;34m)\u001b[0m\u001b[0;34m\u001b[0m\u001b[0m\n\u001b[1;32m      9\u001b[0m \u001b[0mspiking_memb_pot0\u001b[0m \u001b[0;34m=\u001b[0m \u001b[0mvm_spiking\u001b[0m\u001b[0;34m[\u001b[0m\u001b[0;36m20\u001b[0m\u001b[0;34m]\u001b[0m\u001b[0;34m\u001b[0m\u001b[0m\n",
      "\u001b[0;31mNameError\u001b[0m: name 'times' is not defined"
     ]
    },
    {
     "data": {
      "text/plain": [
       "<matplotlib.figure.Figure at 0x7fb1fa7f91d0>"
      ]
     },
     "metadata": {},
     "output_type": "display_data"
    }
   ],
   "source": [
    "\n",
    "#ass = mdf1.analogsignals[0][0]    \n",
    "#times = [i for i in range(0,len(vm_spiking[0]))]\n",
    "\n",
    "\n",
    "plt.figure()\n",
    "plt.plot(times[0:1000], vm_spiking[144][0:1000])\n",
    "plt.show()\n",
    "spiking_memb_pot0 = vm_spiking[20]\n",
    "spiking_memb_pot1 = vm_spiking[21][0:1000]\n",
    "spiking_memb_pot0 = vm_spiking[22]\n",
    "spiking_memb_pot1 = vm_spiking[23]#[0:1000]\n",
    "spiking_memb_pot1 = vm_spiking[43]"
   ]
  },
  {
   "cell_type": "code",
   "execution_count": null,
   "metadata": {},
   "outputs": [],
   "source": [
    "\n",
    "\n",
    "#dt = 0.01 # 1 ms interval between points\n",
    "T_max = len(vm_spiking[144]) # Signal lasts for 10 seconds\n",
    "times = np.arange(0,T_max,dt)\n",
    "N = len(times)\n",
    "frequency = 20 # Frequency of sinusoid in Hz\n",
    "offset = 0 # Phase offset in radians\n",
    "lv_test_signal0 = np.array(0.6*np.sin(2*np.pi*frequency*times+offset))\n",
    "lv_test_signal1 = np.array(0.6*np.sin(2*np.pi*2*frequency*times+offset))\n",
    "\n",
    "composite_signal = [ float(vm) + lv_test_signal0[i] for i,vm in enumerate(vm_spiking[144])]\n"
   ]
  },
  {
   "cell_type": "code",
   "execution_count": null,
   "metadata": {},
   "outputs": [],
   "source": []
  },
  {
   "cell_type": "code",
   "execution_count": null,
   "metadata": {},
   "outputs": [],
   "source": []
  },
  {
   "cell_type": "code",
   "execution_count": null,
   "metadata": {},
   "outputs": [],
   "source": [
    "\n"
   ]
  },
  {
   "cell_type": "code",
   "execution_count": null,
   "metadata": {},
   "outputs": [],
   "source": [
    "plt.figure()\n",
    "plt.plot(x, np.abs(y), '--k', label=\"ISI-profile\")\n",
    "print(\"ISI-distance: %.8f\" % f.avrg())\n",
    "f = spk.spike_profile(spike_trains, indices=[0, 1])\n",
    "x, y = f.get_plottable_data()\n",
    "plt.plot(x, y, '-b', label=\"SPIKE-profile\")\n",
    "print(\"SPIKE-distance: %.8f\" % f.avrg())\n",
    "plt.legend(loc=\"upper left\")\n",
    "plt.show()"
   ]
  },
  {
   "cell_type": "code",
   "execution_count": null,
   "metadata": {},
   "outputs": [],
   "source": [
    "plt.figure()\n",
    "\n",
    "f = spk.spike_sync_profile(spike_trains[0], spike_trains[1])\n",
    "x, y = f.get_plottable_data()\n",
    "plt.plot(x, y, '--ok', label=\"SPIKE-SYNC profile\")\n",
    "#print(f.x)\n",
    "#print(f.y)\n",
    "#print(f.mp)\n",
    "\n",
    "print(\"Average:\", f.avrg())\n",
    "\n",
    "\n",
    "f = spk.spike_profile(spike_trains[0], spike_trains[1])\n",
    "x, y = f.get_plottable_data()\n",
    "\n",
    "plt.plot(x, y, '-b', label=\"SPIKE-profile\")\n",
    "\n",
    "plt.axis([0, 4000, -0.1, 1.1])\n",
    "plt.legend(loc=\"center right\")\n",
    "\n",
    "plt.figure()\n",
    "\n",
    "plt.subplot(211)\n",
    "\n",
    "f = spk.spike_sync_profile(spike_trains)\n",
    "x, y = f.get_plottable_data()\n",
    "plt.plot(x, y, '-b', alpha=0.7, label=\"SPIKE-Sync profile\")\n",
    "\n",
    "x1, y1 = f.get_plottable_data(averaging_window_size=50)\n",
    "plt.plot(x1, y1, '-k', lw=2.5, label=\"averaged SPIKE-Sync profile\")\n",
    "\n",
    "plt.subplot(212)\n",
    "\n",
    "f_psth = spk.psth(spike_trains, bin_size=50.0)\n",
    "x, y = f_psth.get_plottable_data()\n",
    "plt.plot(x, y, '-k', alpha=1.0, label=\"PSTH\")\n",
    "\n",
    "\n",
    "print(\"Average:\", f.avrg())\n",
    "\n",
    "plt.show()"
   ]
  },
  {
   "cell_type": "code",
   "execution_count": null,
   "metadata": {},
   "outputs": [],
   "source": [
    "\n",
    "#print(spike_trains)\n",
    "plt.figure()\n",
    "isi_distance = spk.isi_distance_matrix(spike_trains)\n",
    "plt.imshow(isi_distance, interpolation='none')\n",
    "plt.title(\"ISI-distance\")\n",
    "plt.show()"
   ]
  },
  {
   "cell_type": "code",
   "execution_count": null,
   "metadata": {},
   "outputs": [],
   "source": [
    "\n",
    "\n",
    "plt.figure()\n",
    "spike_distance = spk.spike_distance_matrix(spike_trains, interval=(0, float(tstop)))\n",
    "plt.imshow(spike_distance, interpolation='none')\n",
    "plt.title(\"SPIKE-distance, T=0-1000\")\n",
    "plt.show()"
   ]
  },
  {
   "cell_type": "code",
   "execution_count": null,
   "metadata": {},
   "outputs": [],
   "source": [
    "\n",
    "plt.figure()\n",
    "spike_sync = spk.spike_sync_matrix(spike_trains, interval=(0, float(tstop)))\n",
    "plt.imshow(spike_sync, interpolation='none')\n",
    "plt.title(\"SPIKE-Sync, T=2000-4000\")\n",
    "plt.show()"
   ]
  },
  {
   "cell_type": "code",
   "execution_count": null,
   "metadata": {
    "collapsed": true
   },
   "outputs": [],
   "source": [
    "import pickle\n",
    "with open('bool_matrix.p','rb') as f:\n",
    "   m = pickle.load(f)\n",
    "print(type(m))\n",
    "print(m)\n",
    "\n",
    "#plt.figure()\n",
    "#plt.imshow(spike_sync, interpolation='none')\n",
    "sns.clustermap(m);\n",
    "\n",
    "#plt.title(\"SPIKE-Sync, T=2000-4000\")\n",
    "plt.show()\n",
    "\n",
    "\n",
    "plt.figure()\n",
    "plt.clf()\n",
    "plt.imshow(m, interpolation='none')\n",
    "plt.title(\"connection matrix\")\n",
    "plt.show()"
   ]
  },
  {
   "cell_type": "code",
   "execution_count": null,
   "metadata": {
    "collapsed": true
   },
   "outputs": [],
   "source": []
  }
 ],
 "metadata": {
  "kernelspec": {
   "display_name": "Python 3",
   "language": "python",
   "name": "python3"
  },
  "language_info": {
   "codemirror_mode": {
    "name": "ipython",
    "version": 3
   },
   "file_extension": ".py",
   "mimetype": "text/x-python",
   "name": "python",
   "nbconvert_exporter": "python",
   "pygments_lexer": "ipython3",
   "version": "3.6.4"
  }
 },
 "nbformat": 4,
 "nbformat_minor": 2
}
