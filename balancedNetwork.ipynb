{
 "cells": [
  {
   "cell_type": "code",
   "execution_count": null,
   "metadata": {
    "collapsed": false
   },
   "outputs": [
    {
     "name": "stderr",
     "output_type": "stream",
     "text": [
      "2018-02-23 00:58:34,279 INFO     [PyNN] Initializing membrane potential of 0 cells and 0 Populations. (/opt/conda/lib/python3.5/site-packages/pyNN/neuron/simulator.py[140]:_initialize)\n"
     ]
    },
    {
     "name": "stdout",
     "output_type": "stream",
     "text": [
      "Host #1 is on 287510e4b78a\n",
      "0 Initialising the simulator with 1 thread(s)...\n",
      "0 Creating cell populations...\n"
     ]
    },
    {
     "name": "stderr",
     "output_type": "stream",
     "text": [
      "2018-02-23 00:58:34,835 DEBUG    [PyNN] In Population 'All Cells', initialising v to -65.0 (/opt/conda/lib/python3.5/site-packages/pyNN/common/populations.py[402]:initialize)\n",
      "2018-02-23 00:58:34,840 DEBUG    [PyNN] In Population 'All Cells', initialising gsyn_exc to 0.0 (/opt/conda/lib/python3.5/site-packages/pyNN/common/populations.py[402]:initialize)\n",
      "2018-02-23 00:58:34,845 DEBUG    [PyNN] In Population 'All Cells', initialising gsyn_inh to 0.0 (/opt/conda/lib/python3.5/site-packages/pyNN/common/populations.py[402]:initialize)\n",
      "2018-02-23 00:58:34,854 DEBUG    [PyNN] All Cells.record('['v', 'spikes']') (/opt/conda/lib/python3.5/site-packages/pyNN/common/populations.py[441]:record)\n",
      "2018-02-23 00:58:34,854 DEBUG    [PyNN] Recorder.record(<4000 cells>) (/opt/conda/lib/python3.5/site-packages/pyNN/recording/__init__.py[222]:record)\n"
     ]
    },
    {
     "name": "stdout",
     "output_type": "stream",
     "text": [
      "0 Initialising membrane potential to random values...\n"
     ]
    },
    {
     "name": "stderr",
     "output_type": "stream",
     "text": [
      "2018-02-23 00:58:35,499 DEBUG    [PyNN] In Population 'All Cells', initialising v to RandomDistribution('uniform', {'high': -50.0, 'low': -60.0}, NumpyRNG(seed=98765)) (/opt/conda/lib/python3.5/site-packages/pyNN/common/populations.py[402]:initialize)\n",
      "2018-02-23 00:58:35,507 WARNING  [root] PopulationView can contain only once each ID, duplicated IDs are remove (/opt/conda/lib/python3.5/site-packages/pyNN/common/populations.py[825]:__init__)\n",
      "2018-02-23 00:58:35,508 WARNING  [root] PopulationView can contain only once each ID, duplicated IDs are remove (/opt/conda/lib/python3.5/site-packages/pyNN/common/populations.py[825]:__init__)\n",
      "2018-02-23 00:58:35,510 WARNING  [root] PopulationView can contain only once each ID, duplicated IDs are remove (/opt/conda/lib/python3.5/site-packages/pyNN/common/populations.py[825]:__init__)\n",
      "2018-02-23 00:58:35,511 WARNING  [root] PopulationView can contain only once each ID, duplicated IDs are remove (/opt/conda/lib/python3.5/site-packages/pyNN/common/populations.py[825]:__init__)\n",
      "2018-02-23 00:58:35,518 DEBUG    [PyNN] Connecting expoisson→All Cells using a connection map (/opt/conda/lib/python3.5/site-packages/pyNN/connectors.py[247]:_connect_with_map)\n",
      "2018-02-23 00:58:35,519 DEBUG    [PyNN] Parallel-safe iteration. (/opt/conda/lib/python3.5/site-packages/pyNN/connectors.py[172]:_standard_connect)\n",
      "2018-02-23 00:58:35,654 INFO     [PyNN] --- Projection[expoisson→All Cells].__init__() --- (/opt/conda/lib/python3.5/site-packages/pyNN/neuron/projections.py[49]:__init__)\n",
      "2018-02-23 00:58:35,657 DEBUG    [PyNN] Connecting Excitatory cells→Excitatory cells using a connection map (/opt/conda/lib/python3.5/site-packages/pyNN/connectors.py[247]:_connect_with_map)\n",
      "2018-02-23 00:58:35,658 DEBUG    [PyNN] Parallel-safe iteration. (/opt/conda/lib/python3.5/site-packages/pyNN/connectors.py[172]:_standard_connect)\n"
     ]
    },
    {
     "name": "stdout",
     "output_type": "stream",
     "text": [
      "0 Connecting populations...\n",
      "[ ################## ] 100%                                                                                                                                                                                                                                                                                                                                                                                                                                                                                                                                                                                                                                                                                                              \r"
     ]
    },
    {
     "name": "stderr",
     "output_type": "stream",
     "text": [
      "2018-02-23 00:58:44,342 INFO     [PyNN] --- Projection[Excitatory cells→Excitatory cells].__init__() --- (/opt/conda/lib/python3.5/site-packages/pyNN/neuron/projections.py[49]:__init__)\n",
      "2018-02-23 00:58:44,344 DEBUG    [PyNN] Connecting Excitatory cells→Inhibitory cells using a connection map (/opt/conda/lib/python3.5/site-packages/pyNN/connectors.py[247]:_connect_with_map)\n",
      "2018-02-23 00:58:44,345 DEBUG    [PyNN] Parallel-safe iteration. (/opt/conda/lib/python3.5/site-packages/pyNN/connectors.py[172]:_standard_connect)\n"
     ]
    },
    {
     "name": "stdout",
     "output_type": "stream",
     "text": [
      "[ ################## ] 100%                                                                                                                                                                                            \r"
     ]
    },
    {
     "name": "stderr",
     "output_type": "stream",
     "text": [
      "2018-02-23 00:58:46,246 INFO     [PyNN] --- Projection[Excitatory cells→Inhibitory cells].__init__() --- (/opt/conda/lib/python3.5/site-packages/pyNN/neuron/projections.py[49]:__init__)\n",
      "2018-02-23 00:58:46,250 DEBUG    [PyNN] Connecting Inhibitory cells→Excitatory cells using a connection map (/opt/conda/lib/python3.5/site-packages/pyNN/connectors.py[247]:_connect_with_map)\n",
      "2018-02-23 00:58:46,251 DEBUG    [PyNN] Parallel-safe iteration. (/opt/conda/lib/python3.5/site-packages/pyNN/connectors.py[172]:_standard_connect)\n"
     ]
    },
    {
     "name": "stdout",
     "output_type": "stream",
     "text": [
      "[ ################## ] 100%                                                                                                                                                              \r"
     ]
    },
    {
     "name": "stderr",
     "output_type": "stream",
     "text": [
      "2018-02-23 00:58:52,816 INFO     [PyNN] --- Projection[Inhibitory cells→Excitatory cells].__init__() --- (/opt/conda/lib/python3.5/site-packages/pyNN/neuron/projections.py[49]:__init__)\n",
      "2018-02-23 00:58:52,819 DEBUG    [PyNN] Connecting Inhibitory cells→Inhibitory cells using a connection map (/opt/conda/lib/python3.5/site-packages/pyNN/connectors.py[247]:_connect_with_map)\n",
      "2018-02-23 00:58:52,822 DEBUG    [PyNN] Parallel-safe iteration. (/opt/conda/lib/python3.5/site-packages/pyNN/connectors.py[172]:_standard_connect)\n"
     ]
    },
    {
     "name": "stdout",
     "output_type": "stream",
     "text": [
      "[ ################## ] 100%                                                   \r"
     ]
    },
    {
     "name": "stderr",
     "output_type": "stream",
     "text": [
      "2018-02-23 00:58:54,680 INFO     [PyNN] --- Projection[Inhibitory cells→Inhibitory cells].__init__() --- (/opt/conda/lib/python3.5/site-packages/pyNN/neuron/projections.py[49]:__init__)\n",
      "2018-02-23 00:58:54,685 DEBUG    [PyNN] Connecting expoisson→Excitatory cells using a connection map (/opt/conda/lib/python3.5/site-packages/pyNN/connectors.py[247]:_connect_with_map)\n",
      "2018-02-23 00:58:54,686 DEBUG    [PyNN] Parallel-safe iteration. (/opt/conda/lib/python3.5/site-packages/pyNN/connectors.py[172]:_standard_connect)\n",
      "2018-02-23 00:58:54,988 INFO     [PyNN] --- Projection[expoisson→Excitatory cells].__init__() --- (/opt/conda/lib/python3.5/site-packages/pyNN/neuron/projections.py[49]:__init__)\n",
      "2018-02-23 00:58:54,991 DEBUG    [PyNN] Connecting expoisson→Inhibitory cells using a connection map (/opt/conda/lib/python3.5/site-packages/pyNN/connectors.py[247]:_connect_with_map)\n",
      "2018-02-23 00:58:54,992 DEBUG    [PyNN] Parallel-safe iteration. (/opt/conda/lib/python3.5/site-packages/pyNN/connectors.py[172]:_standard_connect)\n",
      "2018-02-23 00:58:55,027 INFO     [PyNN] --- Projection[expoisson→Inhibitory cells].__init__() --- (/opt/conda/lib/python3.5/site-packages/pyNN/neuron/projections.py[49]:__init__)\n",
      "2018-02-23 00:58:55,033 DEBUG    [PyNN] Connecting Excitatory cells→All Cells using a connection map (/opt/conda/lib/python3.5/site-packages/pyNN/connectors.py[247]:_connect_with_map)\n",
      "2018-02-23 00:58:55,034 DEBUG    [PyNN] Parallel-safe iteration. (/opt/conda/lib/python3.5/site-packages/pyNN/connectors.py[172]:_standard_connect)\n"
     ]
    },
    {
     "name": "stdout",
     "output_type": "stream",
     "text": [
      "[ ################## ] 100%                                                                                                                                                                                            \r"
     ]
    },
    {
     "name": "stderr",
     "output_type": "stream",
     "text": [
      "2018-02-23 00:59:06,769 INFO     [PyNN] --- Projection[Excitatory cells→All Cells].__init__() --- (/opt/conda/lib/python3.5/site-packages/pyNN/neuron/projections.py[49]:__init__)\n",
      "2018-02-23 00:59:06,777 DEBUG    [PyNN] Connecting Inhibitory cells→All Cells using a connection map (/opt/conda/lib/python3.5/site-packages/pyNN/connectors.py[247]:_connect_with_map)\n",
      "2018-02-23 00:59:06,779 DEBUG    [PyNN] Parallel-safe iteration. (/opt/conda/lib/python3.5/site-packages/pyNN/connectors.py[172]:_standard_connect)\n"
     ]
    },
    {
     "name": "stdout",
     "output_type": "stream",
     "text": [
      "[ ################## ] 100%                                                                                                                        \r"
     ]
    },
    {
     "name": "stderr",
     "output_type": "stream",
     "text": [
      "2018-02-23 00:59:17,083 INFO     [PyNN] --- Projection[Inhibitory cells→All Cells].__init__() --- (/opt/conda/lib/python3.5/site-packages/pyNN/neuron/projections.py[49]:__init__)\n",
      "2018-02-23 00:59:17,087 DEBUG    [PyNN] Connecting expoisson→All Cells using a connection map (/opt/conda/lib/python3.5/site-packages/pyNN/connectors.py[247]:_connect_with_map)\n",
      "2018-02-23 00:59:17,088 DEBUG    [PyNN] Parallel-safe iteration. (/opt/conda/lib/python3.5/site-packages/pyNN/connectors.py[172]:_standard_connect)\n",
      "2018-02-23 00:59:17,249 INFO     [PyNN] --- Projection[expoisson→All Cells].__init__() --- (/opt/conda/lib/python3.5/site-packages/pyNN/neuron/projections.py[49]:__init__)\n",
      "2018-02-23 00:59:17,249 DEBUG    [PyNN] All Cells.record('spikes') (/opt/conda/lib/python3.5/site-packages/pyNN/common/populations.py[441]:record)\n"
     ]
    },
    {
     "name": "stdout",
     "output_type": "stream",
     "text": [
      "0 Setting up recording...\n"
     ]
    },
    {
     "name": "stderr",
     "output_type": "stream",
     "text": [
      "2018-02-23 00:59:17,250 DEBUG    [PyNN] Recorder.record(<4000 cells>) (/opt/conda/lib/python3.5/site-packages/pyNN/recording/__init__.py[222]:record)\n",
      "2018-02-23 00:59:17,262 DEBUG    [PyNN] view of 'Excitatory cells' with size 2.record('v') (/opt/conda/lib/python3.5/site-packages/pyNN/common/populations.py[441]:record)\n",
      "2018-02-23 00:59:17,262 DEBUG    [PyNN] Recorder.record(<2 cells>) (/opt/conda/lib/python3.5/site-packages/pyNN/recording/__init__.py[222]:record)\n",
      "2018-02-23 00:59:17,298 INFO     [PyNN] Initializing membrane potential of 4000 cells and 1 Populations. (/opt/conda/lib/python3.5/site-packages/pyNN/neuron/simulator.py[140]:_initialize)\n"
     ]
    },
    {
     "name": "stdout",
     "output_type": "stream",
     "text": [
      "0 Running simulation...\n"
     ]
    },
    {
     "name": "stderr",
     "output_type": "stream",
     "text": [
      "2018-02-23 00:59:17,429 DEBUG    [PyNN] default_maxstep on host #0 = 10 (/opt/conda/lib/python3.5/site-packages/pyNN/neuron/simulator.py[241]:_pre_run)\n",
      "2018-02-23 00:59:17,430 DEBUG    [PyNN] local_minimum_delay on host #0 = 10 (/opt/conda/lib/python3.5/site-packages/pyNN/neuron/simulator.py[242]:_pre_run)\n"
     ]
    },
    {
     "name": "stdout",
     "output_type": "stream",
     "text": [
      "0 Writing data to file...\n",
      "\n",
      "--- Vogels-Abbott Network Simulation ---\n",
      "Nodes                  : 1\n",
      "Number of Neurons      : 4000\n",
      "Number of Synapses     : 255683 e→e,i  63780 i→e,i\n",
      "Excitatory conductance : 4 nS\n",
      "Inhibitory conductance : 51 nS\n",
      "Excitatory rate        : 1.02051 Hz\n",
      "Inhibitory rate        : 1.06805 Hz\n",
      "Build time             : 42.9829 s\n",
      "Simulation time        : 211.236 s\n",
      "Writing time           : 0.0251548 s\n"
     ]
    },
    {
     "name": "stderr",
     "output_type": "stream",
     "text": [
      "2018-02-23 01:02:55,239 DEBUG    [PyNN] 0 **** ids=[   0    1    2 ..., 3997 3998 3999], channels=<neo.core.channelindex.ChannelIndex object at 0x7f38fa61fef0> (/opt/conda/lib/python3.5/site-packages/pyNN/recording/__init__.py[287]:_get_current_segment)\n",
      "2018-02-23 01:03:57,205 DEBUG    [PyNN] 0 **** ids=[   0    1    2 ..., 3997 3998 3999], channels=<neo.core.channelindex.ChannelIndex object at 0x7f38907b1ba8> (/opt/conda/lib/python3.5/site-packages/pyNN/recording/__init__.py[287]:_get_current_segment)\n",
      "2018-02-23 01:04:04,567 DEBUG    [PyNN] 0 **** ids=[   0    1    2 ..., 3997 3998 3999], channels=<neo.core.channelindex.ChannelIndex object at 0x7f3880c724e0> (/opt/conda/lib/python3.5/site-packages/pyNN/recording/__init__.py[287]:_get_current_segment)\n"
     ]
    }
   ],
   "source": [
    "from pyNN.utility import plotting\n",
    "\n",
    "#try:\n",
    "#    with open('neuronal_data.p','wb') as f:\n",
    "#        data = pickle.load(f)\n",
    "#except:\n",
    "if False:\n",
    "    pass\n",
    "else:\n",
    "    from neuronunit.tests import dynamics\n",
    "\n",
    "    import socket\n",
    "    from math import *\n",
    "    from pyNN.utility import get_simulator, Timer, ProgressBar, init_logging, normalized_filename\n",
    "    from pyNN.random import NumpyRNG, RandomDistribution\n",
    "    import pyNN\n",
    "    import pyNN.neuron as sim\n",
    "    #import pyNN.spiNNaker as sim\n",
    "    import socket\n",
    "\n",
    "\n",
    "    # === Configure the simulator ================================================\n",
    "    #sim = pyNN.neuron\n",
    "\n",
    "    use_csa = False\n",
    "    debug = True\n",
    "    #if use_csa:\n",
    "    #    import csa\n",
    "\n",
    "    if debug:\n",
    "        init_logging(None, debug=True)\n",
    "\n",
    "    timer = Timer()\n",
    "\n",
    "    # === Define parameters ========================================================\n",
    "\n",
    "    threads  = 1\n",
    "    rngseed  = 98765\n",
    "    parallel_safe = True\n",
    "\n",
    "    n        = 4000  # number of cells\n",
    "    r_ei     = 4.0   # number of excitatory cells:number of inhibitory cells\n",
    "    pconn    = 0.02  # connection probability\n",
    "    stim_dur = 50.   # (ms) duration of random stimulation\n",
    "    rate     = 100.  # (Hz) frequency of the random stimulation\n",
    "\n",
    "    dt       = 0.1   # (ms) simulation timestep\n",
    "    tstop    = 3490  # (ms) simulaton duration\n",
    "    delay    = 0.2\n",
    "\n",
    "    # Cell parameters\n",
    "    area     = 20000. # (µm²)\n",
    "    tau_m    = 20.    # (ms)\n",
    "    cm       = 1.     # (µF/cm²)\n",
    "    g_leak   = 5e-5   # (S/cm²)\n",
    "    #benchmark = \"CUBA\"\n",
    "    benchmark = \"COBA\"\n",
    "\n",
    "    if benchmark == \"COBA\":\n",
    "        E_leak   = -60.  # (mV)\n",
    "    elif benchmark == \"CUBA\":\n",
    "        E_leak   = -49.  # (mV)\n",
    "    v_thresh = -50.   # (mV)\n",
    "    v_reset  = -60.   # (mV)\n",
    "    t_refrac = 5.     # (ms) (clamped at v_reset)\n",
    "    v_mean   = -60.   # (mV) 'mean' membrane potential, for calculating CUBA weights\n",
    "    tau_exc  = 5.     # (ms)\n",
    "    tau_inh  = 10.    # (ms)\n",
    "\n",
    "    # Synapse parameters\n",
    "    if benchmark == \"COBA\":\n",
    "        Gexc = 4.     # (nS)\n",
    "        Ginh = 51.    # (nS)\n",
    "    elif benchmark == \"CUBA\":\n",
    "        Gexc = 0.27   # (nS) #Those weights should be similar to the COBA weights\n",
    "        Ginh = 4.5    # (nS) # but the delpolarising drift should be taken into account\n",
    "    Erev_exc = 0.     # (mV)\n",
    "    Erev_inh = -80.   # (mV)\n",
    "\n",
    "    ### what is the synaptic delay???\n",
    "\n",
    "    # === Calculate derived parameters =============================================\n",
    "\n",
    "    area  = area*1e-8                     # convert to cm²\n",
    "    cm    = cm*area*1000                  # convert to nF\n",
    "    Rm    = 1e-6/(g_leak*area)            # membrane resistance in MΩ\n",
    "    assert tau_m == cm*Rm                 # just to check\n",
    "    n_exc = int(round((n*r_ei/(1+r_ei)))) # number of excitatory cells\n",
    "    n_inh = n - n_exc                     # number of inhibitory cells\n",
    "    if benchmark == \"COBA\":\n",
    "        celltype = sim.IF_cond_exp\n",
    "        w_exc    = Gexc*2.4e-10             # We convert conductances to uS\n",
    "        w_inh    = Ginh*4e-10\n",
    "    elif benchmark == \"CUBA\":\n",
    "        celltype = sim.IF_curr_exp\n",
    "        w_exc = 2.4e-10*Gexc*(Erev_exc - v_mean)  # (nA) weight of excitatory synapses\n",
    "        w_inh = 4e-10*Ginh*(Erev_inh - v_mean)  # (nA)\n",
    "        assert w_exc > 0; assert w_inh < 0\n",
    "\n",
    "    # === Build the network ========================================================\n",
    "\n",
    "    extra = {'threads' : threads,\n",
    "             'filename': \"va_%s.xml\" % benchmark,\n",
    "             'label': 'VA'}\n",
    "    #if simulator == \"neuroml\":\n",
    "    #    extra[\"file\"] = \"VAbenchmarks.xml\"\n",
    "\n",
    "    node_id = sim.setup(timestep=dt, min_delay=delay, max_delay=1.0, **extra)\n",
    "    np = sim.num_processes()\n",
    "\n",
    "    host_name = socket.gethostname()\n",
    "    print(\"Host #%d is on %s\" % (node_id + 1, host_name))\n",
    "\n",
    "    print(\"%s Initialising the simulator with %d thread(s)...\" % (node_id, extra['threads']))\n",
    "\n",
    "    cell_params = {\n",
    "        'tau_m'      : tau_m,    'tau_syn_E'  : tau_exc,  'tau_syn_I'  : tau_inh,\n",
    "        'v_rest'     : E_leak,   'v_reset'    : v_reset,  'v_thresh'   : v_thresh,\n",
    "        'cm'         : cm,       'tau_refrac' : t_refrac}\n",
    "\n",
    "    if (benchmark == \"COBA\"):\n",
    "        cell_params['e_rev_E'] = Erev_exc\n",
    "        cell_params['e_rev_I'] = Erev_inh\n",
    "\n",
    "    timer.start()\n",
    "\n",
    "    print(\"%s Creating cell populations...\" % node_id)\n",
    "    use_views = True\n",
    "    if use_views:\n",
    "        # create a single population of neurons, and then use population views to define\n",
    "        # excitatory and inhibitory sub-populations\n",
    "        all_cells = sim.Population(n_exc + n_inh, celltype(**cell_params), label=\"All Cells\")\n",
    "        exc_cells = all_cells[:n_exc]\n",
    "        exc_cells.label = \"Excitatory cells\"\n",
    "        inh_cells = all_cells[n_exc:]\n",
    "        inh_cells.label = \"Inhibitory cells\"\n",
    "    else:\n",
    "        # create separate populations for excitatory and inhibitory neurons\n",
    "        exc_cells = sim.Population(n_exc, celltype(**cell_params), label=\"Excitatory_Cells\")\n",
    "        inh_cells = sim.Population(n_inh, celltype(**cell_params), label=\"Inhibitory_Cells\")\n",
    "        if use_assembly:\n",
    "            # group the populations into an assembly\n",
    "            all_cells = exc_cells + inh_cells\n",
    "\n",
    "    if benchmark == \"COBA\":\n",
    "        ext_stim = sim.Population(20, sim.SpikeSourcePoisson(rate=rate, duration=stim_dur), label=\"expoisson\")\n",
    "        rconn = 0.01\n",
    "        ext_conn = sim.FixedProbabilityConnector(rconn)\n",
    "        ext_syn = sim.StaticSynapse(weight=0.1)\n",
    "\n",
    "    print(\"%s Initialising membrane potential to random values...\" % node_id)\n",
    "    rng = NumpyRNG(seed=rngseed, parallel_safe=parallel_safe)\n",
    "    uniformDistr = RandomDistribution('uniform', low=v_reset, high=v_thresh, rng=rng)\n",
    "    all_cells.record(['v','spikes'])  # , 'u'])\n",
    "\n",
    "    if use_views:\n",
    "        all_cells.initialize(v=uniformDistr)\n",
    "    else:\n",
    "        exc_cells.initialize(v=uniformDistr)-po\n",
    "        inh_cells.initialize(v=uniformDistr)\n",
    "\n",
    "    print(\"%s Connecting populations...\" % node_id)\n",
    "    progress_bar = ProgressBar(width=20)\n",
    "    if use_csa:\n",
    "        connector = sim.CSAConnector(csa.cset(csa.random(pconn)))\n",
    "    else:\n",
    "        connector = sim.FixedProbabilityConnector(pconn, rng=rng, callback=progress_bar)\n",
    "    exc_syn = sim.StaticSynapse(weight=w_exc, delay=delay)\n",
    "    inh_syn = sim.StaticSynapse(weight=w_inh, delay=delay)\n",
    "\n",
    "    import pickle\n",
    "    with open('unit_test/connections.p','rb') as f:\n",
    "       [ post_inh,pre_inh,pre_exc,post_exc] = pickle.load(f)\n",
    "    pre_inh = inh_cells[pre_inh]\n",
    "    post_inh = all_cells[post_inh]\n",
    "    pre_exc = exc_cells[pre_exc]\n",
    "    post_exc = all_cells[post_exc]\n",
    "\n",
    "    connections = {}\n",
    "\n",
    "    #connections = {}\n",
    "    #connections['exc'] = sim.Projection(pre_inh, post_inh, connector, exc_syn, receptor_type='excitatory')\n",
    "    #connections['inh'] = sim.Projection(pre_exc, post_exc, connector, inh_syn, receptor_type='inhibitory')\n",
    "    \n",
    "    if (benchmark == \"COBA\"):\n",
    "        connections['ext'] = sim.Projection(ext_stim, all_cells, ext_conn, ext_syn, receptor_type='excitatory')\n",
    "\n",
    "        connections['e2e'] = sim.Projection(exc_cells, exc_cells, connector, exc_syn, receptor_type='excitatory')\n",
    "        connections['e2i'] = sim.Projection(exc_cells, inh_cells, connector, exc_syn, receptor_type='excitatory')\n",
    "        connections['i2e'] = sim.Projection(inh_cells, exc_cells, connector, inh_syn, receptor_type='inhibitory')\n",
    "        connections['i2i'] = sim.Projection(inh_cells, inh_cells, connector, inh_syn, receptor_type='inhibitory')\n",
    "\n",
    "\n",
    "\n",
    "    if (benchmark == \"COBA\"):\n",
    "        connections['ext2e'] = sim.Projection(ext_stim, exc_cells, ext_conn, ext_syn, receptor_type='excitatory')\n",
    "        connections['ext2i'] = sim.Projection(ext_stim, inh_cells, ext_conn, ext_syn, receptor_type='excitatory')\n",
    "\n",
    "    if use_views or use_assembly:\n",
    "        connections['exc'] = sim.Projection(exc_cells, all_cells, connector, exc_syn, receptor_type='excitatory')\n",
    "        connections['inh'] = sim.Projection(inh_cells, all_cells, connector, inh_syn, receptor_type='inhibitory')\n",
    "        if (benchmark == \"COBA\"):\n",
    "            connections['ext'] = sim.Projection(ext_stim, all_cells, ext_conn, ext_syn, receptor_type='excitatory')\n",
    "    else:\n",
    "        connections['e2e'] = sim.Projection(exc_cells, exc_cells, connector, exc_syn, receptor_type='excitatory')\n",
    "        connections['e2i'] = sim.Projection(exc_cells, inh_cells, connector, exc_syn, receptor_type='excitatory')\n",
    "        connections['i2e'] = sim.Projection(inh_cells, exc_cells, connector, inh_syn, receptor_type='inhibitory')\n",
    "        connections['i2i'] = sim.Projection(inh_cells, inh_cells, connector, inh_syn, receptor_type='inhibitory')\n",
    "        if (benchmark == \"COBA\"):\n",
    "            connections['ext2e'] = sim.Projection(ext_stim, exc_cells, ext_conn, ext_syn, receptor_type='excitatory')\n",
    "            connections['ext2i'] = sim.Projection(ext_stim, inh_cells, ext_conn, ext_syn, receptor_type='excitatory')\n",
    "    \n",
    "    # === Setup recording ==========================================================\n",
    "    print(\"%s Setting up recording...\" % node_id)\n",
    "    if use_views or use_assembly:\n",
    "        all_cells.record('spikes')\n",
    "        exc_cells[[0, 1]].record('v')\n",
    "    else:\n",
    "        exc_cells.record('spikes')\n",
    "        inh_cells.record('spikes')\n",
    "        exc_cells[0, 1].record('v')\n",
    "\n",
    "    buildCPUTime = timer.diff()\n",
    "\n",
    "    # === Save connections to file =================================================\n",
    "\n",
    "    #for prj in connections.keys():\n",
    "        #connections[prj].saveConnections('Results/VAbenchmark_%s_%s_%s_np%d.conn' % (benchmark, prj, options.simulator, np))\n",
    "    saveCPUTime = timer.diff()\n",
    "\n",
    "    # === Run simulation ===========================================================\n",
    "\n",
    "    print(\"%d Running simulation...\" % node_id)\n",
    "\n",
    "    sim.run(tstop)\n",
    "\n",
    "    simCPUTime = timer.diff()\n",
    "\n",
    "    E_count = exc_cells.mean_spike_count()\n",
    "    I_count = inh_cells.mean_spike_count()\n",
    "\n",
    "    # === Print results to file ====================================================\n",
    "\n",
    "    print(\"%d Writing data to file...\" % node_id)\n",
    "\n",
    "    #filename = normalized_filename(\"Results\", \"VAbenchmarks_%s_exc\" % options.benchmark, \"pkl\",\n",
    "    #                               options.simulator, np)\n",
    "    #exc_cells.write_data(filename,\n",
    "    #                     annotations={'script_name': __file__})\n",
    "    #inh_cells.write_data(filename.replace(\"exc\", \"inh\"),\n",
    "    #                     annotations={'script_name': __file__})\n",
    "\n",
    "    writeCPUTime = timer.diff()\n",
    "\n",
    "    if use_views or use_assembly:\n",
    "        connections = \"%d e→e,i  %d i→e,i\" % (connections['exc'].size(),\n",
    "                                              connections['inh'].size())\n",
    "    else:\n",
    "        connections = u\"%d e→e  %d e→i  %d i→e  %d i→i\" % (connections['e2e'].size(),\n",
    "                                                           connections['e2i'].size(),\n",
    "                                                           connections['i2e'].size(),\n",
    "                                                           connections['i2i'].size())\n",
    "\n",
    "    if node_id == 0:\n",
    "        print(\"\\n--- Vogels-Abbott Network Simulation ---\")\n",
    "        print(\"Nodes                  : %d\" % np)\n",
    "        #print(\"Simulation type        : %s\" % options.benchmark)\n",
    "        print(\"Number of Neurons      : %d\" % n)\n",
    "        print(\"Number of Synapses     : %s\" % connections)\n",
    "        print(\"Excitatory conductance : %g nS\" % Gexc)\n",
    "        print(\"Inhibitory conductance : %g nS\" % Ginh)\n",
    "        print(\"Excitatory rate        : %g Hz\" % (E_count * 1000.0 / tstop,))\n",
    "        print(\"Inhibitory rate        : %g Hz\" % (I_count * 1000.0 / tstop,))\n",
    "        print(\"Build time             : %g s\" % buildCPUTime)\n",
    "        #print(\"Save connections time  : %g s\" % saveCPUTime)\n",
    "        print(\"Simulation time        : %g s\" % simCPUTime)\n",
    "        print(\"Writing time           : %g s\" % writeCPUTime)\n",
    "\n",
    "\n",
    "    # === Finished with simulator ==================================================\n",
    "\n",
    "    from pyNN.utility.plotting import Figure, Panel\n",
    "    #figure_filename = filename.replace(\"pkl\", \"png\")\n",
    "    data = all_cells.get_data().segments[0]\n",
    "    v = data.filter(name=\"v\")[0]\n",
    "    #u = data.filter(name=\"u\")[0]\n",
    "    Figure(\n",
    "        Panel(v, ylabel=\"Membrane potential (mV)\", xticks=True,\n",
    "              xlabel=\"Time (ms)\", yticks=True),\n",
    "        #Panel(u, ylabel=\"u variable (units?)\"),\n",
    "        annotations=\"Simulated with\" \n",
    "    )\n",
    "\n",
    "    # === Clean up and quit ========================================================\n",
    "    #spikes = all_cells.get_data(\"spikes\").segments[0]\n",
    "    sim.end()\n",
    "    spikes_in = all_cells.get_data()\n",
    "    from pyNN.utility.plotting import Figure, Panel, comparison_plot, plot_spiketrains\n",
    "\n",
    "\n",
    "    # === Clean up and quit ========================================================\n",
    "    data = all_cells.get_data().segments[0]\n",
    "\n",
    "\n",
    "\n",
    "    #figure_filename = filename.replace(\"pkl\", \"png\")\n",
    "    #data = all_cells.get_data().segments[0]\n",
    "    v = data.filter(name=\"v\")[0]\n",
    "    #u = data.filter(name=\"u\")[0]\n",
    "    Figure(\n",
    "        Panel(v, ylabel=\"Membrane potential (mV)\", xticks=True,\n",
    "              xlabel=\"Time (ms)\", yticks=True),\n",
    "        #Panel(u, ylabel=\"u variable (units?)\"),\n",
    "        annotations=\"Simulated with\" \n",
    "    )\n",
    "    from pyNN.utility import plotting\n",
    "    # Plot spike trains\n",
    "    import matplotlib.pyplot as plt\n",
    "    import numpy as np\n",
    "    def plot_spiketrains(segment):\n",
    "      \"\"\"\n",
    "      Plots the spikes of all the cells in the given segments\n",
    "      \"\"\"\n",
    "      for spiketrain in segment.spiketrains:\n",
    "          y = np.ones_like(spiketrain) * spiketrain.annotations['source_id']\n",
    "          plt.plot(spiketrain, y, '.b')\n",
    "          #plt.ylabel('Neuron number')\n",
    "          plt.xlabel('Spikes')\n",
    "\n",
    "\n",
    "\n",
    "\n",
    "\n",
    "            "
   ]
  },
  {
   "cell_type": "code",
   "execution_count": null,
   "metadata": {
    "collapsed": false
   },
   "outputs": [],
   "source": [
    "#spikes = all_cells.get_data(\"spikes\").segments[0]\n",
    "data = all_cells.get_data().segments[0]\n",
    "plot_spiketrains(data)\n",
    "import pickle\n",
    "#with open('neuronal_data.p','wb') as f:\n",
    "#    pickle.dump(data,f)\n",
    "data = all_cells.get_data().segments[0]\n",
    "with open('membrane_dynamics_balanced_file.p', 'wb') as f:\n",
    "    pickle.dump(data,f)"
   ]
  },
  {
   "cell_type": "code",
   "execution_count": null,
   "metadata": {
    "collapsed": false
   },
   "outputs": [],
   "source": [
    "data.spiketrains\n"
   ]
  },
  {
   "cell_type": "code",
   "execution_count": null,
   "metadata": {
    "collapsed": false
   },
   "outputs": [],
   "source": [
    "\n",
    "nyquist = int(N/2)\n",
    "frequencies = frequencies[:nyquist]\n",
    "magnitude = magnitude[:nyquist]\n",
    "T_max = 0.01\n",
    "window = np.sin(np.pi*times/T_max)**2\n",
    "signal *= [window]\n",
    "\n",
    "\n",
    "\n",
    "df = 1/T_max\n",
    "F_max = 1/dt\n",
    "frequencies = np.arange(0,F_max,df)\n",
    "frequencies[int(N/2):] -= F_max\n",
    "\n",
    "\n",
    "\n",
    "from scipy.signal import periodogram\n",
    "frequencies, power = periodogram(signal,fs=1/dt)\n",
    "def plot_periodogram(frequencies,power):\n",
    "    plt.figure(figsize=(10,4))\n",
    "    plt.plot(frequencies,power)\n",
    "    plt.xlabel('Frequency ($Hz$)')\n",
    "    plt.ylabel('Power ($V^2/Hz$)') # Note that power is now \n",
    "                                   # a normalized density\n",
    "plot_periodogram(frequencies,power)\n"
   ]
  },
  {
   "cell_type": "code",
   "execution_count": null,
   "metadata": {
    "collapsed": true
   },
   "outputs": [],
   "source": [
    "#plot_signal(times,signal)\n",
    "#plot_periodogram(frequencies,power)"
   ]
  },
  {
   "cell_type": "code",
   "execution_count": null,
   "metadata": {
    "collapsed": false
   },
   "outputs": [],
   "source": []
  },
  {
   "cell_type": "code",
   "execution_count": null,
   "metadata": {
    "collapsed": true
   },
   "outputs": [],
   "source": []
  },
  {
   "cell_type": "code",
   "execution_count": null,
   "metadata": {
    "collapsed": true
   },
   "outputs": [],
   "source": []
  },
  {
   "cell_type": "code",
   "execution_count": null,
   "metadata": {
    "collapsed": true
   },
   "outputs": [],
   "source": []
  },
  {
   "cell_type": "code",
   "execution_count": null,
   "metadata": {
    "collapsed": true
   },
   "outputs": [],
   "source": []
  }
 ],
 "metadata": {
  "kernelspec": {
   "display_name": "Python 3",
   "language": "python",
   "name": "python3"
  },
  "language_info": {
   "codemirror_mode": {
    "name": "ipython",
    "version": 3
   },
   "file_extension": ".py",
   "mimetype": "text/x-python",
   "name": "python",
   "nbconvert_exporter": "python",
   "pygments_lexer": "ipython3",
   "version": "3.5.2"
  }
 },
 "nbformat": 4,
 "nbformat_minor": 2
}
