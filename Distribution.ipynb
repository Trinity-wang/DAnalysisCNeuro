{
 "cells": [
  {
   "cell_type": "code",
   "execution_count": 1,
   "metadata": {
    "collapsed": false
   },
   "outputs": [],
   "source": [
    "import networkx as nx\n",
    "import pickle\n",
    "import numpy as np\n",
    "import pandas as pd\n",
    "from scipy import stats, integrate\n",
    "import matplotlib.pyplot as plt\n",
    "import seaborn as sns\n",
    "sns.set(color_codes=True)\n",
    "m = pickle.load( open(\"bool_matrix.p\", \"rb\"))\n",
    "exc = pickle.load( open(\"graph_excit.p\", \"rb\"))\n",
    "inh = pickle.load( open(\"graph_inhib.p\", \"rb\"))\n",
    "\n",
    "assert np.sum(inh) > np.sum(exc)\n",
    "#for i in inh:\n",
    "#    if \n",
    "#    print(i.asInt())\n",
    "#print([float(i) for i in inh])\n"
   ]
  },
  {
   "cell_type": "code",
   "execution_count": 2,
   "metadata": {
    "collapsed": false
   },
   "outputs": [
    {
     "ename": "NameError",
     "evalue": "name 'small_world_ring_inhib' is not defined",
     "output_type": "error",
     "traceback": [
      "\u001b[0;31m---------------------------------------------------------------------------\u001b[0m",
      "\u001b[0;31mNameError\u001b[0m                                 Traceback (most recent call last)",
      "\u001b[0;32m<ipython-input-2-ce53ded8ac8b>\u001b[0m in \u001b[0;36m<module>\u001b[0;34m()\u001b[0m\n\u001b[1;32m     25\u001b[0m \u001b[0;34m\u001b[0m\u001b[0m\n\u001b[1;32m     26\u001b[0m \u001b[0;34m\u001b[0m\u001b[0m\n\u001b[0;32m---> 27\u001b[0;31m \u001b[0msw\u001b[0m \u001b[0;34m=\u001b[0m \u001b[0mnx\u001b[0m\u001b[0;34m.\u001b[0m\u001b[0mbetweenness_centrality\u001b[0m\u001b[0;34m(\u001b[0m\u001b[0msmall_world_ring_inhib\u001b[0m\u001b[0;34m)\u001b[0m\u001b[0;34m\u001b[0m\u001b[0m\n\u001b[0m\u001b[1;32m     28\u001b[0m \u001b[0msexc\u001b[0m \u001b[0;34m=\u001b[0m \u001b[0mnx\u001b[0m\u001b[0;34m.\u001b[0m\u001b[0mbetweenness_centrality\u001b[0m\u001b[0;34m(\u001b[0m\u001b[0mG\u001b[0m\u001b[0;34m)\u001b[0m\u001b[0;34m\u001b[0m\u001b[0m\n\u001b[1;32m     29\u001b[0m \u001b[0msinh\u001b[0m \u001b[0;34m=\u001b[0m \u001b[0mnx\u001b[0m\u001b[0;34m.\u001b[0m\u001b[0mbetweenness_centrality\u001b[0m\u001b[0;34m(\u001b[0m\u001b[0mGi\u001b[0m\u001b[0;34m)\u001b[0m\u001b[0;34m\u001b[0m\u001b[0m\n",
      "\u001b[0;31mNameError\u001b[0m: name 'small_world_ring_inhib' is not defined"
     ]
    }
   ],
   "source": [
    "G = nx.DiGraph(exc)\n",
    "Gi = nx.DiGraph(inh)\n",
    "\n",
    "in_degree = G.in_degree()\n",
    "top_in = sorted(([ (v,k) for k, v in in_degree.items() ]))\n",
    "in_hub = top_in[-1][1]\n",
    "out_degree = G.out_degree()\n",
    "top_out = sorted(([ (v,k) for k, v in out_degree.items() ]))\n",
    "out_hub = top_out[-1][1]\n",
    "mean_out = np.mean(list(out_degree.values()))\n",
    "mean_in = np.mean(list(in_degree.values()))\n",
    "\n",
    "mean_conns = int(mean_in + mean_out/2)\n",
    "\n",
    "k = 2 # number of neighbouig nodes to wire.\n",
    "p = 0.25 # probability of instead wiring to a random long range destination.\n",
    "ne = len(exc)# size of small world network\n",
    "small_world_ring_excit = nx.watts_strogatz_graph(ne,mean_conns,0.25)\n",
    "\n",
    "\n",
    "#k = 2 # number of neighbouring nodes to wire.\n",
    "#p = 0.25 # probability of instead wiring to a random long range destination.\n",
    "#ni = len(inh)# size of small world network\n",
    "#small_world_ring_inhib   = nx.watts_strogatz_graph(ni,mean_conns,0.25)\n",
    "\n",
    "\n",
    "sw = nx.betweenness_centrality(small_world_ring_excit)\n",
    "sexc = nx.betweenness_centrality(G)\n",
    "sinh = nx.betweenness_centrality(Gi)\n",
    "\n",
    "stop_w = sorted(([ (v,k) for k, v in dict(sw).items() ]), reverse=True)\n",
    "stop_exc = sorted(([ (v,k) for k, v in dict(sexc).items() ]), reverse=True)\n",
    "stop_inh = sorted(([ (v,k) for k, v in dict(sinh).items() ]), reverse=True)\n",
    "\n",
    "degree_w = [ f[0] for f in stop_w ]\n",
    "degree_i = [ f[0] for f in stop_inh ]\n",
    "\n",
    "\n",
    "axis_callw = [ i for i in range(0,len(degree_w)) ]\n",
    "degree_t = [ f[0] for f in stop_exc ]\n",
    "axis_callt = [ i for i in range(0,len(degree_t)) ]\n",
    "plt.figure()\n",
    "plt.title('Betweeness centrality')\n",
    "plt.scatter(axis_callr[0:20],degree_w[0:20],label='small world');\n",
    "plt.scatter(axis_callt[0:20],degree_t[0:20],label='excitatory staining reconstruction');\n",
    "plt.scatter(axis_callt[0:20],degree_i[0:20],label='inhibitory staining reconstruction');\n",
    "\n",
    "plt.legend(loc=\"top right\")\n",
    "\n",
    "plt.figure()\n",
    "plt.title('Betweeness centrality')\n",
    "plt.scatter(axis_callr,degree_w,label='small world');\n",
    "plt.scatter(axis_callt,degree_t,label='excitatory staining reconstruction');\n",
    "plt.scatter(axis_callt,degree_i,label='inhibitory staining reconstruction');\n",
    "\n",
    "plt.legend(loc=\"top right\")"
   ]
  },
  {
   "cell_type": "code",
   "execution_count": null,
   "metadata": {
    "collapsed": false
   },
   "outputs": [],
   "source": [
    "\n",
    "Gexc = nx.DiGraph(exc)\n",
    "Ginh = nx.DiGraph(inh)\n",
    "m = nx.DiGraph(m)\n",
    "\n",
    "receivers = m.in_degree()\n",
    "transmitters = m.out_degree()\n",
    "\n",
    "top_r = sorted(([ (v,k) for k, v in dict(receivers).items() ]), reverse=True)\n",
    "top_t = sorted(([ (v,k) for k, v in dict(transmitters).items() ]), reverse=True)\n",
    "#print(top_r)\n",
    "ginh = nx.betweenness_centrality(Ginh)\n",
    "gexc = nx.betweenness_centrality(Gexc)\n",
    "top_inh = sorted(([ (v,k) for k, v in dict(ginh).items() ]), reverse=True)\n",
    "top_exc = sorted(([ (v,k) for k, v in dict(gexc).items() ]), reverse=True)"
   ]
  },
  {
   "cell_type": "code",
   "execution_count": null,
   "metadata": {
    "collapsed": false
   },
   "outputs": [],
   "source": [
    "degree_rec = [ f[0] for f in top_r ]\n",
    "axis_callr = [ i for i in range(0,len(degree_rec)) ]\n",
    "degree_t = [ f[0] for f in top_t ]\n",
    "axis_callt = [ i for i in range(0,len(degree_t)) ]\n",
    "plt.title('in-degree out-degree')\n",
    "plt.scatter(axis_callr,degree_rec,label='input degree per neuron');\n",
    "plt.scatter(axis_callt,degree_t,label='output degree per neuron');\n",
    "plt.legend(loc=\"top right\")"
   ]
  },
  {
   "cell_type": "code",
   "execution_count": null,
   "metadata": {
    "collapsed": false
   },
   "outputs": [],
   "source": []
  },
  {
   "cell_type": "code",
   "execution_count": null,
   "metadata": {
    "collapsed": false
   },
   "outputs": [],
   "source": []
  },
  {
   "cell_type": "code",
   "execution_count": null,
   "metadata": {
    "collapsed": false
   },
   "outputs": [],
   "source": [
    "top10e = top_exc[0:int(len(top_exc)/10)]\n",
    "top50e = top_exc[0:int(len(top_exc)/2)]\n",
    "top10i = top_inh[0:int(len(top_inh)/10)]\n",
    "top50i = top_inh[0:int(len(top_inh)/2)]"
   ]
  },
  {
   "cell_type": "code",
   "execution_count": null,
   "metadata": {
    "collapsed": false
   },
   "outputs": [],
   "source": []
  },
  {
   "cell_type": "code",
   "execution_count": null,
   "metadata": {
    "collapsed": false
   },
   "outputs": [],
   "source": [
    "degree_c10e = [ f[0] for f in top10e ]\n",
    "axis_c10e = [ i for i in range(0,len(degree_c10e)) ]\n",
    "degree_c50e = [ f[0] for f in top50e ]\n",
    "axis_c50e = [ i for i in range(0,len(degree_c50e)) ]\n",
    "degree_c10i = [ f[0] for f in top10i ]\n",
    "axis_c10i = [ i for i in range(0,len(degree_c10i)) ]\n",
    "degree_c50i = [ f[0] for f in top50i ]\n",
    "axis_c50i = [ i for i in range(0,len(degree_c50i)) ]"
   ]
  },
  {
   "cell_type": "code",
   "execution_count": null,
   "metadata": {
    "collapsed": false
   },
   "outputs": [],
   "source": [
    "\n",
    "plt.clf()\n",
    "plt.title('betweenness centrality')\n",
    "plt.scatter(axis_c10e,degree_c10e,label='excitatory syn');\n",
    "plt.scatter(axis_c10i,degree_c10i,label='inhibitory syn');\n",
    "plt.show()"
   ]
  },
  {
   "cell_type": "code",
   "execution_count": null,
   "metadata": {
    "collapsed": false
   },
   "outputs": [],
   "source": [
    "\n",
    "plt.clf()\n",
    "plt.title('betweenness centrality')\n",
    "plt.scatter(axis_c50i,degree_c50i,label='inhibitory syn');\n",
    "plt.scatter(axis_c50e,degree_c50e,label='excitatory syn');\n",
    "plt.legend(loc=\"top right\")\n",
    "plt.show()\n"
   ]
  },
  {
   "cell_type": "code",
   "execution_count": null,
   "metadata": {
    "collapsed": false
   },
   "outputs": [],
   "source": [
    "degree_calle = [ f[0] for f in top_exc ]\n",
    "axis_calle = [ i for i in range(0,len(top_exc)) ]\n",
    "degree_calli = [ f[0] for f in top_inh ]\n",
    "axis_calli = [ i for i in range(0,len(top_inh)) ]\n",
    "plt.scatter(axis_calle,degree_calle,label='excitatory');\n",
    "plt.scatter(axis_calli,degree_calli,label='inhibitory');\n",
    "plt.legend(loc=\"top right\")"
   ]
  },
  {
   "cell_type": "code",
   "execution_count": null,
   "metadata": {
    "collapsed": true
   },
   "outputs": [],
   "source": []
  }
 ],
 "metadata": {
  "kernelspec": {
   "display_name": "Python 3",
   "language": "python",
   "name": "python3"
  },
  "language_info": {
   "codemirror_mode": {
    "name": "ipython",
    "version": 3
   },
   "file_extension": ".py",
   "mimetype": "text/x-python",
   "name": "python",
   "nbconvert_exporter": "python",
   "pygments_lexer": "ipython3",
   "version": "3.5.2"
  }
 },
 "nbformat": 4,
 "nbformat_minor": 2
}
