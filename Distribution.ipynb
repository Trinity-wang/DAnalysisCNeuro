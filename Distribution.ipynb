{
 "cells": [
  {
   "cell_type": "code",
   "execution_count": 1,
   "metadata": {
    "collapsed": false
   },
   "outputs": [],
   "source": [
    "import networkx as nx\n",
    "import pickle\n",
    "import numpy as np\n",
    "import pandas as pd\n",
    "from scipy import stats, integrate\n",
    "import matplotlib.pyplot as plt\n",
    "import seaborn as sns\n",
    "sns.set(color_codes=True)\n",
    "m = pickle.load( open(\"bool_matrix.p\", \"rb\"))\n",
    "exc = pickle.load( open(\"graph_excit.p\", \"rb\"))\n",
    "inh = pickle.load( open(\"graph_inhib.p\", \"rb\"))\n",
    "\n",
    "Gexc = nx.DiGraph(exc)\n",
    "Ginh = nx.DiGraph(inh)\n",
    "m = nx.DiGraph(m)\n",
    "receivers = m.in_degree()\n",
    "transmitters = m.out_degree()\n",
    "\n",
    "top_r = sorted(([ (v,k) for k, v in dict(receivers).items() ]), reverse=True)\n",
    "top_t = sorted(([ (v,k) for k, v in dict(transmitters).items() ]), reverse=True)\n",
    "#print(top_r)\n",
    "ginh = nx.betweenness_centrality(Ginh)\n",
    "gexc = nx.betweenness_centrality(Gexc)\n",
    "top_inh = sorted(([ (v,k) for k, v in dict(ginh).items() ]), reverse=True)\n",
    "top_exc = sorted(([ (v,k) for k, v in dict(gexc).items() ]), reverse=True)"
   ]
  },
  {
   "cell_type": "code",
   "execution_count": 2,
   "metadata": {
    "collapsed": false
   },
   "outputs": [
    {
     "name": "stderr",
     "output_type": "stream",
     "text": [
      "/opt/conda/lib/python3.5/site-packages/matplotlib/legend.py:634: UserWarning: Unrecognized location \"top right\". Falling back on \"best\"; valid locations are\n",
      "\tcenter right\n",
      "\tupper left\n",
      "\tlower center\n",
      "\tbest\n",
      "\tupper right\n",
      "\tupper center\n",
      "\tlower left\n",
      "\tcenter\n",
      "\tright\n",
      "\tcenter left\n",
      "\tlower right\n",
      "\n",
      "  % (loc, '\\n\\t'.join(self.codes)))\n"
     ]
    },
    {
     "data": {
      "text/plain": [
       "<matplotlib.legend.Legend at 0x7f708426a0b8>"
      ]
     },
     "execution_count": 2,
     "metadata": {},
     "output_type": "execute_result"
    },
    {
     "name": "stderr",
     "output_type": "stream",
     "text": [
      "/opt/conda/lib/python3.5/site-packages/matplotlib/font_manager.py:1320: UserWarning: findfont: Font family ['sans-serif'] not found. Falling back to DejaVu Sans\n",
      "  (prop.get_family(), self.defaultFamily[fontext]))\n"
     ]
    },
    {
     "data": {
      "image/png": "[encoded data removed]",
      "text/plain": [
       "<matplotlib.figure.Figure at 0x7f70c42055c0>"
      ]
     },
     "metadata": {},
     "output_type": "display_data"
    }
   ],
   "source": [
    "degree_rec = [ f[0] for f in top_r ]\n",
    "axis_callr = [ i for i in range(0,len(degree_rec)) ]\n",
    "degree_t = [ f[0] for f in top_t ]\n",
    "axis_callt = [ i for i in range(0,len(degree_t)) ]\n",
    "plt.scatter(degree_rec,axis_callr,label='reciever');\n",
    "plt.scatter(degree_t,axis_callt,label='transmitter');\n",
    "plt.legend(loc=\"top right\")"
   ]
  },
  {
   "cell_type": "code",
   "execution_count": null,
   "metadata": {
    "collapsed": false
   },
   "outputs": [],
   "source": []
  },
  {
   "cell_type": "code",
   "execution_count": null,
   "metadata": {
    "collapsed": false
   },
   "outputs": [],
   "source": []
  },
  {
   "cell_type": "code",
   "execution_count": 3,
   "metadata": {
    "collapsed": false
   },
   "outputs": [],
   "source": [
    "top10e = top_exc[0:int(len(top_exc)/10)]\n",
    "top50e = top_exc[0:int(len(top_exc)/2)]\n",
    "top10i = top_inh[0:int(len(top_inh)/10)]\n",
    "top50i = top_inh[0:int(len(top_inh)/2)]"
   ]
  },
  {
   "cell_type": "code",
   "execution_count": null,
   "metadata": {
    "collapsed": false
   },
   "outputs": [],
   "source": []
  },
  {
   "cell_type": "code",
   "execution_count": 4,
   "metadata": {
    "collapsed": false
   },
   "outputs": [],
   "source": [
    "degree_c10e = [ f[0] for f in top10e ]\n",
    "axis_c10e = [ i for i in range(0,len(degree_c10e)) ]\n",
    "degree_c50e = [ f[0] for f in top50e ]\n",
    "axis_c50e = [ i for i in range(0,len(degree_c50e)) ]\n",
    "degree_c10i = [ f[0] for f in top10i ]\n",
    "axis_c10i = [ i for i in range(0,len(degree_c10i)) ]\n",
    "degree_c50i = [ f[0] for f in top50i ]\n",
    "axis_c50i = [ i for i in range(0,len(degree_c50i)) ]"
   ]
  },
  {
   "cell_type": "code",
   "execution_count": 5,
   "metadata": {
    "collapsed": false
   },
   "outputs": [
    {
     "name": "stderr",
     "output_type": "stream",
     "text": [
      "/opt/conda/lib/python3.5/site-packages/matplotlib/font_manager.py:1320: UserWarning: findfont: Font family ['sans-serif'] not found. Falling back to DejaVu Sans\n",
      "  (prop.get_family(), self.defaultFamily[fontext]))\n"
     ]
    },
    {
     "data": {
      "image/png": "[encoded data removed]",
      "text/plain": [
       "<matplotlib.figure.Figure at 0x7f70c41e6da0>"
      ]
     },
     "metadata": {},
     "output_type": "display_data"
    }
   ],
   "source": [
    "\n",
    "plt.clf()\n",
    "plt.scatter(axis_c10e,degree_c10e,label='excitatory');\n",
    "plt.scatter(axis_c10i,degree_c10i,label='inhibitory');\n",
    "plt.show()"
   ]
  },
  {
   "cell_type": "code",
   "execution_count": 6,
   "metadata": {
    "collapsed": false
   },
   "outputs": [
    {
     "name": "stderr",
     "output_type": "stream",
     "text": [
      "/opt/conda/lib/python3.5/site-packages/matplotlib/legend.py:634: UserWarning: Unrecognized location \"top right\". Falling back on \"best\"; valid locations are\n",
      "\tcenter right\n",
      "\tupper left\n",
      "\tlower center\n",
      "\tbest\n",
      "\tupper right\n",
      "\tupper center\n",
      "\tlower left\n",
      "\tcenter\n",
      "\tright\n",
      "\tcenter left\n",
      "\tlower right\n",
      "\n",
      "  % (loc, '\\n\\t'.join(self.codes)))\n",
      "/opt/conda/lib/python3.5/site-packages/matplotlib/font_manager.py:1320: UserWarning: findfont: Font family ['sans-serif'] not found. Falling back to DejaVu Sans\n",
      "  (prop.get_family(), self.defaultFamily[fontext]))\n"
     ]
    },
    {
     "data": {
      "image/png": "[encoded data removed]",
      "text/plain": [
       "<matplotlib.figure.Figure at 0x7f70841f5b00>"
      ]
     },
     "metadata": {},
     "output_type": "display_data"
    }
   ],
   "source": [
    "\n",
    "plt.clf()\n",
    "plt.scatter(axis_c50i,degree_c50i,label='inhibitory');\n",
    "plt.scatter(axis_c50e,degree_c50e,label='excitatory');\n",
    "plt.legend(loc=\"top right\")\n",
    "plt.show()\n"
   ]
  },
  {
   "cell_type": "code",
   "execution_count": 7,
   "metadata": {
    "collapsed": false
   },
   "outputs": [
    {
     "name": "stderr",
     "output_type": "stream",
     "text": [
      "/opt/conda/lib/python3.5/site-packages/matplotlib/legend.py:634: UserWarning: Unrecognized location \"top right\". Falling back on \"best\"; valid locations are\n",
      "\tcenter right\n",
      "\tupper left\n",
      "\tlower center\n",
      "\tbest\n",
      "\tupper right\n",
      "\tupper center\n",
      "\tlower left\n",
      "\tcenter\n",
      "\tright\n",
      "\tcenter left\n",
      "\tlower right\n",
      "\n",
      "  % (loc, '\\n\\t'.join(self.codes)))\n"
     ]
    },
    {
     "data": {
      "text/plain": [
       "<matplotlib.legend.Legend at 0x7f708419c7b8>"
      ]
     },
     "execution_count": 7,
     "metadata": {},
     "output_type": "execute_result"
    },
    {
     "name": "stderr",
     "output_type": "stream",
     "text": [
      "/opt/conda/lib/python3.5/site-packages/matplotlib/font_manager.py:1320: UserWarning: findfont: Font family ['sans-serif'] not found. Falling back to DejaVu Sans\n",
      "  (prop.get_family(), self.defaultFamily[fontext]))\n"
     ]
    },
    {
     "data": {
      "image/png": "[encoded data removed]",
      "text/plain": [
       "<matplotlib.figure.Figure at 0x7f70841e0320>"
      ]
     },
     "metadata": {},
     "output_type": "display_data"
    }
   ],
   "source": [
    "degree_calle = [ f[0] for f in top_exc ]\n",
    "axis_calle = [ i for i in range(0,len(top_exc)) ]\n",
    "degree_calli = [ f[0] for f in top_inh ]\n",
    "axis_calli = [ i for i in range(0,len(top_inh)) ]\n",
    "plt.scatter(axis_calle,degree_calle,label='excitatory');\n",
    "plt.scatter(axis_calli,degree_calli,label='inhibitory');\n",
    "plt.legend(loc=\"top right\")"
   ]
  },
  {
   "cell_type": "code",
   "execution_count": null,
   "metadata": {
    "collapsed": true
   },
   "outputs": [],
   "source": []
  }
 ],
 "metadata": {
  "kernelspec": {
   "display_name": "Python 3",
   "language": "python",
   "name": "python3"
  },
  "language_info": {
   "codemirror_mode": {
    "name": "ipython",
    "version": 3
   },
   "file_extension": ".py",
   "mimetype": "text/x-python",
   "name": "python",
   "nbconvert_exporter": "python",
   "pygments_lexer": "ipython3",
   "version": "3.5.2"
  }
 },
 "nbformat": 4,
 "nbformat_minor": 2
}
