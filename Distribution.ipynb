{
 "cells": [
  {
   "cell_type": "code",
   "execution_count": 8,
   "metadata": {
    "collapsed": false
   },
   "outputs": [
    {
     "name": "stdout",
     "output_type": "stream",
     "text": [
      "[(46, 86), (46, 61), (46, 54), (46, 53), (46, 50), (46, 47), (42, 78), (42, 77), (42, 72), (41, 57), (40, 49), (38, 59), (37, 75), (37, 64), (37, 63), (37, 56), (35, 81), (34, 76), (34, 66), (34, 65), (33, 84), (33, 82), (33, 17), (32, 27), (32, 6), (31, 104), (31, 23), (31, 16), (31, 15), (31, 12), (31, 8), (31, 7), (31, 5), (31, 3), (30, 68), (30, 62), (30, 44), (30, 24), (30, 21), (30, 0), (29, 117), (29, 110), (29, 105), (29, 96), (29, 18), (29, 4), (28, 119), (28, 102), (28, 99), (27, 108), (27, 55), (27, 37), (27, 35), (27, 25), (26, 120), (26, 118), (26, 116), (26, 109), (26, 103), (26, 101), (26, 100), (26, 98), (26, 97), (26, 95), (26, 92), (25, 52), (25, 29), (24, 83), (24, 80), (24, 79), (24, 70), (24, 69), (24, 60), (24, 51), (24, 28), (23, 85), (23, 74), (23, 73), (23, 71), (23, 1), (22, 34), (22, 32), (22, 31), (22, 30), (20, 106), (20, 20), (20, 10), (19, 107), (19, 19), (18, 58), (18, 48), (18, 33), (17, 113), (17, 90), (17, 67), (17, 38), (17, 9), (16, 115), (16, 114), (16, 112), (16, 111), (16, 94), (16, 93), (16, 91), (16, 87), (16, 39), (15, 88), (15, 14), (15, 13), (15, 2), (14, 89), (14, 11), (13, 40), (13, 36), (13, 22), (12, 41), (12, 26), (9, 42), (8, 43), (7, 46), (7, 45), (0, 121)]\n"
     ]
    }
   ],
   "source": [
    "import networkx as nx\n",
    "import pickle\n",
    "import numpy as np\n",
    "import pandas as pd\n",
    "from scipy import stats, integrate\n",
    "import matplotlib.pyplot as plt\n",
    "import seaborn as sns\n",
    "sns.set(color_codes=True)\n",
    "m = pickle.load( open(\"bool_matrix.p\", \"rb\"))\n",
    "exc = pickle.load( open(\"graph_excit.p\", \"rb\"))\n",
    "inh = pickle.load( open(\"graph_inhib.p\", \"rb\"))\n",
    "\n",
    "Gexc = nx.DiGraph(exc)\n",
    "Ginh = nx.DiGraph(inh)\n",
    "m = nx.DiGraph(m)\n",
    "receivers = m.in_degree()\n",
    "transmitters = m.out_degree()\n",
    "\n",
    "top_r = sorted(([ (v,k) for k, v in dict(receivers).items() ]), reverse=True)\n",
    "top_t = sorted(([ (v,k) for k, v in dict(transmitters).items() ]), reverse=True)\n",
    "#print(top_r)\n",
    "ginh = nx.betweenness_centrality(Ginh)\n",
    "gexc = nx.betweenness_centrality(Gexc)\n",
    "top_inh = sorted(([ (v,k) for k, v in dict(ginh).items() ]), reverse=True)\n",
    "top_exc = sorted(([ (v,k) for k, v in dict(gexc).items() ]), reverse=True)"
   ]
  },
  {
   "cell_type": "code",
   "execution_count": 11,
   "metadata": {
    "collapsed": false
   },
   "outputs": [
    {
     "name": "stderr",
     "output_type": "stream",
     "text": [
      "/opt/conda/lib/python3.5/site-packages/matplotlib/legend.py:634: UserWarning: Unrecognized location \"top right\". Falling back on \"best\"; valid locations are\n",
      "\tcenter right\n",
      "\tlower center\n",
      "\tlower right\n",
      "\tcenter left\n",
      "\tupper right\n",
      "\tright\n",
      "\tbest\n",
      "\tupper center\n",
      "\tupper left\n",
      "\tcenter\n",
      "\tlower left\n",
      "\n",
      "  % (loc, '\\n\\t'.join(self.codes)))\n"
     ]
    },
    {
     "data": {
      "text/plain": [
       "<matplotlib.legend.Legend at 0x7f41156edfd0>"
      ]
     },
     "execution_count": 11,
     "metadata": {},
     "output_type": "execute_result"
    },
    {
     "name": "stderr",
     "output_type": "stream",
     "text": [
      "/opt/conda/lib/python3.5/site-packages/matplotlib/font_manager.py:1320: UserWarning: findfont: Font family ['sans-serif'] not found. Falling back to DejaVu Sans\n",
      "  (prop.get_family(), self.defaultFamily[fontext]))\n"
     ]
    },
    {
     "data": {
      "image/png": "[encoded data removed]",
      "text/plain": [
       "<matplotlib.figure.Figure at 0x7f41156b87f0>"
      ]
     },
     "metadata": {},
     "output_type": "display_data"
    }
   ],
   "source": [
    "degree_rec = [ f[0] for f in top_r ]\n",
    "axis_callr = [ i for i in range(0,len(degree_rec)) ]\n",
    "degree_t = [ f[0] for f in top_t ]\n",
    "axis_callt = [ i for i in range(0,len(degree_t)) ]\n",
    "plt.scatter(degree_rec,axis_callr,label='reciever');\n",
    "plt.scatter(degree_t,axis_callt,label='transmitter');\n",
    "plt.legend(loc=\"top right\")"
   ]
  },
  {
   "cell_type": "code",
   "execution_count": null,
   "metadata": {
    "collapsed": false
   },
   "outputs": [],
   "source": []
  },
  {
   "cell_type": "code",
   "execution_count": null,
   "metadata": {
    "collapsed": false
   },
   "outputs": [],
   "source": []
  },
  {
   "cell_type": "code",
   "execution_count": null,
   "metadata": {
    "collapsed": false
   },
   "outputs": [],
   "source": [
    "top10e = top_exc[0:int(len(top_exc)/10)]\n",
    "top50e = top_exc[0:int(len(top_exc)/2)]\n",
    "top10i = top_inh[0:int(len(top_inh)/10)]\n",
    "top50i = top_inh[0:int(len(top_inh)/2)]"
   ]
  },
  {
   "cell_type": "code",
   "execution_count": null,
   "metadata": {
    "collapsed": false
   },
   "outputs": [],
   "source": []
  },
  {
   "cell_type": "code",
   "execution_count": null,
   "metadata": {
    "collapsed": false
   },
   "outputs": [],
   "source": [
    "degree_c10e = [ f[0] for f in top10e ]\n",
    "axis_c10e = [ i for i in range(0,len(degree_c10e)) ]\n",
    "degree_c50e = [ f[0] for f in top50e ]\n",
    "axis_c50e = [ i for i in range(0,len(degree_c50e)) ]\n",
    "degree_c10i = [ f[0] for f in top10i ]\n",
    "axis_c10i = [ i for i in range(0,len(degree_c10i)) ]\n",
    "degree_c50i = [ f[0] for f in top50i ]\n",
    "axis_c50i = [ i for i in range(0,len(degree_c50i)) ]"
   ]
  },
  {
   "cell_type": "code",
   "execution_count": null,
   "metadata": {
    "collapsed": false
   },
   "outputs": [],
   "source": [
    "\n",
    "plt.clf()\n",
    "plt.scatter(axis_c10e,degree_c10e,label='excitatory');\n",
    "plt.scatter(axis_c10i,degree_c10i,label='inhibitory');\n",
    "plt.show()"
   ]
  },
  {
   "cell_type": "code",
   "execution_count": null,
   "metadata": {
    "collapsed": false
   },
   "outputs": [],
   "source": [
    "\n",
    "plt.clf()\n",
    "plt.scatter(axis_c50i,degree_c50i,label='inhibitory');\n",
    "plt.scatter(axis_c50e,degree_c50e,label='excitatory');\n",
    "plt.legend(loc=\"top right\")\n",
    "plt.show()\n"
   ]
  },
  {
   "cell_type": "code",
   "execution_count": null,
   "metadata": {
    "collapsed": false
   },
   "outputs": [],
   "source": [
    "degree_calle = [ f[0] for f in top_exc ]\n",
    "axis_calle = [ i for i in range(0,len(top_exc)) ]\n",
    "degree_calli = [ f[0] for f in top_inh ]\n",
    "axis_calli = [ i for i in range(0,len(top_inh)) ]\n",
    "plt.scatter(axis_calle,degree_calle,label='excitatory');\n",
    "plt.scatter(axis_calli,degree_calli,label='inhibitory');\n",
    "plt.legend(loc=\"top right\")"
   ]
  },
  {
   "cell_type": "code",
   "execution_count": null,
   "metadata": {
    "collapsed": true
   },
   "outputs": [],
   "source": []
  }
 ],
 "metadata": {
  "kernelspec": {
   "display_name": "Python 3",
   "language": "python",
   "name": "python3"
  },
  "language_info": {
   "codemirror_mode": {
    "name": "ipython",
    "version": 3
   },
   "file_extension": ".py",
   "mimetype": "text/x-python",
   "name": "python",
   "nbconvert_exporter": "python",
   "pygments_lexer": "ipython3",
   "version": "3.5.2"
  }
 },
 "nbformat": 4,
 "nbformat_minor": 2
}
