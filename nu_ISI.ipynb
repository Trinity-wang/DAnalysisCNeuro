{
 "cells": [
  {
   "cell_type": "code",
   "execution_count": 2,
   "metadata": {
    "collapsed": false
   },
   "outputs": [
    {
     "ename": "AttributeError",
     "evalue": "type object 'NeuroElectroData' has no attribute 'validate_observation'",
     "output_type": "error",
     "traceback": [
      "\u001b[0;31m---------------------------------------------------------------------------\u001b[0m",
      "\u001b[0;31mAttributeError\u001b[0m                            Traceback (most recent call last)",
      "\u001b[0;32m<ipython-input-2-b2c25f39b93a>\u001b[0m in \u001b[0;36m<module>\u001b[0;34m()\u001b[0m\n\u001b[1;32m     20\u001b[0m \u001b[0;32mfor\u001b[0m \u001b[0mcls\u001b[0m\u001b[0;34m,\u001b[0m\u001b[0mparams\u001b[0m \u001b[0;32min\u001b[0m \u001b[0mtest_class_params\u001b[0m\u001b[0;34m:\u001b[0m\u001b[0;34m\u001b[0m\u001b[0m\n\u001b[1;32m     21\u001b[0m     \u001b[0mneuron_\u001b[0m \u001b[0;34m=\u001b[0m \u001b[0mneuroelectro\u001b[0m\u001b[0;34m.\u001b[0m\u001b[0mNeuroElectroData\u001b[0m\u001b[0;34m.\u001b[0m\u001b[0mset_neuron\u001b[0m\u001b[0;34m(\u001b[0m\u001b[0;34m'115'\u001b[0m\u001b[0;34m)\u001b[0m\u001b[0;34m\u001b[0m\u001b[0m\n\u001b[0;32m---> 22\u001b[0;31m     \u001b[0mneuroelectro\u001b[0m\u001b[0;34m.\u001b[0m\u001b[0mNeuroElectroData\u001b[0m\u001b[0;34m.\u001b[0m\u001b[0mvalidate_observation\u001b[0m\u001b[0;34m(\u001b[0m\u001b[0;34m)\u001b[0m\u001b[0;34m\u001b[0m\u001b[0m\n\u001b[0m\u001b[1;32m     23\u001b[0m     \u001b[0mprint\u001b[0m\u001b[0;34m(\u001b[0m\u001b[0mdir\u001b[0m\u001b[0;34m(\u001b[0m\u001b[0mneuroelectro\u001b[0m\u001b[0;34m.\u001b[0m\u001b[0mNeuroElectroData\u001b[0m\u001b[0;34m)\u001b[0m\u001b[0;34m)\u001b[0m\u001b[0;34m\u001b[0m\u001b[0m\n\u001b[1;32m     24\u001b[0m     \u001b[0;31m#['n']=115\u001b[0m\u001b[0;34m\u001b[0m\u001b[0;34m\u001b[0m\u001b[0m\n",
      "\u001b[0;31mAttributeError\u001b[0m: type object 'NeuroElectroData' has no attribute 'validate_observation'"
     ]
    }
   ],
   "source": [
    "from neuronunit import tests as nu_tests, neuroelectro\n",
    "from neuronunit.tests import passive, waveform, fi\n",
    "cholinergic = {'neuron':'115'}\n",
    "import neuronunit\n",
    "from neuronunit.tests import dynamics# import ISITest, LocalVariationTest\n",
    "from neuronunit.tests.dynamics import ISITest, LocalVariationTest\n",
    "from neuronunit.tests.base import VmTest\n",
    "\n",
    "#@classmethod\n",
    "def neuroelectro_pooled_observation(neuron, cached=False, quiet=True):\n",
    "    reference_data = neuroelectro.NeuroElectroPooledSummary(\n",
    "        neuron = neuron, # Neuron type lookup using the NeuroLex ID.\n",
    "        ephysprop_name = \n",
    "        ephysprop = {'name': ephysprop_name}, # Ephys property name in\n",
    "                                                  # NeuroElectro ontology.\n",
    "        cached = cached\n",
    "        )\n",
    "    reference_data.get_values(quiet=quiet) # Get and verify summary data\n",
    "                                # from neuroelectro.org.\n",
    "    observation = {'mean': reference_data.mean#*cls.units,\n",
    "                   'std': reference_data.std#*cls.units,\n",
    "                   'n': reference_data.n}\n",
    "    return observation\n",
    "\n",
    "cholinergic = {'neuron':115}\n",
    "test_class_params = [(fi.RheobaseTest,None),\n",
    "                  (passive.InputResistanceTest,None),\n",
    "                  (passive.TimeConstantTest,None),\n",
    "                  (passive.CapacitanceTest,None),\n",
    "                  (passive.RestingPotentialTest,None),\n",
    "                  (waveform.InjectedCurrentAPWidthTest,None),\n",
    "                  (waveform.InjectedCurrentAPAmplitudeTest,None),\n",
    "                  (waveform.InjectedCurrentAPThresholdTest,None),\n",
    "                  (dynamics.ISITest,None),\n",
    "                  (dynamics.LocalVariationTest,None)\n",
    "                 ]\n",
    "chol_observations = []\n",
    "for cls,params in test_class_params:\n",
    "    neuron_ = neuroelectro.NeuroElectroData.set_neuron('115')\n",
    "    \n",
    "    VmTest.validate_observation()\n",
    "    print(dir(neuroelectro.NeuroElectroData))\n",
    "    #['n']=115\n",
    "    print(dir(cls.neuroelectro_summary_observation))\n",
    "    print(dir(cls))\n",
    "    print(cls.neuroelectro_pooled_observation(neuron_))\n",
    "\n",
    "    chol_observations.append(cls.neuroelectro_summary_observation(neuron_))\n",
    "    #print(chol_observations)\n",
    "    \n",
    "\n",
    "  \n",
    "chol_observations = inh_observations\n",
    "\n",
    "\n",
    "from neuronunit import tests as nu_tests, neuroelectro\n",
    "from neuronunit.tests import passive, waveform, fi\n",
    "cholinergic = {'neuron':'115'}\n",
    "import neuronunit\n",
    "from neuronunit.tests import dynamics# import ISITest, LocalVariationTest\n",
    "from neuronunit.tests.dynamics import ISITest, LocalVariationTest\n",
    "cholinergic = {'neuron':115}\n",
    "test_class_params = [(fi.RheobaseTest,None),\n",
    "                 (dynamics.ISITest,None),\n",
    "                 (dynamics.LocalVariationTest,None),]#,\n",
    "#params = {}\n",
    "#params['n']=115\n",
    "neuroelectro.NeuroElectroData.set_neuron('115')\n",
    "print(cholinergic)"
   ]
  },
  {
   "cell_type": "code",
   "execution_count": 8,
   "metadata": {
    "collapsed": false
   },
   "outputs": [
    {
     "name": "stdout",
     "output_type": "stream",
     "text": [
      "['__bool__', '__class__', '__delattr__', '__dir__', '__doc__', '__eq__', '__format__', '__ge__', '__getattribute__', '__gt__', '__hash__', '__init__', '__le__', '__lt__', '__ne__', '__new__', '__reduce__', '__reduce_ex__', '__repr__', '__setattr__', '__sizeof__', '__str__', '__subclasshook__']\n"
     ]
    }
   ],
   "source": [
    "print(dir(neuron_))"
   ]
  },
  {
   "cell_type": "code",
   "execution_count": 19,
   "metadata": {
    "collapsed": false
   },
   "outputs": [
    {
     "ename": "AttributeError",
     "evalue": "type object 'NeuroElectroData' has no attribute 'cached'",
     "output_type": "error",
     "traceback": [
      "\u001b[0;31m---------------------------------------------------------------------------\u001b[0m",
      "\u001b[0;31mAttributeError\u001b[0m                            Traceback (most recent call last)",
      "\u001b[0;32m<ipython-input-19-bd5ef8e810c9>\u001b[0m in \u001b[0;36m<module>\u001b[0;34m()\u001b[0m\n\u001b[0;32m----> 1\u001b[0;31m \u001b[0mneuroelectro\u001b[0m\u001b[0;34m.\u001b[0m\u001b[0mNeuroElectroData\u001b[0m\u001b[0;34m.\u001b[0m\u001b[0mget_values\u001b[0m\u001b[0;34m(\u001b[0m\u001b[0mneuroelectro\u001b[0m\u001b[0;34m.\u001b[0m\u001b[0mNeuroElectroData\u001b[0m\u001b[0;34m)\u001b[0m\u001b[0;34m\u001b[0m\u001b[0m\n\u001b[0m",
      "\u001b[0;32m~/neuronunit/neuronunit/neuroelectro.py\u001b[0m in \u001b[0;36mget_values\u001b[0;34m(self, params, quiet)\u001b[0m\n\u001b[1;32m    175\u001b[0m         \u001b[0mWe\u001b[0m \u001b[0mwill\u001b[0m \u001b[0muse\u001b[0m \u001b[0;34m'params'\u001b[0m \u001b[0;32min\u001b[0m \u001b[0mthe\u001b[0m \u001b[0mfuture\u001b[0m \u001b[0mto\u001b[0m \u001b[0mspecify\u001b[0m \u001b[0mmetadata\u001b[0m \u001b[0;34m(\u001b[0m\u001b[0me\u001b[0m\u001b[0;34m.\u001b[0m\u001b[0mg\u001b[0m\u001b[0;34m.\u001b[0m \u001b[0mtemperature\u001b[0m\u001b[0;34m)\u001b[0m\u001b[0;34m\u001b[0m\u001b[0m\n\u001b[1;32m    176\u001b[0m         that neuroelectro.org will provide.\"\"\"\n\u001b[0;32m--> 177\u001b[0;31m         \u001b[0mdb\u001b[0m \u001b[0;34m=\u001b[0m \u001b[0mshelve\u001b[0m\u001b[0;34m.\u001b[0m\u001b[0mopen\u001b[0m\u001b[0;34m(\u001b[0m\u001b[0;34m'neuroelectro-cache'\u001b[0m\u001b[0;34m)\u001b[0m \u001b[0;32mif\u001b[0m \u001b[0mself\u001b[0m\u001b[0;34m.\u001b[0m\u001b[0mcached\u001b[0m \u001b[0;32melse\u001b[0m \u001b[0;34m{\u001b[0m\u001b[0;34m}\u001b[0m\u001b[0;34m\u001b[0m\u001b[0m\n\u001b[0m\u001b[1;32m    178\u001b[0m         \u001b[0mcontents\u001b[0m \u001b[0;34m=\u001b[0m \u001b[0;34m(\u001b[0m\u001b[0mself\u001b[0m\u001b[0;34m.\u001b[0m\u001b[0m__class__\u001b[0m\u001b[0;34m,\u001b[0m\u001b[0mself\u001b[0m\u001b[0;34m.\u001b[0m\u001b[0mneuron\u001b[0m\u001b[0;34m,\u001b[0m\u001b[0mself\u001b[0m\u001b[0;34m.\u001b[0m\u001b[0mephysprop\u001b[0m\u001b[0;34m,\u001b[0m\u001b[0mparams\u001b[0m\u001b[0;34m)\u001b[0m\u001b[0;34m\u001b[0m\u001b[0m\n\u001b[1;32m    179\u001b[0m         \u001b[0;32mif\u001b[0m \u001b[0mDUMP\u001b[0m\u001b[0;34m:\u001b[0m\u001b[0;34m\u001b[0m\u001b[0m\n",
      "\u001b[0;31mAttributeError\u001b[0m: type object 'NeuroElectroData' has no attribute 'cached'"
     ]
    }
   ],
   "source": [
    "neuroelectro.NeuroElectroData.get_values(neuroelectro.NeuroElectroData)"
   ]
  },
  {
   "cell_type": "code",
   "execution_count": 20,
   "metadata": {
    "collapsed": false
   },
   "outputs": [
    {
     "ename": "TypeError",
     "evalue": "make_url() missing 1 required positional argument: 'self'",
     "output_type": "error",
     "traceback": [
      "\u001b[0;31m---------------------------------------------------------------------------\u001b[0m",
      "\u001b[0;31mTypeError\u001b[0m                                 Traceback (most recent call last)",
      "\u001b[0;32m<ipython-input-20-8403bbfcc389>\u001b[0m in \u001b[0;36m<module>\u001b[0;34m()\u001b[0m\n\u001b[0;32m----> 1\u001b[0;31m \u001b[0mneuroelectro\u001b[0m\u001b[0;34m.\u001b[0m\u001b[0mNeuroElectroData\u001b[0m\u001b[0;34m.\u001b[0m\u001b[0mget_json\u001b[0m\u001b[0;34m(\u001b[0m\u001b[0mneuroelectro\u001b[0m\u001b[0;34m.\u001b[0m\u001b[0mNeuroElectroData\u001b[0m\u001b[0;34m)\u001b[0m\u001b[0;34m\u001b[0m\u001b[0m\n\u001b[0m",
      "\u001b[0;32m~/neuronunit/neuronunit/neuroelectro.py\u001b[0m in \u001b[0;36mget_json\u001b[0;34m(self, params, quiet)\u001b[0m\n\u001b[1;32m    144\u001b[0m         \u001b[0mset\u001b[0m \u001b[0mneuron\u001b[0m \u001b[0;32mand\u001b[0m \u001b[0mephys\u001b[0m \u001b[0mproperty\u001b[0m\u001b[0;34m.\u001b[0m  \u001b[0mUse\u001b[0m \u001b[0;34m'params'\u001b[0m \u001b[0mto\u001b[0m \u001b[0mconstrain\u001b[0m \u001b[0mthe\u001b[0m\u001b[0;34m\u001b[0m\u001b[0m\n\u001b[1;32m    145\u001b[0m         data returned.\"\"\"\n\u001b[0;32m--> 146\u001b[0;31m         \u001b[0murl\u001b[0m \u001b[0;34m=\u001b[0m \u001b[0mself\u001b[0m\u001b[0;34m.\u001b[0m\u001b[0mmake_url\u001b[0m\u001b[0;34m(\u001b[0m\u001b[0mparams\u001b[0m\u001b[0;34m=\u001b[0m\u001b[0mparams\u001b[0m\u001b[0;34m)\u001b[0m\u001b[0;34m\u001b[0m\u001b[0m\n\u001b[0m\u001b[1;32m    147\u001b[0m         \u001b[0;32mif\u001b[0m \u001b[0;32mnot\u001b[0m \u001b[0mquiet\u001b[0m\u001b[0;34m:\u001b[0m\u001b[0;34m\u001b[0m\u001b[0m\n\u001b[1;32m    148\u001b[0m             \u001b[0mprint\u001b[0m\u001b[0;34m(\u001b[0m\u001b[0murl\u001b[0m\u001b[0;34m)\u001b[0m\u001b[0;34m\u001b[0m\u001b[0m\n",
      "\u001b[0;31mTypeError\u001b[0m: make_url() missing 1 required positional argument: 'self'"
     ]
    }
   ],
   "source": [
    " neuroelectro.NeuroElectroData.get_json(neuroelectro.NeuroElectroData)"
   ]
  },
  {
   "cell_type": "code",
   "execution_count": null,
   "metadata": {
    "collapsed": true
   },
   "outputs": [],
   "source": []
  }
 ],
 "metadata": {
  "kernelspec": {
   "display_name": "Python 3",
   "language": "python",
   "name": "python3"
  },
  "language_info": {
   "codemirror_mode": {
    "name": "ipython",
    "version": 3
   },
   "file_extension": ".py",
   "mimetype": "text/x-python",
   "name": "python",
   "nbconvert_exporter": "python",
   "pygments_lexer": "ipython3",
   "version": "3.5.2"
  }
 },
 "nbformat": 4,
 "nbformat_minor": 2
}
