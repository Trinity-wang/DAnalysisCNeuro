{
 "cells": [
  {
   "cell_type": "code",
   "execution_count": 3,
   "metadata": {
    "collapsed": false
   },
   "outputs": [
    {
     "name": "stdout",
     "output_type": "stream",
     "text": [
      "Collecting hbp_neuromorphic_platform\n",
      "  Downloading hbp_neuromorphic_platform-0.6.0.tar.gz\n",
      "Requirement already satisfied: requests in /opt/conda/lib/python3.5/site-packages (from hbp_neuromorphic_platform)\n",
      "Requirement already satisfied: chardet<3.1.0,>=3.0.2 in /opt/conda/lib/python3.5/site-packages (from requests->hbp_neuromorphic_platform)\n",
      "Requirement already satisfied: idna<2.7,>=2.5 in /opt/conda/lib/python3.5/site-packages (from requests->hbp_neuromorphic_platform)\n",
      "Requirement already satisfied: certifi>=2017.4.17 in /opt/conda/lib/python3.5/site-packages (from requests->hbp_neuromorphic_platform)\n",
      "Requirement already satisfied: urllib3<1.23,>=1.21.1 in /opt/conda/lib/python3.5/site-packages (from requests->hbp_neuromorphic_platform)\n",
      "Building wheels for collected packages: hbp-neuromorphic-platform\n",
      "  Running setup.py bdist_wheel for hbp-neuromorphic-platform ... \u001b[?25l-\b \b\\\b \bdone\n",
      "\u001b[?25h  Stored in directory: /home/jovyan/.cache/pip/wheels/ee/89/61/0f9f010018966688472907453c99be71637ea356e3e6969620\n",
      "Successfully built hbp-neuromorphic-platform\n",
      "Installing collected packages: hbp-neuromorphic-platform\n",
      "Successfully installed hbp-neuromorphic-platform-0.6.0\n"
     ]
    }
   ],
   "source": [
    "!pip install hbp_neuromorphic_platform"
   ]
  },
  {
   "cell_type": "code",
   "execution_count": 4,
   "metadata": {
    "collapsed": false
   },
   "outputs": [],
   "source": [
    "\n",
    "import pickle\n",
    "with open('unit_test/connections.p','rb') as f:\n",
    "   [ post_inh,pre_inh,pre_exc,post_exc] = pickle.load(f)\n",
    "\n",
    "#pre_inh = inh_cells[pre_inh]\n",
    "#post_inh = all_cells[post_inh]\n",
    "#pre_exc = exc_cells[pre_exc]\n",
    "#post_exc = all_cells[post_exc]\n"
   ]
  },
  {
   "cell_type": "code",
   "execution_count": 5,
   "metadata": {
    "collapsed": false
   },
   "outputs": [
    {
     "name": "stdout",
     "output_type": "stream",
     "text": [
      "········\n"
     ]
    }
   ],
   "source": [
    "import nmpi\n",
    "c = nmpi.Client(\"rjjarvis\")"
   ]
  },
  {
   "cell_type": "code",
   "execution_count": 11,
   "metadata": {
    "collapsed": false
   },
   "outputs": [
    {
     "data": {
      "text/plain": [
       "<nmpi.nmpi_user.Client at 0x7f7e79c6c470>"
      ]
     },
     "execution_count": 11,
     "metadata": {},
     "output_type": "execute_result"
    }
   ],
   "source": [
    "c\n"
   ]
  },
  {
   "cell_type": "code",
   "execution_count": 7,
   "metadata": {
    "collapsed": true
   },
   "outputs": [],
   "source": [
    "token = c.token"
   ]
  },
  {
   "cell_type": "code",
   "execution_count": null,
   "metadata": {
    "collapsed": false
   },
   "outputs": [],
   "source": []
  },
  {
   "cell_type": "code",
   "execution_count": 8,
   "metadata": {
    "collapsed": true
   },
   "outputs": [],
   "source": [
    "import nmpi\n",
    "c = nmpi.Client(\"rjjarvis\", token=token)"
   ]
  },
  {
   "cell_type": "code",
   "execution_count": 9,
   "metadata": {
    "collapsed": false
   },
   "outputs": [
    {
     "data": {
      "text/plain": [
       "<nmpi.nmpi_user.Client at 0x7f7e79c6c470>"
      ]
     },
     "execution_count": 9,
     "metadata": {},
     "output_type": "execute_result"
    }
   ],
   "source": [
    "c\n"
   ]
  },
  {
   "cell_type": "code",
   "execution_count": 10,
   "metadata": {
    "collapsed": false
   },
   "outputs": [
    {
     "name": "stdout",
     "output_type": "stream",
     "text": [
      "Job submitted\n"
     ]
    }
   ],
   "source": [
    "job_id = c.submit_job(source=\"neuromorphic.py\",\n",
    "                      platform=nmpi.SPINNAKER,\n",
    "                      collab_id=5458,\n",
    "                      inputs=[\"unit_test/connections.p\",\"unit_test/neuromorphic.py\"],\n",
    "                      command=\"run.py {system}\")"
   ]
  },
  {
   "cell_type": "code",
   "execution_count": null,
   "metadata": {
    "collapsed": true
   },
   "outputs": [],
   "source": []
  }
 ],
 "metadata": {
  "kernelspec": {
   "display_name": "Python 3",
   "language": "python",
   "name": "python3"
  },
  "language_info": {
   "codemirror_mode": {
    "name": "ipython",
    "version": 3
   },
   "file_extension": ".py",
   "mimetype": "text/x-python",
   "name": "python",
   "nbconvert_exporter": "python",
   "pygments_lexer": "ipython3",
   "version": "3.5.2"
  }
 },
 "nbformat": 4,
 "nbformat_minor": 2
}
